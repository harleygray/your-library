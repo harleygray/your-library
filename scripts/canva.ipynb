{
 "cells": [
  {
   "cell_type": "code",
   "execution_count": null,
   "metadata": {},
   "outputs": [],
   "source": [
    "import pandas as pd\n",
    "import numpy as np"
   ]
  },
  {
   "cell_type": "code",
   "execution_count": null,
   "metadata": {},
   "outputs": [],
   "source": [
    "item = pd.read_csv('../data/canva/item.csv')\n",
    "restaurant = pd.read_csv('../data/canva/restaurant.csv')"
   ]
  },
  {
   "cell_type": "code",
   "execution_count": null,
   "metadata": {},
   "outputs": [],
   "source": [
    "item.head()"
   ]
  },
  {
   "cell_type": "code",
   "execution_count": null,
   "metadata": {},
   "outputs": [],
   "source": [
    "type(pork_ids)\n",
    "pork_ids = pd.Series([67,77,79,74])"
   ]
  },
  {
   "cell_type": "code",
   "execution_count": null,
   "metadata": {},
   "outputs": [],
   "source": [
    "mask = item['ingredents_array'].apply(lambda x: any(row in pork_ids for row in x))\n",
    "proportion = mask.sum() / len(item)\n",
    "proportion"
   ]
  },
  {
   "cell_type": "code",
   "execution_count": null,
   "metadata": {},
   "outputs": [],
   "source": [
    "restaurant_item_count = item.groupby('restaurant_id').size().reset_index(name='item_count')\n",
    "restaurant_item_count = restaurant_item_count.sort_values(by='item_count', ascending=False)\n",
    "print(restaurant_item_count)"
   ]
  },
  {
   "cell_type": "code",
   "execution_count": null,
   "metadata": {},
   "outputs": [],
   "source": [
    "popular_dish = item['name'].value_counts()\n",
    "\n",
    "print(popular_dish.iloc[0:2])"
   ]
  },
  {
   "cell_type": "code",
   "execution_count": null,
   "metadata": {},
   "outputs": [],
   "source": [
    "restaurant.head()"
   ]
  },
  {
   "cell_type": "code",
   "execution_count": null,
   "metadata": {},
   "outputs": [],
   "source": [
    "counts = restaurant['type'].value_counts()\n",
    "total_restaurants = len(restaurant)\n",
    "\n",
    "type_proportions = counts / total_restaurants\n",
    "\n",
    "print(type_proportions)"
   ]
  }
 ],
 "metadata": {
  "language_info": {
   "name": "python"
  },
  "orig_nbformat": 4
 },
 "nbformat": 4,
 "nbformat_minor": 2
}
