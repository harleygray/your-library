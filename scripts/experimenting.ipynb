{
 "cells": [
  {
   "attachments": {},
   "cell_type": "markdown",
   "metadata": {},
   "source": [
    "# Handling Unstructured Data"
   ]
  },
  {
   "cell_type": "code",
   "execution_count": 1,
   "metadata": {},
   "outputs": [
    {
     "data": {
      "text/plain": [
       "True"
      ]
     },
     "execution_count": 1,
     "metadata": {},
     "output_type": "execute_result"
    }
   ],
   "source": [
    "from unstructured.partition.auto import partition\n",
    "from unstructured.documents.elements import *\n",
    "from unstructured.staging.weaviate import create_unstructured_weaviate_class, stage_for_weaviate\n",
    "\n",
    "import weaviate\n",
    "from weaviate.util import generate_uuid5\n",
    "\n",
    "from dotenv import load_dotenv\n",
    "import os\n",
    "import json\n",
    "from datetime import date\n",
    "import tqdm\n",
    "load_dotenv()"
   ]
  },
  {
   "cell_type": "code",
   "execution_count": 2,
   "metadata": {},
   "outputs": [],
   "source": [
    "weaviate_url = os.getenv(\"WEAVIATE_URL\")\n",
    "weaviate_api_key = os.getenv(\"WEAVIATE_API_KEY\")\n",
    "openai_api_key=os.getenv(\"OPENAI_API_KEY\")"
   ]
  },
  {
   "attachments": {},
   "cell_type": "markdown",
   "metadata": {},
   "source": [
    "## Weaviate schemas\n",
    "Schemas are patterns for data. The template that exists is a good base but this layer is ripe for customization. \n",
    "\n",
    "Allowing user input here can assist with searching later on. The recommendation engine can use tags to help put useful information in front of me. Auto-ingesting data could also use tags for reliable sources (e.g. #media)\n",
    "\n",
    "A blank text box (upload note - i like the name reverie) which would be useful for experimenting and curating a database."
   ]
  },
  {
   "attachments": {},
   "cell_type": "markdown",
   "metadata": {},
   "source": [
    "What follows is the definition a generalized 'unstructured document' class for Weaviate. Once this is working, next step is to make one for a specific use-case, e.g. abc online articles. "
   ]
  },
  {
   "cell_type": "code",
   "execution_count": 3,
   "metadata": {},
   "outputs": [],
   "source": [
    "unstructured_class = {\n",
    "    'class': 'UnstructuredDocument',\n",
    "    'description': 'General class for all documents (todo: add more specific classes)',\n",
    "    'properties': [\n",
    "        {'name': 'text', 'dataType': ['text']},\n",
    "        {'name': 'category', 'dataType': ['text']},\n",
    "        {'name': 'filename', 'dataType': ['text']},\n",
    "        {'name': 'file_directory', 'dataType': ['text']},\n",
    "        {'name': 'date', 'dataType': ['text']},\n",
    "        {'name': 'filetype', 'dataType': ['text']},\n",
    "        {'name': 'attached_to_filename', 'dataType': ['text']},\n",
    "        {'name': 'page_number', 'dataType': ['int']},\n",
    "        {'name': 'page_name', 'dataType': ['text']},\n",
    "        {'name': 'url', 'dataType': ['text']},\n",
    "        {'name': 'sent_from', 'dataType': ['text']},\n",
    "        {'name': 'sent_to', 'dataType': ['text']},\n",
    "        {'name': 'subject', 'dataType': ['text']},\n",
    "        {'name': 'header_footer_type', 'dataType': ['text']},\n",
    "        {'name': 'text_as_html', 'dataType': ['text']},\n",
    "        {'name': 'regex_metadata', 'dataType': ['text']},\n",
    "        {'name': 'tags', 'dataType': ['text']},\n",
    "        {'name': 'upload_note', 'dataType': ['text']},\n",
    "    ],\n",
    "    'vectorizer': 'text2vec-openai', \n",
    "    \"moduleConfig\": {\n",
    "        \"text2vec-openai\": {\n",
    "            \"vectorizeClassName\": False\n",
    "        }\n",
    "    },\n",
    "\n",
    "}\n",
    "\n",
    "\n",
    "client = weaviate.Client(\n",
    "    url=weaviate_url,\n",
    "    auth_client_secret=weaviate.AuthApiKey(api_key=weaviate_api_key),\n",
    "    additional_headers= {\n",
    "        \"X-OpenAI-Api-Key\": openai_api_key,\n",
    "    }\n",
    ")\n"
   ]
  },
  {
   "attachments": {},
   "cell_type": "markdown",
   "metadata": {},
   "source": [
    "## Schemas vs. classes\n",
    "Important to differentiate between schemas and classes. From GPT-4:\n",
    "\n",
    ">In Weaviate, a schema is a high-level structure that defines the types of data that can be stored in the database. It's like a blueprint for the data. A schema consists of classes and their properties.\n",
    ">\n",
    ">A class, on the other hand, is a part of the schema. It represents a concept or type of object in the database. For example, in a schema for a library database, you might have classes like \"Book\", \"Author\", and \"Publisher\". Each class has properties that define the characteristics of the objects of that class. For instance, the \"Book\" class might have properties like \"title\", \"author\", and \"publication_date\".\n",
    ">\n",
    ">Here's an analogy: If you think of the schema as a city plan, then the classes would be the different types of buildings (like houses, apartment buildings, and office buildings), and the properties would be the characteristics of those buildings (like the number of floors, the color, and the year of construction).\n",
    ">\n",
    ">In summary:\n",
    ">- A schema is the overall structure of the data in Weaviate. It defines what kinds of objects (classes) can be stored and what characteristics (properties) those objects can have.\n",
    ">- A class is a type of object in the schema. It represents a concept and has properties that define the characteristics of the objects of that class."
   ]
  },
  {
   "attachments": {},
   "cell_type": "markdown",
   "metadata": {},
   "source": [
    "## Modifying the schema\n",
    "Below code blocks are used to update the schema in Weaviate. Don't need to run this every time."
   ]
  },
  {
   "attachments": {},
   "cell_type": "markdown",
   "metadata": {},
   "source": [
    "### Create schema with the defined classes"
   ]
  },
  {
   "cell_type": "code",
   "execution_count": null,
   "metadata": {},
   "outputs": [],
   "source": [
    "schema = {\"classes\": [unstructured_class]}\n",
    "client.schema.create(schema)"
   ]
  },
  {
   "attachments": {},
   "cell_type": "markdown",
   "metadata": {},
   "source": [
    "### Print defined schemas"
   ]
  },
  {
   "cell_type": "code",
   "execution_count": null,
   "metadata": {},
   "outputs": [],
   "source": [
    "schema = client.schema.get()\n",
    "print(schema)"
   ]
  },
  {
   "attachments": {},
   "cell_type": "markdown",
   "metadata": {},
   "source": [
    "### Delete all classes in schema"
   ]
  },
  {
   "cell_type": "code",
   "execution_count": 11,
   "metadata": {},
   "outputs": [],
   "source": [
    "schema = client.schema.get()\n",
    "\n",
    "for class_info in schema['classes']:\n",
    "    class_name = class_info['class']\n",
    "    client.schema.delete_class(class_name)"
   ]
  },
  {
   "attachments": {},
   "cell_type": "markdown",
   "metadata": {},
   "source": [
    "### Show properties of the first class in the schema"
   ]
  },
  {
   "cell_type": "code",
   "execution_count": null,
   "metadata": {},
   "outputs": [],
   "source": [
    "schema = client.schema.get()\n",
    "schema['classes'][0]['properties']"
   ]
  },
  {
   "attachments": {},
   "cell_type": "markdown",
   "metadata": {},
   "source": [
    "## Ingest document data using Unstructured\n",
    "Unstructured allows essentially any file to be uploaded and text data extracted. Testing on documents in `../data/`."
   ]
  },
  {
   "cell_type": "code",
   "execution_count": 16,
   "metadata": {},
   "outputs": [
    {
     "name": "stdout",
     "output_type": "stream",
     "text": [
      "filename: Politics and the English Language - George Orwell.pdf\n",
      "file_directory: ../data\n",
      "filetype: application/pdf\n",
      "page_number: 1\n",
      "text: Politics and the English Language - George Orwell\n",
      "category: Title\n"
     ]
    }
   ],
   "source": [
    "doc_elements = partition(\"../data/Politics and the English Language - George Orwell.pdf\")\n",
    "data_objects = stage_for_weaviate(doc_elements)\n",
    "\n",
    "for key in ['filename', 'file_directory', 'filetype', 'page_number', 'text', 'category']:\n",
    "    print(\"{0}: {1}\".format(key, data_objects[0][key]))"
   ]
  },
  {
   "cell_type": "code",
   "execution_count": 19,
   "metadata": {},
   "outputs": [
    {
     "data": {
      "text/plain": [
       "dict_keys(['filename', 'file_directory', 'filetype', 'page_number', 'text', 'category'])"
      ]
     },
     "execution_count": 19,
     "metadata": {},
     "output_type": "execute_result"
    }
   ],
   "source": [
    "data_objects[0].keys()"
   ]
  },
  {
   "cell_type": "code",
   "execution_count": 14,
   "metadata": {},
   "outputs": [
    {
     "data": {
      "text/html": [
       "<div>\n",
       "<style scoped>\n",
       "    .dataframe tbody tr th:only-of-type {\n",
       "        vertical-align: middle;\n",
       "    }\n",
       "\n",
       "    .dataframe tbody tr th {\n",
       "        vertical-align: top;\n",
       "    }\n",
       "\n",
       "    .dataframe thead th {\n",
       "        text-align: right;\n",
       "    }\n",
       "</style>\n",
       "<table border=\"1\" class=\"dataframe\">\n",
       "  <thead>\n",
       "    <tr style=\"text-align: right;\">\n",
       "      <th></th>\n",
       "      <th>0</th>\n",
       "    </tr>\n",
       "  </thead>\n",
       "  <tbody>\n",
       "    <tr>\n",
       "      <th>0</th>\n",
       "      <td>Politics and the English Language - George Orw...</td>\n",
       "    </tr>\n",
       "    <tr>\n",
       "      <th>1</th>\n",
       "      <td>Politics and the English Language - George Orw...</td>\n",
       "    </tr>\n",
       "    <tr>\n",
       "      <th>2</th>\n",
       "      <td>Politics and the English Language - George Orw...</td>\n",
       "    </tr>\n",
       "    <tr>\n",
       "      <th>3</th>\n",
       "      <td>Politics and the English Language - George Orw...</td>\n",
       "    </tr>\n",
       "    <tr>\n",
       "      <th>4</th>\n",
       "      <td>Politics and the English Language - George Orw...</td>\n",
       "    </tr>\n",
       "    <tr>\n",
       "      <th>5</th>\n",
       "      <td>Politics and the English Language - George Orw...</td>\n",
       "    </tr>\n",
       "    <tr>\n",
       "      <th>6</th>\n",
       "      <td>Politics and the English Language - George Orw...</td>\n",
       "    </tr>\n",
       "    <tr>\n",
       "      <th>7</th>\n",
       "      <td>Politics and the English Language - George Orw...</td>\n",
       "    </tr>\n",
       "    <tr>\n",
       "      <th>8</th>\n",
       "      <td>Politics and the English Language - George Orw...</td>\n",
       "    </tr>\n",
       "    <tr>\n",
       "      <th>9</th>\n",
       "      <td>Politics and the English Language - George Orw...</td>\n",
       "    </tr>\n",
       "    <tr>\n",
       "      <th>10</th>\n",
       "      <td>Politics and the English Language - George Orw...</td>\n",
       "    </tr>\n",
       "    <tr>\n",
       "      <th>11</th>\n",
       "      <td>Politics and the English Language - George Orw...</td>\n",
       "    </tr>\n",
       "    <tr>\n",
       "      <th>12</th>\n",
       "      <td>Politics and the English Language - George Orw...</td>\n",
       "    </tr>\n",
       "    <tr>\n",
       "      <th>13</th>\n",
       "      <td>Politics and the English Language - George Orw...</td>\n",
       "    </tr>\n",
       "    <tr>\n",
       "      <th>14</th>\n",
       "      <td>Politics and the English Language - George Orw...</td>\n",
       "    </tr>\n",
       "    <tr>\n",
       "      <th>15</th>\n",
       "      <td>Politics and the English Language - George Orw...</td>\n",
       "    </tr>\n",
       "    <tr>\n",
       "      <th>16</th>\n",
       "      <td>Politics and the English Language - George Orw...</td>\n",
       "    </tr>\n",
       "    <tr>\n",
       "      <th>17</th>\n",
       "      <td>Politics and the English Language - George Orw...</td>\n",
       "    </tr>\n",
       "    <tr>\n",
       "      <th>18</th>\n",
       "      <td>Politics and the English Language - George Orw...</td>\n",
       "    </tr>\n",
       "    <tr>\n",
       "      <th>19</th>\n",
       "      <td>Politics and the English Language - George Orw...</td>\n",
       "    </tr>\n",
       "    <tr>\n",
       "      <th>20</th>\n",
       "      <td>Politics and the English Language - George Orw...</td>\n",
       "    </tr>\n",
       "    <tr>\n",
       "      <th>21</th>\n",
       "      <td>Politics and the English Language - George Orw...</td>\n",
       "    </tr>\n",
       "    <tr>\n",
       "      <th>22</th>\n",
       "      <td>Politics and the English Language - George Orw...</td>\n",
       "    </tr>\n",
       "    <tr>\n",
       "      <th>23</th>\n",
       "      <td>Politics and the English Language - George Orw...</td>\n",
       "    </tr>\n",
       "    <tr>\n",
       "      <th>24</th>\n",
       "      <td>Politics and the English Language - George Orw...</td>\n",
       "    </tr>\n",
       "    <tr>\n",
       "      <th>25</th>\n",
       "      <td>Politics and the English Language - George Orw...</td>\n",
       "    </tr>\n",
       "    <tr>\n",
       "      <th>26</th>\n",
       "      <td>Politics and the English Language - George Orw...</td>\n",
       "    </tr>\n",
       "    <tr>\n",
       "      <th>27</th>\n",
       "      <td>Politics and the English Language - George Orw...</td>\n",
       "    </tr>\n",
       "    <tr>\n",
       "      <th>28</th>\n",
       "      <td>Politics and the English Language - George Orw...</td>\n",
       "    </tr>\n",
       "    <tr>\n",
       "      <th>29</th>\n",
       "      <td>Politics and the English Language - George Orw...</td>\n",
       "    </tr>\n",
       "    <tr>\n",
       "      <th>30</th>\n",
       "      <td>Politics and the English Language - George Orw...</td>\n",
       "    </tr>\n",
       "    <tr>\n",
       "      <th>31</th>\n",
       "      <td>Politics and the English Language - George Orw...</td>\n",
       "    </tr>\n",
       "    <tr>\n",
       "      <th>32</th>\n",
       "      <td>Politics and the English Language - George Orw...</td>\n",
       "    </tr>\n",
       "    <tr>\n",
       "      <th>33</th>\n",
       "      <td>Politics and the English Language - George Orw...</td>\n",
       "    </tr>\n",
       "    <tr>\n",
       "      <th>34</th>\n",
       "      <td>Politics and the English Language - George Orw...</td>\n",
       "    </tr>\n",
       "    <tr>\n",
       "      <th>35</th>\n",
       "      <td>Politics and the English Language - George Orw...</td>\n",
       "    </tr>\n",
       "    <tr>\n",
       "      <th>36</th>\n",
       "      <td>Politics and the English Language - George Orw...</td>\n",
       "    </tr>\n",
       "    <tr>\n",
       "      <th>37</th>\n",
       "      <td>Politics and the English Language - George Orw...</td>\n",
       "    </tr>\n",
       "    <tr>\n",
       "      <th>38</th>\n",
       "      <td>Politics and the English Language - George Orw...</td>\n",
       "    </tr>\n",
       "    <tr>\n",
       "      <th>39</th>\n",
       "      <td>Politics and the English Language - George Orw...</td>\n",
       "    </tr>\n",
       "    <tr>\n",
       "      <th>40</th>\n",
       "      <td>Politics and the English Language - George Orw...</td>\n",
       "    </tr>\n",
       "    <tr>\n",
       "      <th>41</th>\n",
       "      <td>Politics and the English Language - George Orw...</td>\n",
       "    </tr>\n",
       "    <tr>\n",
       "      <th>42</th>\n",
       "      <td>Politics and the English Language - George Orw...</td>\n",
       "    </tr>\n",
       "    <tr>\n",
       "      <th>43</th>\n",
       "      <td>Politics and the English Language - George Orw...</td>\n",
       "    </tr>\n",
       "    <tr>\n",
       "      <th>44</th>\n",
       "      <td>Politics and the English Language - George Orw...</td>\n",
       "    </tr>\n",
       "    <tr>\n",
       "      <th>45</th>\n",
       "      <td>Politics and the English Language - George Orw...</td>\n",
       "    </tr>\n",
       "    <tr>\n",
       "      <th>46</th>\n",
       "      <td>Politics and the English Language - George Orw...</td>\n",
       "    </tr>\n",
       "    <tr>\n",
       "      <th>47</th>\n",
       "      <td>Politics and the English Language - George Orw...</td>\n",
       "    </tr>\n",
       "    <tr>\n",
       "      <th>48</th>\n",
       "      <td>Politics and the English Language - George Orw...</td>\n",
       "    </tr>\n",
       "    <tr>\n",
       "      <th>49</th>\n",
       "      <td>Politics and the English Language - George Orw...</td>\n",
       "    </tr>\n",
       "    <tr>\n",
       "      <th>50</th>\n",
       "      <td>Politics and the English Language - George Orw...</td>\n",
       "    </tr>\n",
       "    <tr>\n",
       "      <th>51</th>\n",
       "      <td>Politics and the English Language - George Orw...</td>\n",
       "    </tr>\n",
       "    <tr>\n",
       "      <th>52</th>\n",
       "      <td>Politics and the English Language - George Orw...</td>\n",
       "    </tr>\n",
       "  </tbody>\n",
       "</table>\n",
       "</div>"
      ],
      "text/plain": [
       "                                                    0\n",
       "0   Politics and the English Language - George Orw...\n",
       "1   Politics and the English Language - George Orw...\n",
       "2   Politics and the English Language - George Orw...\n",
       "3   Politics and the English Language - George Orw...\n",
       "4   Politics and the English Language - George Orw...\n",
       "5   Politics and the English Language - George Orw...\n",
       "6   Politics and the English Language - George Orw...\n",
       "7   Politics and the English Language - George Orw...\n",
       "8   Politics and the English Language - George Orw...\n",
       "9   Politics and the English Language - George Orw...\n",
       "10  Politics and the English Language - George Orw...\n",
       "11  Politics and the English Language - George Orw...\n",
       "12  Politics and the English Language - George Orw...\n",
       "13  Politics and the English Language - George Orw...\n",
       "14  Politics and the English Language - George Orw...\n",
       "15  Politics and the English Language - George Orw...\n",
       "16  Politics and the English Language - George Orw...\n",
       "17  Politics and the English Language - George Orw...\n",
       "18  Politics and the English Language - George Orw...\n",
       "19  Politics and the English Language - George Orw...\n",
       "20  Politics and the English Language - George Orw...\n",
       "21  Politics and the English Language - George Orw...\n",
       "22  Politics and the English Language - George Orw...\n",
       "23  Politics and the English Language - George Orw...\n",
       "24  Politics and the English Language - George Orw...\n",
       "25  Politics and the English Language - George Orw...\n",
       "26  Politics and the English Language - George Orw...\n",
       "27  Politics and the English Language - George Orw...\n",
       "28  Politics and the English Language - George Orw...\n",
       "29  Politics and the English Language - George Orw...\n",
       "30  Politics and the English Language - George Orw...\n",
       "31  Politics and the English Language - George Orw...\n",
       "32  Politics and the English Language - George Orw...\n",
       "33  Politics and the English Language - George Orw...\n",
       "34  Politics and the English Language - George Orw...\n",
       "35  Politics and the English Language - George Orw...\n",
       "36  Politics and the English Language - George Orw...\n",
       "37  Politics and the English Language - George Orw...\n",
       "38  Politics and the English Language - George Orw...\n",
       "39  Politics and the English Language - George Orw...\n",
       "40  Politics and the English Language - George Orw...\n",
       "41  Politics and the English Language - George Orw...\n",
       "42  Politics and the English Language - George Orw...\n",
       "43  Politics and the English Language - George Orw...\n",
       "44  Politics and the English Language - George Orw...\n",
       "45  Politics and the English Language - George Orw...\n",
       "46  Politics and the English Language - George Orw...\n",
       "47  Politics and the English Language - George Orw...\n",
       "48  Politics and the English Language - George Orw...\n",
       "49  Politics and the English Language - George Orw...\n",
       "50  Politics and the English Language - George Orw...\n",
       "51  Politics and the English Language - George Orw...\n",
       "52  Politics and the English Language - George Orw..."
      ]
     },
     "execution_count": 14,
     "metadata": {},
     "output_type": "execute_result"
    }
   ],
   "source": [
    "# show text property of data_objectin a streamlit table\n",
    "import pandas as pd\n",
    "df = pd.DataFrame([data_object['filename'] for data_object in data_objects])\n",
    "df\n"
   ]
  },
  {
   "attachments": {},
   "cell_type": "markdown",
   "metadata": {},
   "source": [
    "Not sure how much of the above data actually needs to be stored. Store it all for now, but there's likely more interesting metadata to be added here. Examples might be a sentiment analysis score, GPT-generated summary, external links and internal links, etc. \n",
    "\n",
    "Upload to Weaviate with the uploaded data fitting the defined schema:"
   ]
  },
  {
   "cell_type": "code",
   "execution_count": 36,
   "metadata": {},
   "outputs": [],
   "source": [
    "upload_note = \"hello weaviate\"\n",
    "tags = \"test, weaviate, python\"\n",
    "\n",
    "with client.batch(batch_size=10) as batch:\n",
    "    for i, d in enumerate(data_objects):  \n",
    "        properties = {\n",
    "            'category': d['category'],\n",
    "            'text': d['text'],\n",
    "            'filename': d['filename'],\n",
    "            'page_number': d['page_number'],\n",
    "            'filetype': d['filetype'],\n",
    "            'date': date.today().strftime(\"%Y-%m-%d\"),\n",
    "            'upload_note': upload_note, # testing\n",
    "            'tags': tags # testing\n",
    "        }\n",
    "        batch.add_data_object(\n",
    "            properties,\n",
    "            'UnstructuredDocument',\n",
    "            uuid=generate_uuid5(properties),\n",
    "        )"
   ]
  },
  {
   "attachments": {},
   "cell_type": "markdown",
   "metadata": {},
   "source": [
    "## Querying Weaviate\n",
    "Once the data is in Weaviate, a NearText search (to research) can be performed to find concepts similar to user input:"
   ]
  },
  {
   "cell_type": "code",
   "execution_count": 9,
   "metadata": {},
   "outputs": [],
   "source": [
    "nearText = {\"concepts\": [\"bernoulli\", \"fully visible Boltzmann machine (FVBM) model \"]}\n",
    "\n",
    "client = weaviate.Client(\n",
    "    url=weaviate_url,\n",
    "    auth_client_secret=weaviate.AuthApiKey(api_key=weaviate_api_key),\n",
    "    additional_headers= {\n",
    "        \"X-OpenAI-Api-Key\": openai_api_key,\n",
    "    }\n",
    ")\n",
    "\n",
    "\n",
    "response = (\n",
    "    client.query  # start a new query\n",
    "    .get(\"UnstructuredDocument\", [\"text\", \"upload_note\", \"tags\"])  # get objects of the \"UnstructuredDocument\" class and retrieve their \"text\" property\n",
    "    .with_near_text(nearText)  # find objects that are semantically similar to the text in \"nearText\"\n",
    "    .with_limit(6)  # limit the results to the top 2 most similar objects\n",
    "    .with_where('tags == test2')\n",
    "    .do()  # execute the query\n",
    ")\n"
   ]
  },
  {
   "cell_type": "code",
   "execution_count": 13,
   "metadata": {},
   "outputs": [
    {
     "name": "stdout",
     "output_type": "stream",
     "text": [
      "1: \n",
      "upload note: hello weaviate\n",
      "tags: test, weaviate, python\n",
      "The remainder of the article proceeds as follows. In “The fully-visible Boltzmann machine”, we descr...\n",
      "\n",
      "2: \n",
      "upload note: hello weaviate\n",
      "tags: test, weaviate, python\n",
      "The Boltzmann machine (BM) is a parametric generative graphical probabilistic artificial neural netw...\n",
      "\n",
      "3: \n",
      "upload note: hello weaviate\n",
      "tags: test, weaviate, python\n",
      "The FVBM, introduced in Hyvarinen [23], is a simplification of the BM, which does not contain a hidd...\n",
      "\n",
      "4: \n",
      "upload note: hello weaviate\n",
      "tags: test, weaviate, python\n",
      "24. Jones, A. T., Bagnall, J. J., & Nguyen, H. D. (2019). BoltzMM: An R package for maximum pseu- do...\n",
      "\n",
      "5: \n",
      "upload note: hello weaviate\n",
      "tags: test, weaviate, python\n",
      "asymptotically normal. Furthermore, in Nguyen and Wood [34], it was demon- strated that the MPLE for...\n",
      "\n",
      "6: \n",
      "upload note: hello weaviate\n",
      "tags: test, weaviate, python\n",
      "34. Nguyen, H. D., & Wood, I. A. (2016a). A block successive lower-bound maximization algorithm for ...\n",
      "\n"
     ]
    }
   ],
   "source": [
    "# extract text from response\n",
    "for i, r in enumerate(response['data']['Get']['UnstructuredDocument']):\n",
    "    print(\"{0}: \\nupload note: {1}\\ntags: {2}\\n{3}\\n\"\n",
    "    .format(i+1, r['upload_note'], r['tags'], r['text'][:100] + '...'))"
   ]
  }
 ],
 "metadata": {
  "kernelspec": {
   "display_name": "your-libary",
   "language": "python",
   "name": "python3"
  },
  "language_info": {
   "codemirror_mode": {
    "name": "ipython",
    "version": 3
   },
   "file_extension": ".py",
   "mimetype": "text/x-python",
   "name": "python",
   "nbconvert_exporter": "python",
   "pygments_lexer": "ipython3",
   "version": "3.10.11"
  },
  "orig_nbformat": 4
 },
 "nbformat": 4,
 "nbformat_minor": 2
}
