{
 "cells": [
  {
   "attachments": {},
   "cell_type": "markdown",
   "metadata": {},
   "source": [
    "Figuring out how to handle Unstructured data"
   ]
  },
  {
   "cell_type": "code",
   "execution_count": 46,
   "metadata": {},
   "outputs": [
    {
     "data": {
      "text/plain": [
       "True"
      ]
     },
     "execution_count": 46,
     "metadata": {},
     "output_type": "execute_result"
    }
   ],
   "source": [
    "from unstructured.partition.auto import partition\n",
    "from unstructured.documents.elements import *\n",
    "from unstructured.staging.weaviate import create_unstructured_weaviate_class, stage_for_weaviate\n",
    "\n",
    "import weaviate\n",
    "from weaviate.util import generate_uuid5\n",
    "\n",
    "from dotenv import load_dotenv\n",
    "import os\n",
    "load_dotenv()"
   ]
  },
  {
   "cell_type": "code",
   "execution_count": 50,
   "metadata": {},
   "outputs": [],
   "source": [
    "weaviate_url = os.getenv(\"WEAVIATE_URL\")\n",
    "weaviate_api_key = os.getenv(\"WEAVIATE_API_KEY\")\n",
    "openai_api_key=os.getenv(\"OPENAI_API_KEY\")"
   ]
  },
  {
   "attachments": {},
   "cell_type": "markdown",
   "metadata": {},
   "source": [
    "### Create a schema in Weaviate"
   ]
  },
  {
   "cell_type": "code",
   "execution_count": 52,
   "metadata": {},
   "outputs": [],
   "source": [
    "unstructured_class = create_unstructured_weaviate_class(class_name=\"UnstructuredDocument\")\n",
    "schema = {\"classes\": [unstructured_class]}\n",
    "\n",
    "client = weaviate.Client(\n",
    "    url=weaviate_url,\n",
    "    auth_client_secret=weaviate.AuthApiKey(api_key=weaviate_api_key),\n",
    "    additional_headers= {\n",
    "        \"X-OpenAI-Api-Key\": openai_api_key,\n",
    "    }\n",
    ")\n",
    "\n",
    "client.schema.create(schema)"
   ]
  },
  {
   "cell_type": "code",
   "execution_count": 53,
   "metadata": {},
   "outputs": [
    {
     "name": "stderr",
     "output_type": "stream",
     "text": [
      "  0%|          | 0/53 [00:00<?, ?it/s]\n"
     ]
    },
    {
     "ename": "KeyError",
     "evalue": "0",
     "output_type": "error",
     "traceback": [
      "\u001b[1;31m---------------------------------------------------------------------------\u001b[0m",
      "\u001b[1;31mKeyError\u001b[0m                                  Traceback (most recent call last)",
      "Cell \u001b[1;32mIn[53], line 6\u001b[0m\n\u001b[0;32m      4\u001b[0m \u001b[39mwith\u001b[39;00m client\u001b[39m.\u001b[39mbatch(batch_size\u001b[39m=\u001b[39m\u001b[39m10\u001b[39m) \u001b[39mas\u001b[39;00m batch:\n\u001b[0;32m      5\u001b[0m     \u001b[39mfor\u001b[39;00m data_object \u001b[39min\u001b[39;00m tqdm\u001b[39m.\u001b[39mtqdm(data_objects):\n\u001b[1;32m----> 6\u001b[0m         batch\u001b[39m.\u001b[39;49madd_data_object(\n\u001b[0;32m      7\u001b[0m             data_object,\n\u001b[0;32m      8\u001b[0m             unstructured_class,\n\u001b[0;32m      9\u001b[0m             uuid\u001b[39m=\u001b[39;49mgenerate_uuid5(data_object),\n\u001b[0;32m     10\u001b[0m         )\n",
      "File \u001b[1;32mc:\\Users\\Admin\\anaconda3\\envs\\your-libary\\lib\\site-packages\\weaviate\\batch\\crud_batch.py:489\u001b[0m, in \u001b[0;36mBatch.add_data_object\u001b[1;34m(self, data_object, class_name, uuid, vector)\u001b[0m\n\u001b[0;32m    445\u001b[0m \u001b[39mdef\u001b[39;00m \u001b[39madd_data_object\u001b[39m(\n\u001b[0;32m    446\u001b[0m     \u001b[39mself\u001b[39m,\n\u001b[0;32m    447\u001b[0m     data_object: \u001b[39mdict\u001b[39m,\n\u001b[1;32m   (...)\u001b[0m\n\u001b[0;32m    450\u001b[0m     vector: Optional[Sequence] \u001b[39m=\u001b[39m \u001b[39mNone\u001b[39;00m,\n\u001b[0;32m    451\u001b[0m ) \u001b[39m-\u001b[39m\u001b[39m>\u001b[39m \u001b[39mstr\u001b[39m:\n\u001b[0;32m    452\u001b[0m \u001b[39m    \u001b[39m\u001b[39m\"\"\"\u001b[39;00m\n\u001b[0;32m    453\u001b[0m \u001b[39m    Add one object to this batch.\u001b[39;00m\n\u001b[0;32m    454\u001b[0m \u001b[39m    NOTE: If the UUID of one of the objects already exists then the existing object will be\u001b[39;00m\n\u001b[1;32m   (...)\u001b[0m\n\u001b[0;32m    486\u001b[0m \u001b[39m        If 'uuid' is not of a proper form.\u001b[39;00m\n\u001b[0;32m    487\u001b[0m \u001b[39m    \"\"\"\u001b[39;00m\n\u001b[0;32m    488\u001b[0m     uuid \u001b[39m=\u001b[39m \u001b[39mself\u001b[39m\u001b[39m.\u001b[39m_objects_batch\u001b[39m.\u001b[39madd(\n\u001b[1;32m--> 489\u001b[0m         class_name\u001b[39m=\u001b[39m_capitalize_first_letter(class_name),\n\u001b[0;32m    490\u001b[0m         data_object\u001b[39m=\u001b[39mdata_object,\n\u001b[0;32m    491\u001b[0m         uuid\u001b[39m=\u001b[39muuid,\n\u001b[0;32m    492\u001b[0m         vector\u001b[39m=\u001b[39mvector,\n\u001b[0;32m    493\u001b[0m     )\n\u001b[0;32m    495\u001b[0m     \u001b[39mif\u001b[39;00m \u001b[39mself\u001b[39m\u001b[39m.\u001b[39m_batching_type:\n\u001b[0;32m    496\u001b[0m         \u001b[39mself\u001b[39m\u001b[39m.\u001b[39m_auto_create()\n",
      "File \u001b[1;32mc:\\Users\\Admin\\anaconda3\\envs\\your-libary\\lib\\site-packages\\weaviate\\util.py:497\u001b[0m, in \u001b[0;36m_capitalize_first_letter\u001b[1;34m(string)\u001b[0m\n\u001b[0;32m    495\u001b[0m \u001b[39mif\u001b[39;00m \u001b[39mlen\u001b[39m(string) \u001b[39m==\u001b[39m \u001b[39m1\u001b[39m:\n\u001b[0;32m    496\u001b[0m     \u001b[39mreturn\u001b[39;00m string\u001b[39m.\u001b[39mcapitalize()\n\u001b[1;32m--> 497\u001b[0m \u001b[39mreturn\u001b[39;00m string[\u001b[39m0\u001b[39;49m]\u001b[39m.\u001b[39mcapitalize() \u001b[39m+\u001b[39m string[\u001b[39m1\u001b[39m:]\n",
      "\u001b[1;31mKeyError\u001b[0m: 0"
     ]
    }
   ],
   "source": [
    "doc_elements = partition(\"../data/Politics and the English Language - George Orwell.pdf\")\n",
    "data_objects = stage_for_weaviate(doc_elements)\n",
    "import tqdm\n",
    "with client.batch(batch_size=10) as batch:\n",
    "    for data_object in tqdm.tqdm(data_objects):\n",
    "        batch.add_data_object(\n",
    "            data_object,\n",
    "            unstructured_class,\n",
    "            uuid=generate_uuid5(data_object),\n",
    "        )"
   ]
  }
 ],
 "metadata": {
  "kernelspec": {
   "display_name": "your-libary",
   "language": "python",
   "name": "python3"
  },
  "language_info": {
   "codemirror_mode": {
    "name": "ipython",
    "version": 3
   },
   "file_extension": ".py",
   "mimetype": "text/x-python",
   "name": "python",
   "nbconvert_exporter": "python",
   "pygments_lexer": "ipython3",
   "version": "3.10.12"
  },
  "orig_nbformat": 4
 },
 "nbformat": 4,
 "nbformat_minor": 2
}
