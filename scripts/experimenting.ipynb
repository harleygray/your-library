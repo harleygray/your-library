{
 "cells": [
  {
   "attachments": {},
   "cell_type": "markdown",
   "metadata": {},
   "source": [
    "# Handling Unstructured Data"
   ]
  },
  {
   "cell_type": "code",
   "execution_count": 1,
   "metadata": {},
   "outputs": [
    {
     "ename": "ImportError",
     "evalue": "DLL load failed while importing _imaging: The specified module could not be found.",
     "output_type": "error",
     "traceback": [
      "\u001b[1;31m---------------------------------------------------------------------------\u001b[0m",
      "\u001b[1;31mImportError\u001b[0m                               Traceback (most recent call last)",
      "Cell \u001b[1;32mIn[1], line 1\u001b[0m\n\u001b[1;32m----> 1\u001b[0m \u001b[39mfrom\u001b[39;00m \u001b[39munstructured\u001b[39;00m\u001b[39m.\u001b[39;00m\u001b[39mpartition\u001b[39;00m\u001b[39m.\u001b[39;00m\u001b[39mauto\u001b[39;00m \u001b[39mimport\u001b[39;00m partition\n\u001b[0;32m      2\u001b[0m \u001b[39mfrom\u001b[39;00m \u001b[39munstructured\u001b[39;00m\u001b[39m.\u001b[39;00m\u001b[39mdocuments\u001b[39;00m\u001b[39m.\u001b[39;00m\u001b[39melements\u001b[39;00m \u001b[39mimport\u001b[39;00m \u001b[39m*\u001b[39m\n\u001b[0;32m      3\u001b[0m \u001b[39mfrom\u001b[39;00m \u001b[39munstructured\u001b[39;00m\u001b[39m.\u001b[39;00m\u001b[39mstaging\u001b[39;00m\u001b[39m.\u001b[39;00m\u001b[39mweaviate\u001b[39;00m \u001b[39mimport\u001b[39;00m create_unstructured_weaviate_class, stage_for_weaviate\n",
      "File \u001b[1;32mc:\\Users\\ortho\\anaconda3\\envs\\your-library\\lib\\site-packages\\unstructured\\partition\\auto.py:21\u001b[0m\n\u001b[0;32m     19\u001b[0m \u001b[39mfrom\u001b[39;00m \u001b[39munstructured\u001b[39;00m\u001b[39m.\u001b[39;00m\u001b[39mpartition\u001b[39;00m\u001b[39m.\u001b[39;00m\u001b[39mepub\u001b[39;00m \u001b[39mimport\u001b[39;00m partition_epub\n\u001b[0;32m     20\u001b[0m \u001b[39mfrom\u001b[39;00m \u001b[39munstructured\u001b[39;00m\u001b[39m.\u001b[39;00m\u001b[39mpartition\u001b[39;00m\u001b[39m.\u001b[39;00m\u001b[39mhtml\u001b[39;00m \u001b[39mimport\u001b[39;00m partition_html\n\u001b[1;32m---> 21\u001b[0m \u001b[39mfrom\u001b[39;00m \u001b[39munstructured\u001b[39;00m\u001b[39m.\u001b[39;00m\u001b[39mpartition\u001b[39;00m\u001b[39m.\u001b[39;00m\u001b[39mimage\u001b[39;00m \u001b[39mimport\u001b[39;00m partition_image\n\u001b[0;32m     22\u001b[0m \u001b[39mfrom\u001b[39;00m \u001b[39munstructured\u001b[39;00m\u001b[39m.\u001b[39;00m\u001b[39mpartition\u001b[39;00m\u001b[39m.\u001b[39;00m\u001b[39mjson\u001b[39;00m \u001b[39mimport\u001b[39;00m partition_json\n\u001b[0;32m     23\u001b[0m \u001b[39mfrom\u001b[39;00m \u001b[39munstructured\u001b[39;00m\u001b[39m.\u001b[39;00m\u001b[39mpartition\u001b[39;00m\u001b[39m.\u001b[39;00m\u001b[39mmd\u001b[39;00m \u001b[39mimport\u001b[39;00m partition_md\n",
      "File \u001b[1;32mc:\\Users\\ortho\\anaconda3\\envs\\your-library\\lib\\site-packages\\unstructured\\partition\\image.py:5\u001b[0m\n\u001b[0;32m      3\u001b[0m \u001b[39mfrom\u001b[39;00m \u001b[39munstructured\u001b[39;00m\u001b[39m.\u001b[39;00m\u001b[39mdocuments\u001b[39;00m\u001b[39m.\u001b[39;00m\u001b[39melements\u001b[39;00m \u001b[39mimport\u001b[39;00m Element, process_metadata\n\u001b[0;32m      4\u001b[0m \u001b[39mfrom\u001b[39;00m \u001b[39munstructured\u001b[39;00m\u001b[39m.\u001b[39;00m\u001b[39mpartition\u001b[39;00m\u001b[39m.\u001b[39;00m\u001b[39mcommon\u001b[39;00m \u001b[39mimport\u001b[39;00m exactly_one\n\u001b[1;32m----> 5\u001b[0m \u001b[39mfrom\u001b[39;00m \u001b[39munstructured\u001b[39;00m\u001b[39m.\u001b[39;00m\u001b[39mpartition\u001b[39;00m\u001b[39m.\u001b[39;00m\u001b[39mpdf\u001b[39;00m \u001b[39mimport\u001b[39;00m partition_pdf_or_image\n\u001b[0;32m      8\u001b[0m \u001b[39m@process_metadata\u001b[39m()\n\u001b[0;32m      9\u001b[0m \u001b[39mdef\u001b[39;00m \u001b[39mpartition_image\u001b[39m(\n\u001b[0;32m     10\u001b[0m     filename: \u001b[39mstr\u001b[39m \u001b[39m=\u001b[39m \u001b[39m\"\u001b[39m\u001b[39m\"\u001b[39m,\n\u001b[1;32m   (...)\u001b[0m\n\u001b[0;32m     15\u001b[0m     \u001b[39m*\u001b[39m\u001b[39m*\u001b[39mkwargs,\n\u001b[0;32m     16\u001b[0m ) \u001b[39m-\u001b[39m\u001b[39m>\u001b[39m List[Element]:\n\u001b[0;32m     17\u001b[0m \u001b[39m    \u001b[39m\u001b[39m\"\"\"Parses an image into a list of interpreted elements.\u001b[39;00m\n\u001b[0;32m     18\u001b[0m \n\u001b[0;32m     19\u001b[0m \u001b[39m    Parameters\u001b[39;00m\n\u001b[1;32m   (...)\u001b[0m\n\u001b[0;32m     34\u001b[0m \u001b[39m        `ocr_only` mode, otherwise it will fall back to `hi_res`.\u001b[39;00m\n\u001b[0;32m     35\u001b[0m \u001b[39m    \"\"\"\u001b[39;00m\n",
      "File \u001b[1;32mc:\\Users\\ortho\\anaconda3\\envs\\your-library\\lib\\site-packages\\unstructured\\partition\\pdf.py:7\u001b[0m\n\u001b[0;32m      4\u001b[0m \u001b[39mfrom\u001b[39;00m \u001b[39mtempfile\u001b[39;00m \u001b[39mimport\u001b[39;00m SpooledTemporaryFile\n\u001b[0;32m      5\u001b[0m \u001b[39mfrom\u001b[39;00m \u001b[39mtyping\u001b[39;00m \u001b[39mimport\u001b[39;00m BinaryIO, List, Optional, Union, cast\n\u001b[1;32m----> 7\u001b[0m \u001b[39mimport\u001b[39;00m \u001b[39mpdf2image\u001b[39;00m\n\u001b[0;32m      8\u001b[0m \u001b[39mimport\u001b[39;00m \u001b[39mPIL\u001b[39;00m\n\u001b[0;32m      9\u001b[0m \u001b[39mfrom\u001b[39;00m \u001b[39mpdfminer\u001b[39;00m\u001b[39m.\u001b[39;00m\u001b[39mhigh_level\u001b[39;00m \u001b[39mimport\u001b[39;00m extract_pages\n",
      "File \u001b[1;32mc:\\Users\\ortho\\anaconda3\\envs\\your-library\\lib\\site-packages\\pdf2image\\__init__.py:5\u001b[0m\n\u001b[0;32m      1\u001b[0m \u001b[39m\"\"\"\u001b[39;00m\n\u001b[0;32m      2\u001b[0m \u001b[39m    __init__ of the pdf2image module\u001b[39;00m\n\u001b[0;32m      3\u001b[0m \u001b[39m\"\"\"\u001b[39;00m\n\u001b[1;32m----> 5\u001b[0m \u001b[39mfrom\u001b[39;00m \u001b[39m.\u001b[39;00m\u001b[39mpdf2image\u001b[39;00m \u001b[39mimport\u001b[39;00m (\n\u001b[0;32m      6\u001b[0m     convert_from_bytes,\n\u001b[0;32m      7\u001b[0m     convert_from_path,\n\u001b[0;32m      8\u001b[0m     pdfinfo_from_bytes,\n\u001b[0;32m      9\u001b[0m     pdfinfo_from_path,\n\u001b[0;32m     10\u001b[0m )\n",
      "File \u001b[1;32mc:\\Users\\ortho\\anaconda3\\envs\\your-library\\lib\\site-packages\\pdf2image\\pdf2image.py:15\u001b[0m\n\u001b[0;32m     13\u001b[0m \u001b[39mfrom\u001b[39;00m \u001b[39mtyping\u001b[39;00m \u001b[39mimport\u001b[39;00m Any, Union, Tuple, List, Dict, Callable\n\u001b[0;32m     14\u001b[0m \u001b[39mfrom\u001b[39;00m \u001b[39mpathlib\u001b[39;00m \u001b[39mimport\u001b[39;00m PurePath\n\u001b[1;32m---> 15\u001b[0m \u001b[39mfrom\u001b[39;00m \u001b[39mPIL\u001b[39;00m \u001b[39mimport\u001b[39;00m Image\n\u001b[0;32m     17\u001b[0m \u001b[39mfrom\u001b[39;00m \u001b[39mpdf2image\u001b[39;00m\u001b[39m.\u001b[39;00m\u001b[39mgenerators\u001b[39;00m \u001b[39mimport\u001b[39;00m uuid_generator, counter_generator, ThreadSafeGenerator\n\u001b[0;32m     19\u001b[0m \u001b[39mfrom\u001b[39;00m \u001b[39mpdf2image\u001b[39;00m\u001b[39m.\u001b[39;00m\u001b[39mparsers\u001b[39;00m \u001b[39mimport\u001b[39;00m (\n\u001b[0;32m     20\u001b[0m     parse_buffer_to_pgm,\n\u001b[0;32m     21\u001b[0m     parse_buffer_to_ppm,\n\u001b[0;32m     22\u001b[0m     parse_buffer_to_jpeg,\n\u001b[0;32m     23\u001b[0m     parse_buffer_to_png,\n\u001b[0;32m     24\u001b[0m )\n",
      "File \u001b[1;32mc:\\Users\\ortho\\anaconda3\\envs\\your-library\\lib\\site-packages\\PIL\\Image.py:103\u001b[0m\n\u001b[0;32m     94\u001b[0m MAX_IMAGE_PIXELS \u001b[39m=\u001b[39m \u001b[39mint\u001b[39m(\u001b[39m1024\u001b[39m \u001b[39m*\u001b[39m \u001b[39m1024\u001b[39m \u001b[39m*\u001b[39m \u001b[39m1024\u001b[39m \u001b[39m/\u001b[39m\u001b[39m/\u001b[39m \u001b[39m4\u001b[39m \u001b[39m/\u001b[39m\u001b[39m/\u001b[39m \u001b[39m3\u001b[39m)\n\u001b[0;32m     97\u001b[0m \u001b[39mtry\u001b[39;00m:\n\u001b[0;32m     98\u001b[0m     \u001b[39m# If the _imaging C module is not present, Pillow will not load.\u001b[39;00m\n\u001b[0;32m     99\u001b[0m     \u001b[39m# Note that other modules should not refer to _imaging directly;\u001b[39;00m\n\u001b[0;32m    100\u001b[0m     \u001b[39m# import Image and use the Image.core variable instead.\u001b[39;00m\n\u001b[0;32m    101\u001b[0m     \u001b[39m# Also note that Image.core is not a publicly documented interface,\u001b[39;00m\n\u001b[0;32m    102\u001b[0m     \u001b[39m# and should be considered private and subject to change.\u001b[39;00m\n\u001b[1;32m--> 103\u001b[0m     \u001b[39mfrom\u001b[39;00m \u001b[39m.\u001b[39;00m \u001b[39mimport\u001b[39;00m _imaging \u001b[39mas\u001b[39;00m core\n\u001b[0;32m    105\u001b[0m     \u001b[39mif\u001b[39;00m __version__ \u001b[39m!=\u001b[39m \u001b[39mgetattr\u001b[39m(core, \u001b[39m\"\u001b[39m\u001b[39mPILLOW_VERSION\u001b[39m\u001b[39m\"\u001b[39m, \u001b[39mNone\u001b[39;00m):\n\u001b[0;32m    106\u001b[0m         msg \u001b[39m=\u001b[39m (\n\u001b[0;32m    107\u001b[0m             \u001b[39m\"\u001b[39m\u001b[39mThe _imaging extension was built for another version of Pillow or PIL:\u001b[39m\u001b[39m\\n\u001b[39;00m\u001b[39m\"\u001b[39m\n\u001b[0;32m    108\u001b[0m             \u001b[39mf\u001b[39m\u001b[39m\"\u001b[39m\u001b[39mCore version: \u001b[39m\u001b[39m{\u001b[39;00m\u001b[39mgetattr\u001b[39m(core,\u001b[39m \u001b[39m\u001b[39m'\u001b[39m\u001b[39mPILLOW_VERSION\u001b[39m\u001b[39m'\u001b[39m,\u001b[39m \u001b[39m\u001b[39mNone\u001b[39;00m)\u001b[39m}\u001b[39;00m\u001b[39m\\n\u001b[39;00m\u001b[39m\"\u001b[39m\n\u001b[0;32m    109\u001b[0m             \u001b[39mf\u001b[39m\u001b[39m\"\u001b[39m\u001b[39mPillow version: \u001b[39m\u001b[39m{\u001b[39;00m__version__\u001b[39m}\u001b[39;00m\u001b[39m\"\u001b[39m\n\u001b[0;32m    110\u001b[0m         )\n",
      "\u001b[1;31mImportError\u001b[0m: DLL load failed while importing _imaging: The specified module could not be found."
     ]
    }
   ],
   "source": [
    "from unstructured.partition.auto import partition\n",
    "from unstructured.documents.elements import *\n",
    "from unstructured.staging.weaviate import create_unstructured_weaviate_class, stage_for_weaviate\n",
    "\n",
    "import weaviate\n",
    "from weaviate.util import generate_uuid5\n",
    "\n",
    "from dotenv import load_dotenv\n",
    "import os\n",
    "import json\n",
    "\n",
    "from datetime import date\n",
    "import tqdm\n",
    "load_dotenv()"
   ]
  },
  {
   "cell_type": "code",
   "execution_count": 2,
   "metadata": {},
   "outputs": [
    {
     "ename": "AttributeError",
     "evalue": "partially initialized module 'charset_normalizer' has no attribute 'md__mypyc' (most likely due to a circular import)",
     "output_type": "error",
     "traceback": [
      "\u001b[1;31m---------------------------------------------------------------------------\u001b[0m",
      "\u001b[1;31mModuleNotFoundError\u001b[0m                       Traceback (most recent call last)",
      "File \u001b[1;32mc:\\Users\\ortho\\anaconda3\\envs\\your-library\\lib\\site-packages\\aiohttp\\client_reqrep.py:70\u001b[0m\n\u001b[0;32m     69\u001b[0m \u001b[39mtry\u001b[39;00m:\n\u001b[1;32m---> 70\u001b[0m     \u001b[39mimport\u001b[39;00m \u001b[39mcchardet\u001b[39;00m \u001b[39mas\u001b[39;00m \u001b[39mchardet\u001b[39;00m\n\u001b[0;32m     71\u001b[0m \u001b[39mexcept\u001b[39;00m \u001b[39mImportError\u001b[39;00m:  \u001b[39m# pragma: no cover\u001b[39;00m\n",
      "\u001b[1;31mModuleNotFoundError\u001b[0m: No module named 'cchardet'",
      "\nDuring handling of the above exception, another exception occurred:\n",
      "\u001b[1;31mAttributeError\u001b[0m                            Traceback (most recent call last)",
      "Cell \u001b[1;32mIn[2], line 2\u001b[0m\n\u001b[0;32m      1\u001b[0m \u001b[39mimport\u001b[39;00m \u001b[39mweaviate\u001b[39;00m\n\u001b[1;32m----> 2\u001b[0m \u001b[39mimport\u001b[39;00m \u001b[39mopenai\u001b[39;00m\n\u001b[0;32m      3\u001b[0m weaviate_url \u001b[39m=\u001b[39m os\u001b[39m.\u001b[39mgetenv(\u001b[39m\"\u001b[39m\u001b[39mWEAVIATE_URL\u001b[39m\u001b[39m\"\u001b[39m)\n\u001b[0;32m      4\u001b[0m weaviate_api_key \u001b[39m=\u001b[39m os\u001b[39m.\u001b[39mgetenv(\u001b[39m\"\u001b[39m\u001b[39mWEAVIATE_API_KEY\u001b[39m\u001b[39m\"\u001b[39m)\n",
      "File \u001b[1;32mc:\\Users\\ortho\\anaconda3\\envs\\your-library\\lib\\site-packages\\openai\\__init__.py:19\u001b[0m\n\u001b[0;32m     15\u001b[0m     \u001b[39mimport\u001b[39;00m \u001b[39maiohttp\u001b[39;00m\n\u001b[0;32m     17\u001b[0m     \u001b[39mdel\u001b[39;00m sys\u001b[39m.\u001b[39mmodules[\u001b[39m\"\u001b[39m\u001b[39mpkg_resources\u001b[39m\u001b[39m\"\u001b[39m]\n\u001b[1;32m---> 19\u001b[0m \u001b[39mfrom\u001b[39;00m \u001b[39mopenai\u001b[39;00m\u001b[39m.\u001b[39;00m\u001b[39mapi_resources\u001b[39;00m \u001b[39mimport\u001b[39;00m (\n\u001b[0;32m     20\u001b[0m     Audio,\n\u001b[0;32m     21\u001b[0m     ChatCompletion,\n\u001b[0;32m     22\u001b[0m     Completion,\n\u001b[0;32m     23\u001b[0m     Customer,\n\u001b[0;32m     24\u001b[0m     Deployment,\n\u001b[0;32m     25\u001b[0m     Edit,\n\u001b[0;32m     26\u001b[0m     Embedding,\n\u001b[0;32m     27\u001b[0m     Engine,\n\u001b[0;32m     28\u001b[0m     ErrorObject,\n\u001b[0;32m     29\u001b[0m     File,\n\u001b[0;32m     30\u001b[0m     FineTune,\n\u001b[0;32m     31\u001b[0m     FineTuningJob,\n\u001b[0;32m     32\u001b[0m     Image,\n\u001b[0;32m     33\u001b[0m     Model,\n\u001b[0;32m     34\u001b[0m     Moderation,\n\u001b[0;32m     35\u001b[0m )\n\u001b[0;32m     36\u001b[0m \u001b[39mfrom\u001b[39;00m \u001b[39mopenai\u001b[39;00m\u001b[39m.\u001b[39;00m\u001b[39merror\u001b[39;00m \u001b[39mimport\u001b[39;00m APIError, InvalidRequestError, OpenAIError\n\u001b[0;32m     37\u001b[0m \u001b[39mfrom\u001b[39;00m \u001b[39mopenai\u001b[39;00m\u001b[39m.\u001b[39;00m\u001b[39mversion\u001b[39;00m \u001b[39mimport\u001b[39;00m VERSION\n",
      "File \u001b[1;32mc:\\Users\\ortho\\anaconda3\\envs\\your-library\\lib\\site-packages\\openai\\api_resources\\__init__.py:1\u001b[0m\n\u001b[1;32m----> 1\u001b[0m \u001b[39mfrom\u001b[39;00m \u001b[39mopenai\u001b[39;00m\u001b[39m.\u001b[39;00m\u001b[39mapi_resources\u001b[39;00m\u001b[39m.\u001b[39;00m\u001b[39maudio\u001b[39;00m \u001b[39mimport\u001b[39;00m Audio  \u001b[39m# noqa: F401\u001b[39;00m\n\u001b[0;32m      2\u001b[0m \u001b[39mfrom\u001b[39;00m \u001b[39mopenai\u001b[39;00m\u001b[39m.\u001b[39;00m\u001b[39mapi_resources\u001b[39;00m\u001b[39m.\u001b[39;00m\u001b[39mchat_completion\u001b[39;00m \u001b[39mimport\u001b[39;00m ChatCompletion  \u001b[39m# noqa: F401\u001b[39;00m\n\u001b[0;32m      3\u001b[0m \u001b[39mfrom\u001b[39;00m \u001b[39mopenai\u001b[39;00m\u001b[39m.\u001b[39;00m\u001b[39mapi_resources\u001b[39;00m\u001b[39m.\u001b[39;00m\u001b[39mcompletion\u001b[39;00m \u001b[39mimport\u001b[39;00m Completion  \u001b[39m# noqa: F401\u001b[39;00m\n",
      "File \u001b[1;32mc:\\Users\\ortho\\anaconda3\\envs\\your-library\\lib\\site-packages\\openai\\api_resources\\audio.py:4\u001b[0m\n\u001b[0;32m      1\u001b[0m \u001b[39mfrom\u001b[39;00m \u001b[39mtyping\u001b[39;00m \u001b[39mimport\u001b[39;00m Any, List\n\u001b[0;32m      3\u001b[0m \u001b[39mimport\u001b[39;00m \u001b[39mopenai\u001b[39;00m\n\u001b[1;32m----> 4\u001b[0m \u001b[39mfrom\u001b[39;00m \u001b[39mopenai\u001b[39;00m \u001b[39mimport\u001b[39;00m api_requestor, util\n\u001b[0;32m      5\u001b[0m \u001b[39mfrom\u001b[39;00m \u001b[39mopenai\u001b[39;00m\u001b[39m.\u001b[39;00m\u001b[39mapi_resources\u001b[39;00m\u001b[39m.\u001b[39;00m\u001b[39mabstract\u001b[39;00m \u001b[39mimport\u001b[39;00m APIResource\n\u001b[0;32m      8\u001b[0m \u001b[39mclass\u001b[39;00m \u001b[39mAudio\u001b[39;00m(APIResource):\n",
      "File \u001b[1;32mc:\\Users\\ortho\\anaconda3\\envs\\your-library\\lib\\site-packages\\openai\\api_requestor.py:24\u001b[0m\n\u001b[0;32m     11\u001b[0m \u001b[39mfrom\u001b[39;00m \u001b[39mtyping\u001b[39;00m \u001b[39mimport\u001b[39;00m (\n\u001b[0;32m     12\u001b[0m     AsyncGenerator,\n\u001b[0;32m     13\u001b[0m     AsyncIterator,\n\u001b[1;32m   (...)\u001b[0m\n\u001b[0;32m     20\u001b[0m     overload,\n\u001b[0;32m     21\u001b[0m )\n\u001b[0;32m     22\u001b[0m \u001b[39mfrom\u001b[39;00m \u001b[39murllib\u001b[39;00m\u001b[39m.\u001b[39;00m\u001b[39mparse\u001b[39;00m \u001b[39mimport\u001b[39;00m urlencode, urlsplit, urlunsplit\n\u001b[1;32m---> 24\u001b[0m \u001b[39mimport\u001b[39;00m \u001b[39maiohttp\u001b[39;00m\n\u001b[0;32m     25\u001b[0m \u001b[39mimport\u001b[39;00m \u001b[39mrequests\u001b[39;00m\n\u001b[0;32m     27\u001b[0m \u001b[39mif\u001b[39;00m sys\u001b[39m.\u001b[39mversion_info \u001b[39m>\u001b[39m\u001b[39m=\u001b[39m (\u001b[39m3\u001b[39m, \u001b[39m8\u001b[39m):\n",
      "File \u001b[1;32mc:\\Users\\ortho\\anaconda3\\envs\\your-library\\lib\\site-packages\\aiohttp\\__init__.py:6\u001b[0m\n\u001b[0;32m      3\u001b[0m \u001b[39mfrom\u001b[39;00m \u001b[39mtyping\u001b[39;00m \u001b[39mimport\u001b[39;00m Tuple\n\u001b[0;32m      5\u001b[0m \u001b[39mfrom\u001b[39;00m \u001b[39m.\u001b[39;00m \u001b[39mimport\u001b[39;00m hdrs \u001b[39mas\u001b[39;00m hdrs\n\u001b[1;32m----> 6\u001b[0m \u001b[39mfrom\u001b[39;00m \u001b[39m.\u001b[39;00m\u001b[39mclient\u001b[39;00m \u001b[39mimport\u001b[39;00m (\n\u001b[0;32m      7\u001b[0m     BaseConnector \u001b[39mas\u001b[39;00m BaseConnector,\n\u001b[0;32m      8\u001b[0m     ClientConnectionError \u001b[39mas\u001b[39;00m ClientConnectionError,\n\u001b[0;32m      9\u001b[0m     ClientConnectorCertificateError \u001b[39mas\u001b[39;00m ClientConnectorCertificateError,\n\u001b[0;32m     10\u001b[0m     ClientConnectorError \u001b[39mas\u001b[39;00m ClientConnectorError,\n\u001b[0;32m     11\u001b[0m     ClientConnectorSSLError \u001b[39mas\u001b[39;00m ClientConnectorSSLError,\n\u001b[0;32m     12\u001b[0m     ClientError \u001b[39mas\u001b[39;00m ClientError,\n\u001b[0;32m     13\u001b[0m     ClientHttpProxyError \u001b[39mas\u001b[39;00m ClientHttpProxyError,\n\u001b[0;32m     14\u001b[0m     ClientOSError \u001b[39mas\u001b[39;00m ClientOSError,\n\u001b[0;32m     15\u001b[0m     ClientPayloadError \u001b[39mas\u001b[39;00m ClientPayloadError,\n\u001b[0;32m     16\u001b[0m     ClientProxyConnectionError \u001b[39mas\u001b[39;00m ClientProxyConnectionError,\n\u001b[0;32m     17\u001b[0m     ClientRequest \u001b[39mas\u001b[39;00m ClientRequest,\n\u001b[0;32m     18\u001b[0m     ClientResponse \u001b[39mas\u001b[39;00m ClientResponse,\n\u001b[0;32m     19\u001b[0m     ClientResponseError \u001b[39mas\u001b[39;00m ClientResponseError,\n\u001b[0;32m     20\u001b[0m     ClientSession \u001b[39mas\u001b[39;00m ClientSession,\n\u001b[0;32m     21\u001b[0m     ClientSSLError \u001b[39mas\u001b[39;00m ClientSSLError,\n\u001b[0;32m     22\u001b[0m     ClientTimeout \u001b[39mas\u001b[39;00m ClientTimeout,\n\u001b[0;32m     23\u001b[0m     ClientWebSocketResponse \u001b[39mas\u001b[39;00m ClientWebSocketResponse,\n\u001b[0;32m     24\u001b[0m     ContentTypeError \u001b[39mas\u001b[39;00m ContentTypeError,\n\u001b[0;32m     25\u001b[0m     Fingerprint \u001b[39mas\u001b[39;00m Fingerprint,\n\u001b[0;32m     26\u001b[0m     InvalidURL \u001b[39mas\u001b[39;00m InvalidURL,\n\u001b[0;32m     27\u001b[0m     NamedPipeConnector \u001b[39mas\u001b[39;00m NamedPipeConnector,\n\u001b[0;32m     28\u001b[0m     RequestInfo \u001b[39mas\u001b[39;00m RequestInfo,\n\u001b[0;32m     29\u001b[0m     ServerConnectionError \u001b[39mas\u001b[39;00m ServerConnectionError,\n\u001b[0;32m     30\u001b[0m     ServerDisconnectedError \u001b[39mas\u001b[39;00m ServerDisconnectedError,\n\u001b[0;32m     31\u001b[0m     ServerFingerprintMismatch \u001b[39mas\u001b[39;00m ServerFingerprintMismatch,\n\u001b[0;32m     32\u001b[0m     ServerTimeoutError \u001b[39mas\u001b[39;00m ServerTimeoutError,\n\u001b[0;32m     33\u001b[0m     TCPConnector \u001b[39mas\u001b[39;00m TCPConnector,\n\u001b[0;32m     34\u001b[0m     TooManyRedirects \u001b[39mas\u001b[39;00m TooManyRedirects,\n\u001b[0;32m     35\u001b[0m     UnixConnector \u001b[39mas\u001b[39;00m UnixConnector,\n\u001b[0;32m     36\u001b[0m     WSServerHandshakeError \u001b[39mas\u001b[39;00m WSServerHandshakeError,\n\u001b[0;32m     37\u001b[0m     request \u001b[39mas\u001b[39;00m request,\n\u001b[0;32m     38\u001b[0m )\n\u001b[0;32m     39\u001b[0m \u001b[39mfrom\u001b[39;00m \u001b[39m.\u001b[39;00m\u001b[39mcookiejar\u001b[39;00m \u001b[39mimport\u001b[39;00m CookieJar \u001b[39mas\u001b[39;00m CookieJar, DummyCookieJar \u001b[39mas\u001b[39;00m DummyCookieJar\n\u001b[0;32m     40\u001b[0m \u001b[39mfrom\u001b[39;00m \u001b[39m.\u001b[39;00m\u001b[39mformdata\u001b[39;00m \u001b[39mimport\u001b[39;00m FormData \u001b[39mas\u001b[39;00m FormData\n",
      "File \u001b[1;32mc:\\Users\\ortho\\anaconda3\\envs\\your-library\\lib\\site-packages\\aiohttp\\client.py:59\u001b[0m\n\u001b[0;32m     37\u001b[0m \u001b[39mfrom\u001b[39;00m \u001b[39m.\u001b[39;00m\u001b[39mabc\u001b[39;00m \u001b[39mimport\u001b[39;00m AbstractCookieJar\n\u001b[0;32m     38\u001b[0m \u001b[39mfrom\u001b[39;00m \u001b[39m.\u001b[39;00m\u001b[39mclient_exceptions\u001b[39;00m \u001b[39mimport\u001b[39;00m (\n\u001b[0;32m     39\u001b[0m     ClientConnectionError \u001b[39mas\u001b[39;00m ClientConnectionError,\n\u001b[0;32m     40\u001b[0m     ClientConnectorCertificateError \u001b[39mas\u001b[39;00m ClientConnectorCertificateError,\n\u001b[1;32m   (...)\u001b[0m\n\u001b[0;32m     57\u001b[0m     WSServerHandshakeError \u001b[39mas\u001b[39;00m WSServerHandshakeError,\n\u001b[0;32m     58\u001b[0m )\n\u001b[1;32m---> 59\u001b[0m \u001b[39mfrom\u001b[39;00m \u001b[39m.\u001b[39;00m\u001b[39mclient_reqrep\u001b[39;00m \u001b[39mimport\u001b[39;00m (\n\u001b[0;32m     60\u001b[0m     ClientRequest \u001b[39mas\u001b[39;00m ClientRequest,\n\u001b[0;32m     61\u001b[0m     ClientResponse \u001b[39mas\u001b[39;00m ClientResponse,\n\u001b[0;32m     62\u001b[0m     Fingerprint \u001b[39mas\u001b[39;00m Fingerprint,\n\u001b[0;32m     63\u001b[0m     RequestInfo \u001b[39mas\u001b[39;00m RequestInfo,\n\u001b[0;32m     64\u001b[0m     _merge_ssl_params,\n\u001b[0;32m     65\u001b[0m )\n\u001b[0;32m     66\u001b[0m \u001b[39mfrom\u001b[39;00m \u001b[39m.\u001b[39;00m\u001b[39mclient_ws\u001b[39;00m \u001b[39mimport\u001b[39;00m ClientWebSocketResponse \u001b[39mas\u001b[39;00m ClientWebSocketResponse\n\u001b[0;32m     67\u001b[0m \u001b[39mfrom\u001b[39;00m \u001b[39m.\u001b[39;00m\u001b[39mconnector\u001b[39;00m \u001b[39mimport\u001b[39;00m (\n\u001b[0;32m     68\u001b[0m     BaseConnector \u001b[39mas\u001b[39;00m BaseConnector,\n\u001b[0;32m     69\u001b[0m     NamedPipeConnector \u001b[39mas\u001b[39;00m NamedPipeConnector,\n\u001b[0;32m     70\u001b[0m     TCPConnector \u001b[39mas\u001b[39;00m TCPConnector,\n\u001b[0;32m     71\u001b[0m     UnixConnector \u001b[39mas\u001b[39;00m UnixConnector,\n\u001b[0;32m     72\u001b[0m )\n",
      "File \u001b[1;32mc:\\Users\\ortho\\anaconda3\\envs\\your-library\\lib\\site-packages\\aiohttp\\client_reqrep.py:72\u001b[0m\n\u001b[0;32m     70\u001b[0m     \u001b[39mimport\u001b[39;00m \u001b[39mcchardet\u001b[39;00m \u001b[39mas\u001b[39;00m \u001b[39mchardet\u001b[39;00m\n\u001b[0;32m     71\u001b[0m \u001b[39mexcept\u001b[39;00m \u001b[39mImportError\u001b[39;00m:  \u001b[39m# pragma: no cover\u001b[39;00m\n\u001b[1;32m---> 72\u001b[0m     \u001b[39mimport\u001b[39;00m \u001b[39mcharset_normalizer\u001b[39;00m \u001b[39mas\u001b[39;00m \u001b[39mchardet\u001b[39;00m  \u001b[39m# type: ignore[no-redef]\u001b[39;00m\n\u001b[0;32m     75\u001b[0m __all__ \u001b[39m=\u001b[39m (\u001b[39m\"\u001b[39m\u001b[39mClientRequest\u001b[39m\u001b[39m\"\u001b[39m, \u001b[39m\"\u001b[39m\u001b[39mClientResponse\u001b[39m\u001b[39m\"\u001b[39m, \u001b[39m\"\u001b[39m\u001b[39mRequestInfo\u001b[39m\u001b[39m\"\u001b[39m, \u001b[39m\"\u001b[39m\u001b[39mFingerprint\u001b[39m\u001b[39m\"\u001b[39m)\n\u001b[0;32m     78\u001b[0m \u001b[39mif\u001b[39;00m TYPE_CHECKING:  \u001b[39m# pragma: no cover\u001b[39;00m\n",
      "File \u001b[1;32mc:\\Users\\ortho\\anaconda3\\envs\\your-library\\lib\\site-packages\\charset_normalizer\\__init__.py:23\u001b[0m\n\u001b[0;32m      1\u001b[0m \u001b[39m\"\"\"\u001b[39;00m\n\u001b[0;32m      2\u001b[0m \u001b[39mCharset-Normalizer\u001b[39;00m\n\u001b[0;32m      3\u001b[0m \u001b[39m~~~~~~~~~~~~~~\u001b[39;00m\n\u001b[1;32m   (...)\u001b[0m\n\u001b[0;32m     21\u001b[0m \u001b[39m:license: MIT, see LICENSE for more details.\u001b[39;00m\n\u001b[0;32m     22\u001b[0m \u001b[39m\"\"\"\u001b[39;00m\n\u001b[1;32m---> 23\u001b[0m \u001b[39mfrom\u001b[39;00m \u001b[39mcharset_normalizer\u001b[39;00m\u001b[39m.\u001b[39;00m\u001b[39mapi\u001b[39;00m \u001b[39mimport\u001b[39;00m from_fp, from_path, from_bytes, normalize\n\u001b[0;32m     24\u001b[0m \u001b[39mfrom\u001b[39;00m \u001b[39mcharset_normalizer\u001b[39;00m\u001b[39m.\u001b[39;00m\u001b[39mlegacy\u001b[39;00m \u001b[39mimport\u001b[39;00m detect\n\u001b[0;32m     25\u001b[0m \u001b[39mfrom\u001b[39;00m \u001b[39mcharset_normalizer\u001b[39;00m\u001b[39m.\u001b[39;00m\u001b[39mversion\u001b[39;00m \u001b[39mimport\u001b[39;00m __version__, VERSION\n",
      "File \u001b[1;32mc:\\Users\\ortho\\anaconda3\\envs\\your-library\\lib\\site-packages\\charset_normalizer\\api.py:10\u001b[0m\n\u001b[0;32m      7\u001b[0m     PathLike \u001b[39m=\u001b[39m Union[\u001b[39mstr\u001b[39m, \u001b[39m'\u001b[39m\u001b[39mos.PathLike[str]\u001b[39m\u001b[39m'\u001b[39m]  \u001b[39m# type: ignore\u001b[39;00m\n\u001b[0;32m      9\u001b[0m \u001b[39mfrom\u001b[39;00m \u001b[39mcharset_normalizer\u001b[39;00m\u001b[39m.\u001b[39;00m\u001b[39mconstant\u001b[39;00m \u001b[39mimport\u001b[39;00m TOO_SMALL_SEQUENCE, TOO_BIG_SEQUENCE, IANA_SUPPORTED\n\u001b[1;32m---> 10\u001b[0m \u001b[39mfrom\u001b[39;00m \u001b[39mcharset_normalizer\u001b[39;00m\u001b[39m.\u001b[39;00m\u001b[39mmd\u001b[39;00m \u001b[39mimport\u001b[39;00m mess_ratio\n\u001b[0;32m     11\u001b[0m \u001b[39mfrom\u001b[39;00m \u001b[39mcharset_normalizer\u001b[39;00m\u001b[39m.\u001b[39;00m\u001b[39mmodels\u001b[39;00m \u001b[39mimport\u001b[39;00m CharsetMatches, CharsetMatch\n\u001b[0;32m     12\u001b[0m \u001b[39mfrom\u001b[39;00m \u001b[39mwarnings\u001b[39;00m \u001b[39mimport\u001b[39;00m warn\n",
      "\u001b[1;31mAttributeError\u001b[0m: partially initialized module 'charset_normalizer' has no attribute 'md__mypyc' (most likely due to a circular import)"
     ]
    }
   ],
   "source": [
    "import weaviate\n",
    "import openai\n",
    "weaviate_url = os.getenv(\"WEAVIATE_URL\")\n",
    "weaviate_api_key = os.getenv(\"WEAVIATE_API_KEY\")\n",
    "openai_api_key=os.getenv(\"OPENAI_API_KEY\")"
   ]
  },
  {
   "attachments": {},
   "cell_type": "markdown",
   "metadata": {},
   "source": [
    "## Weaviate schemas\n",
    "Schemas are patterns for data. The template that exists is a good base but this layer is ripe for customization. \n",
    "\n",
    "Allowing user input here can assist with searching later on. The recommendation engine can use tags to help put useful information in front of me. Auto-ingesting data could also use tags for reliable sources (e.g. #media)\n",
    "\n",
    "A blank text box (upload note - i like the name reverie) which would be useful for experimenting and curating a database."
   ]
  },
  {
   "attachments": {},
   "cell_type": "markdown",
   "metadata": {},
   "source": [
    "What follows is the definition a generalized 'unstructured document' class for Weaviate. Once this is working, next step is to make one for a specific use-case, e.g. abc online articles. "
   ]
  },
  {
   "cell_type": "code",
   "execution_count": 3,
   "metadata": {},
   "outputs": [],
   "source": [
    "unstructured_class = {\n",
    "    'class': 'UnstructuredDocument',\n",
    "    'description': 'General class for all documents (todo: add more specific classes)',\n",
    "    'properties': [\n",
    "        {'name': 'text', 'dataType': ['text']},\n",
    "        {'name': 'category', 'dataType': ['text']},\n",
    "        {'name': 'filename', 'dataType': ['text']},\n",
    "        {'name': 'file_directory', 'dataType': ['text']},\n",
    "        {'name': 'date', 'dataType': ['text']},\n",
    "        {'name': 'filetype', 'dataType': ['text']},\n",
    "        {'name': 'attached_to_filename', 'dataType': ['text']},\n",
    "        {'name': 'page_number', 'dataType': ['int']},\n",
    "        {'name': 'page_name', 'dataType': ['text']},\n",
    "        {'name': 'url', 'dataType': ['text']},\n",
    "        {'name': 'sent_from', 'dataType': ['text']},\n",
    "        {'name': 'sent_to', 'dataType': ['text']},\n",
    "        {'name': 'subject', 'dataType': ['text']},\n",
    "        {'name': 'header_footer_type', 'dataType': ['text']},\n",
    "        {'name': 'text_as_html', 'dataType': ['text']},\n",
    "        {'name': 'regex_metadata', 'dataType': ['text']},\n",
    "        {'name': 'tags', 'dataType': ['text']},\n",
    "        {'name': 'upload_note', 'dataType': ['text']},\n",
    "    ],\n",
    "    'vectorizer': 'text2vec-openai', \n",
    "    \"moduleConfig\": {\n",
    "        \"text2vec-openai\": {\n",
    "            \"vectorizeClassName\": False\n",
    "        }\n",
    "    },\n",
    "\n",
    "}\n",
    "\n",
    "\n",
    "client = weaviate.Client(\n",
    "    url=weaviate_url,\n",
    "    auth_client_secret=weaviate.AuthApiKey(api_key=weaviate_api_key),\n",
    "    additional_headers= {\n",
    "        \"X-OpenAI-Api-Key\": openai_api_key,\n",
    "    }\n",
    ")\n"
   ]
  },
  {
   "attachments": {},
   "cell_type": "markdown",
   "metadata": {},
   "source": [
    "## Schemas vs. classes\n",
    "Important to differentiate between schemas and classes. From GPT-4:\n",
    "\n",
    ">In Weaviate, a schema is a high-level structure that defines the types of data that can be stored in the database. It's like a blueprint for the data. A schema consists of classes and their properties.\n",
    ">\n",
    ">A class, on the other hand, is a part of the schema. It represents a concept or type of object in the database. For example, in a schema for a library database, you might have classes like \"Book\", \"Author\", and \"Publisher\". Each class has properties that define the characteristics of the objects of that class. For instance, the \"Book\" class might have properties like \"title\", \"author\", and \"publication_date\".\n",
    ">\n",
    ">Here's an analogy: If you think of the schema as a city plan, then the classes would be the different types of buildings (like houses, apartment buildings, and office buildings), and the properties would be the characteristics of those buildings (like the number of floors, the color, and the year of construction).\n",
    ">\n",
    ">In summary:\n",
    ">- A schema is the overall structure of the data in Weaviate. It defines what kinds of objects (classes) can be stored and what characteristics (properties) those objects can have.\n",
    ">- A class is a type of object in the schema. It represents a concept and has properties that define the characteristics of the objects of that class."
   ]
  },
  {
   "attachments": {},
   "cell_type": "markdown",
   "metadata": {},
   "source": [
    "## Modifying the schema\n",
    "Below code blocks are used to update the schema in Weaviate. Don't need to run this every time."
   ]
  },
  {
   "attachments": {},
   "cell_type": "markdown",
   "metadata": {},
   "source": [
    "### Create schema with the defined classes"
   ]
  },
  {
   "cell_type": "code",
   "execution_count": null,
   "metadata": {},
   "outputs": [],
   "source": [
    "schema = {\"classes\": [unstructured_class]}\n",
    "client.schema.create(schema)"
   ]
  },
  {
   "attachments": {},
   "cell_type": "markdown",
   "metadata": {},
   "source": [
    "### Print defined schemas"
   ]
  },
  {
   "cell_type": "code",
   "execution_count": null,
   "metadata": {},
   "outputs": [],
   "source": [
    "schema = client.schema.get()\n",
    "print(schema)"
   ]
  },
  {
   "attachments": {},
   "cell_type": "markdown",
   "metadata": {},
   "source": [
    "### Delete all classes in schema"
   ]
  },
  {
   "cell_type": "code",
   "execution_count": 11,
   "metadata": {},
   "outputs": [],
   "source": [
    "schema = client.schema.get()\n",
    "\n",
    "for class_info in schema['classes']:\n",
    "    class_name = class_info['class']\n",
    "    client.schema.delete_class(class_name)"
   ]
  },
  {
   "attachments": {},
   "cell_type": "markdown",
   "metadata": {},
   "source": [
    "### Show properties of the first class in the schema"
   ]
  },
  {
   "cell_type": "code",
   "execution_count": null,
   "metadata": {},
   "outputs": [],
   "source": [
    "schema = client.schema.get()\n",
    "schema['classes'][0]['properties']"
   ]
  },
  {
   "attachments": {},
   "cell_type": "markdown",
   "metadata": {},
   "source": [
    "## Ingest document data using Unstructured\n",
    "Unstructured allows essentially any file to be uploaded and text data extracted. Testing on documents in `../data/`."
   ]
  },
  {
   "cell_type": "code",
   "execution_count": 16,
   "metadata": {},
   "outputs": [
    {
     "name": "stdout",
     "output_type": "stream",
     "text": [
      "filename: Politics and the English Language - George Orwell.pdf\n",
      "file_directory: ../data\n",
      "filetype: application/pdf\n",
      "page_number: 1\n",
      "text: Politics and the English Language - George Orwell\n",
      "category: Title\n"
     ]
    }
   ],
   "source": [
    "doc_elements = partition(\"../data/Politics and the English Language - George Orwell.pdf\")\n",
    "data_objects = stage_for_weaviate(doc_elements)\n",
    "\n",
    "for key in ['filename', 'file_directory', 'filetype', 'page_number', 'text', 'category']:\n",
    "    print(\"{0}: {1}\".format(key, data_objects[0][key]))"
   ]
  },
  {
   "cell_type": "code",
   "execution_count": 19,
   "metadata": {},
   "outputs": [
    {
     "data": {
      "text/plain": [
       "dict_keys(['filename', 'file_directory', 'filetype', 'page_number', 'text', 'category'])"
      ]
     },
     "execution_count": 19,
     "metadata": {},
     "output_type": "execute_result"
    }
   ],
   "source": [
    "data_objects[0].keys()"
   ]
  },
  {
   "cell_type": "code",
   "execution_count": 14,
   "metadata": {},
   "outputs": [
    {
     "data": {
      "text/html": [
       "<div>\n",
       "<style scoped>\n",
       "    .dataframe tbody tr th:only-of-type {\n",
       "        vertical-align: middle;\n",
       "    }\n",
       "\n",
       "    .dataframe tbody tr th {\n",
       "        vertical-align: top;\n",
       "    }\n",
       "\n",
       "    .dataframe thead th {\n",
       "        text-align: right;\n",
       "    }\n",
       "</style>\n",
       "<table border=\"1\" class=\"dataframe\">\n",
       "  <thead>\n",
       "    <tr style=\"text-align: right;\">\n",
       "      <th></th>\n",
       "      <th>0</th>\n",
       "    </tr>\n",
       "  </thead>\n",
       "  <tbody>\n",
       "    <tr>\n",
       "      <th>0</th>\n",
       "      <td>Politics and the English Language - George Orw...</td>\n",
       "    </tr>\n",
       "    <tr>\n",
       "      <th>1</th>\n",
       "      <td>Politics and the English Language - George Orw...</td>\n",
       "    </tr>\n",
       "    <tr>\n",
       "      <th>2</th>\n",
       "      <td>Politics and the English Language - George Orw...</td>\n",
       "    </tr>\n",
       "    <tr>\n",
       "      <th>3</th>\n",
       "      <td>Politics and the English Language - George Orw...</td>\n",
       "    </tr>\n",
       "    <tr>\n",
       "      <th>4</th>\n",
       "      <td>Politics and the English Language - George Orw...</td>\n",
       "    </tr>\n",
       "    <tr>\n",
       "      <th>5</th>\n",
       "      <td>Politics and the English Language - George Orw...</td>\n",
       "    </tr>\n",
       "    <tr>\n",
       "      <th>6</th>\n",
       "      <td>Politics and the English Language - George Orw...</td>\n",
       "    </tr>\n",
       "    <tr>\n",
       "      <th>7</th>\n",
       "      <td>Politics and the English Language - George Orw...</td>\n",
       "    </tr>\n",
       "    <tr>\n",
       "      <th>8</th>\n",
       "      <td>Politics and the English Language - George Orw...</td>\n",
       "    </tr>\n",
       "    <tr>\n",
       "      <th>9</th>\n",
       "      <td>Politics and the English Language - George Orw...</td>\n",
       "    </tr>\n",
       "    <tr>\n",
       "      <th>10</th>\n",
       "      <td>Politics and the English Language - George Orw...</td>\n",
       "    </tr>\n",
       "    <tr>\n",
       "      <th>11</th>\n",
       "      <td>Politics and the English Language - George Orw...</td>\n",
       "    </tr>\n",
       "    <tr>\n",
       "      <th>12</th>\n",
       "      <td>Politics and the English Language - George Orw...</td>\n",
       "    </tr>\n",
       "    <tr>\n",
       "      <th>13</th>\n",
       "      <td>Politics and the English Language - George Orw...</td>\n",
       "    </tr>\n",
       "    <tr>\n",
       "      <th>14</th>\n",
       "      <td>Politics and the English Language - George Orw...</td>\n",
       "    </tr>\n",
       "    <tr>\n",
       "      <th>15</th>\n",
       "      <td>Politics and the English Language - George Orw...</td>\n",
       "    </tr>\n",
       "    <tr>\n",
       "      <th>16</th>\n",
       "      <td>Politics and the English Language - George Orw...</td>\n",
       "    </tr>\n",
       "    <tr>\n",
       "      <th>17</th>\n",
       "      <td>Politics and the English Language - George Orw...</td>\n",
       "    </tr>\n",
       "    <tr>\n",
       "      <th>18</th>\n",
       "      <td>Politics and the English Language - George Orw...</td>\n",
       "    </tr>\n",
       "    <tr>\n",
       "      <th>19</th>\n",
       "      <td>Politics and the English Language - George Orw...</td>\n",
       "    </tr>\n",
       "    <tr>\n",
       "      <th>20</th>\n",
       "      <td>Politics and the English Language - George Orw...</td>\n",
       "    </tr>\n",
       "    <tr>\n",
       "      <th>21</th>\n",
       "      <td>Politics and the English Language - George Orw...</td>\n",
       "    </tr>\n",
       "    <tr>\n",
       "      <th>22</th>\n",
       "      <td>Politics and the English Language - George Orw...</td>\n",
       "    </tr>\n",
       "    <tr>\n",
       "      <th>23</th>\n",
       "      <td>Politics and the English Language - George Orw...</td>\n",
       "    </tr>\n",
       "    <tr>\n",
       "      <th>24</th>\n",
       "      <td>Politics and the English Language - George Orw...</td>\n",
       "    </tr>\n",
       "    <tr>\n",
       "      <th>25</th>\n",
       "      <td>Politics and the English Language - George Orw...</td>\n",
       "    </tr>\n",
       "    <tr>\n",
       "      <th>26</th>\n",
       "      <td>Politics and the English Language - George Orw...</td>\n",
       "    </tr>\n",
       "    <tr>\n",
       "      <th>27</th>\n",
       "      <td>Politics and the English Language - George Orw...</td>\n",
       "    </tr>\n",
       "    <tr>\n",
       "      <th>28</th>\n",
       "      <td>Politics and the English Language - George Orw...</td>\n",
       "    </tr>\n",
       "    <tr>\n",
       "      <th>29</th>\n",
       "      <td>Politics and the English Language - George Orw...</td>\n",
       "    </tr>\n",
       "    <tr>\n",
       "      <th>30</th>\n",
       "      <td>Politics and the English Language - George Orw...</td>\n",
       "    </tr>\n",
       "    <tr>\n",
       "      <th>31</th>\n",
       "      <td>Politics and the English Language - George Orw...</td>\n",
       "    </tr>\n",
       "    <tr>\n",
       "      <th>32</th>\n",
       "      <td>Politics and the English Language - George Orw...</td>\n",
       "    </tr>\n",
       "    <tr>\n",
       "      <th>33</th>\n",
       "      <td>Politics and the English Language - George Orw...</td>\n",
       "    </tr>\n",
       "    <tr>\n",
       "      <th>34</th>\n",
       "      <td>Politics and the English Language - George Orw...</td>\n",
       "    </tr>\n",
       "    <tr>\n",
       "      <th>35</th>\n",
       "      <td>Politics and the English Language - George Orw...</td>\n",
       "    </tr>\n",
       "    <tr>\n",
       "      <th>36</th>\n",
       "      <td>Politics and the English Language - George Orw...</td>\n",
       "    </tr>\n",
       "    <tr>\n",
       "      <th>37</th>\n",
       "      <td>Politics and the English Language - George Orw...</td>\n",
       "    </tr>\n",
       "    <tr>\n",
       "      <th>38</th>\n",
       "      <td>Politics and the English Language - George Orw...</td>\n",
       "    </tr>\n",
       "    <tr>\n",
       "      <th>39</th>\n",
       "      <td>Politics and the English Language - George Orw...</td>\n",
       "    </tr>\n",
       "    <tr>\n",
       "      <th>40</th>\n",
       "      <td>Politics and the English Language - George Orw...</td>\n",
       "    </tr>\n",
       "    <tr>\n",
       "      <th>41</th>\n",
       "      <td>Politics and the English Language - George Orw...</td>\n",
       "    </tr>\n",
       "    <tr>\n",
       "      <th>42</th>\n",
       "      <td>Politics and the English Language - George Orw...</td>\n",
       "    </tr>\n",
       "    <tr>\n",
       "      <th>43</th>\n",
       "      <td>Politics and the English Language - George Orw...</td>\n",
       "    </tr>\n",
       "    <tr>\n",
       "      <th>44</th>\n",
       "      <td>Politics and the English Language - George Orw...</td>\n",
       "    </tr>\n",
       "    <tr>\n",
       "      <th>45</th>\n",
       "      <td>Politics and the English Language - George Orw...</td>\n",
       "    </tr>\n",
       "    <tr>\n",
       "      <th>46</th>\n",
       "      <td>Politics and the English Language - George Orw...</td>\n",
       "    </tr>\n",
       "    <tr>\n",
       "      <th>47</th>\n",
       "      <td>Politics and the English Language - George Orw...</td>\n",
       "    </tr>\n",
       "    <tr>\n",
       "      <th>48</th>\n",
       "      <td>Politics and the English Language - George Orw...</td>\n",
       "    </tr>\n",
       "    <tr>\n",
       "      <th>49</th>\n",
       "      <td>Politics and the English Language - George Orw...</td>\n",
       "    </tr>\n",
       "    <tr>\n",
       "      <th>50</th>\n",
       "      <td>Politics and the English Language - George Orw...</td>\n",
       "    </tr>\n",
       "    <tr>\n",
       "      <th>51</th>\n",
       "      <td>Politics and the English Language - George Orw...</td>\n",
       "    </tr>\n",
       "    <tr>\n",
       "      <th>52</th>\n",
       "      <td>Politics and the English Language - George Orw...</td>\n",
       "    </tr>\n",
       "  </tbody>\n",
       "</table>\n",
       "</div>"
      ],
      "text/plain": [
       "                                                    0\n",
       "0   Politics and the English Language - George Orw...\n",
       "1   Politics and the English Language - George Orw...\n",
       "2   Politics and the English Language - George Orw...\n",
       "3   Politics and the English Language - George Orw...\n",
       "4   Politics and the English Language - George Orw...\n",
       "5   Politics and the English Language - George Orw...\n",
       "6   Politics and the English Language - George Orw...\n",
       "7   Politics and the English Language - George Orw...\n",
       "8   Politics and the English Language - George Orw...\n",
       "9   Politics and the English Language - George Orw...\n",
       "10  Politics and the English Language - George Orw...\n",
       "11  Politics and the English Language - George Orw...\n",
       "12  Politics and the English Language - George Orw...\n",
       "13  Politics and the English Language - George Orw...\n",
       "14  Politics and the English Language - George Orw...\n",
       "15  Politics and the English Language - George Orw...\n",
       "16  Politics and the English Language - George Orw...\n",
       "17  Politics and the English Language - George Orw...\n",
       "18  Politics and the English Language - George Orw...\n",
       "19  Politics and the English Language - George Orw...\n",
       "20  Politics and the English Language - George Orw...\n",
       "21  Politics and the English Language - George Orw...\n",
       "22  Politics and the English Language - George Orw...\n",
       "23  Politics and the English Language - George Orw...\n",
       "24  Politics and the English Language - George Orw...\n",
       "25  Politics and the English Language - George Orw...\n",
       "26  Politics and the English Language - George Orw...\n",
       "27  Politics and the English Language - George Orw...\n",
       "28  Politics and the English Language - George Orw...\n",
       "29  Politics and the English Language - George Orw...\n",
       "30  Politics and the English Language - George Orw...\n",
       "31  Politics and the English Language - George Orw...\n",
       "32  Politics and the English Language - George Orw...\n",
       "33  Politics and the English Language - George Orw...\n",
       "34  Politics and the English Language - George Orw...\n",
       "35  Politics and the English Language - George Orw...\n",
       "36  Politics and the English Language - George Orw...\n",
       "37  Politics and the English Language - George Orw...\n",
       "38  Politics and the English Language - George Orw...\n",
       "39  Politics and the English Language - George Orw...\n",
       "40  Politics and the English Language - George Orw...\n",
       "41  Politics and the English Language - George Orw...\n",
       "42  Politics and the English Language - George Orw...\n",
       "43  Politics and the English Language - George Orw...\n",
       "44  Politics and the English Language - George Orw...\n",
       "45  Politics and the English Language - George Orw...\n",
       "46  Politics and the English Language - George Orw...\n",
       "47  Politics and the English Language - George Orw...\n",
       "48  Politics and the English Language - George Orw...\n",
       "49  Politics and the English Language - George Orw...\n",
       "50  Politics and the English Language - George Orw...\n",
       "51  Politics and the English Language - George Orw...\n",
       "52  Politics and the English Language - George Orw..."
      ]
     },
     "execution_count": 14,
     "metadata": {},
     "output_type": "execute_result"
    }
   ],
   "source": [
    "# show text property of data_objectin a streamlit table\n",
    "import pandas as pd\n",
    "df = pd.DataFrame([data_object['filename'] for data_object in data_objects])\n",
    "df\n"
   ]
  },
  {
   "attachments": {},
   "cell_type": "markdown",
   "metadata": {},
   "source": [
    "Not sure how much of the above data actually needs to be stored. Store it all for now, but there's likely more interesting metadata to be added here. Examples might be a sentiment analysis score, GPT-generated summary, external links and internal links, etc. \n",
    "\n",
    "Upload to Weaviate with the uploaded data fitting the defined schema:"
   ]
  },
  {
   "cell_type": "code",
   "execution_count": 36,
   "metadata": {},
   "outputs": [],
   "source": [
    "upload_note = \"hello weaviate\"\n",
    "tags = \"test, weaviate, python\"\n",
    "\n",
    "with client.batch(batch_size=10) as batch:\n",
    "    for i, d in enumerate(data_objects):  \n",
    "        properties = {\n",
    "            'category': d['category'],\n",
    "            'text': d['text'],\n",
    "            'filename': d['filename'],\n",
    "            'page_number': d['page_number'],\n",
    "            'filetype': d['filetype'],\n",
    "            'date': date.today().strftime(\"%Y-%m-%d\"),\n",
    "            'upload_note': upload_note, # testing\n",
    "            'tags': tags # testing\n",
    "        }\n",
    "        batch.add_data_object(\n",
    "            properties,\n",
    "            'UnstructuredDocument',\n",
    "            uuid=generate_uuid5(properties),\n",
    "        )"
   ]
  },
  {
   "attachments": {},
   "cell_type": "markdown",
   "metadata": {},
   "source": [
    "## Querying Weaviate\n",
    "Once the data is in Weaviate, a NearText search (to research) can be performed to find concepts similar to user input:"
   ]
  },
  {
   "cell_type": "code",
   "execution_count": 6,
   "metadata": {},
   "outputs": [],
   "source": [
    "nearText = {\"concepts\": [\"climate\", \"science\"]}\n",
    "\n",
    "client = weaviate.Client(\n",
    "    url=weaviate_url,\n",
    "    auth_client_secret=weaviate.AuthApiKey(api_key=weaviate_api_key),\n",
    "    additional_headers= {\n",
    "        \"X-OpenAI-Api-Key\": openai_api_key,\n",
    "    }\n",
    ")\n",
    "\n",
    "\n",
    "response = (\n",
    "    client.query  # start a new query\n",
    "    .get(\"UnstructuredDocument\", [\"text\", \"upload_note\", \"tags\"])  # get objects of the \"UnstructuredDocument\" class and retrieve their \"text\" property\n",
    "    .with_near_text(nearText)  # find objects that are semantically similar to the text in \"nearText\"\n",
    "    .with_limit(4)  # limit the results to the top 2 most similar objects\n",
    "    .with_where({\n",
    "        \"path\": [\"tags\"],\n",
    "        \"operator\": \"Equal\",\n",
    "        \"valueString\": \"OneNation\"\n",
    "    })\n",
    "    .do()  # execute the query\n",
    ")\n",
    "\n"
   ]
  },
  {
   "cell_type": "code",
   "execution_count": 9,
   "metadata": {},
   "outputs": [],
   "source": [
    "import weaviate\n",
    "from dotenv import load_dotenv\n",
    "import os\n",
    "\n",
    "weaviate_url = os.getenv(\"WEAVIATE_URL\")\n",
    "weaviate_api_key = os.getenv(\"WEAVIATE_API_KEY\")\n",
    "openai_api_key=os.getenv(\"OPENAI_API_KEY\")\n",
    "\n",
    "load_dotenv()\n",
    "\n",
    "client = weaviate.Client(\n",
    "    url=weaviate_url,\n",
    "    auth_client_secret=weaviate.AuthApiKey(api_key=weaviate_api_key),\n",
    "    additional_headers= {\n",
    "        \"X-OpenAI-Api-Key\": openai_api_key,\n",
    "    }\n",
    ")\n",
    "\n",
    "nearText = {\"concepts\": [\"climate change\", \"science\"]}\n",
    "\n",
    "response = (\n",
    "    client.query  # start a new query\n",
    "    .get(\"UnstructuredDocument\", [\"text\", \"filename\", \"upload_note\", \"tags\"])  \n",
    "    .with_near_text(nearText)  \n",
    "    .with_limit(4) \n",
    "    .with_where({\n",
    "        \"path\": [\"tags\"],\n",
    "        \"operator\": \"Equal\",\n",
    "        \"valueString\": \"Nationals\"\n",
    "    })\n",
    "    .do() \n",
    ")"
   ]
  },
  {
   "cell_type": "code",
   "execution_count": 10,
   "metadata": {},
   "outputs": [
    {
     "data": {
      "text/plain": [
       "{'data': {'Get': {'UnstructuredDocument': [{'filename': 'The Nationals - Our Plan for the Great Barrier Reef.pdf',\n",
       "     'tags': 'Nationals',\n",
       "     'text': 'The Coalition’s investments in marine science are already benefitting ocean ecosystems and coastal communities. Australia is at the cutting edge of global efforts to help coral reefs adapt to climate change. By accelerating our restoration and adaptation projects, we’re improving coral resilience and helping to secure the Reef’s future. For example, more than 200 Australian marine scientists are working on how to protect and rebuild coral reefs on an industrial scale. This puts us at the centre of global efforts on reef restoration and, importantly, we’re sharing these solutions with our Pacific neighbours.',\n",
       "     'upload_note': ''},\n",
       "    {'filename': 'The Nationals - Our Plan for the Great Barrier Reef.pdf',\n",
       "     'tags': 'Nationals',\n",
       "     'text': 'Oceans, coral reefs and connected coastal ecosystems like seagrass meadows, mangroves and wetlands play a vital role in removing carbon dioxide from our atmosphere. Our Great Barrier Reef ecosystem is one of the world’s most powerful blue carbon sites.',\n",
       "     'upload_note': ''},\n",
       "    {'filename': 'The Nationals - Our Plan for the Great Barrier Reef.pdf',\n",
       "     'tags': 'Nationals',\n",
       "     'text': 'A re-elected Coalition Government will: invest $95.6 million to accelerate research aimed at helping the reef adapt to climate change and roll out the next phase of our Reef Restoration and Adaptation Program, including bringing forward reef seeding and stabilisation to boost coral resilience to a changing climate.; provide $63.6 million for the Australian Institute of Marine Science (AIMS), supporting thousands of jobs and businesses, including: $26.5 million to remediate the Australian Institute of Marine Science Cape Cleveland wharf, south of Townsville and $1.5 million in ongoing funding to maintain it.; $37.1 million to increase AIMS’ capability to deliver the critical marine science that protects and preserves oceans and coral reefs. Part of this capability building includes $5.3 million for design work on a replacement for the AIMS research vessel, RV Cape Ferguson.',\n",
       "     'upload_note': ''},\n",
       "    {'filename': 'The Nationals - Our Plan for the Great Barrier Reef.pdf',\n",
       "     'tags': 'Nationals',\n",
       "     'text': 'Our strong plan for the Reef builds on the Coalition’s existing environmental policies: the National Landcare Program supporting conservation efforts across the country.; protecting threatened species and restoring habitats through the Environment Restoration Fund.; keeping oceans healthy and resilient through our $100 million Oceans Leadership Package and marine bioregional plans.; investing in new technology to better detect, collect and dispose of deadly ghost nets lost at sea or abandoned by foreign fishing vessels.; expanding Australia’s Indigenous Protected Areas, for both land and sea country, bringing total protection to more than 115 million hectares.; ongoing investment in low emissions technologies and energy efficiency measures to support households, businesses and the environment.',\n",
       "     'upload_note': ''}]}}}"
      ]
     },
     "execution_count": 10,
     "metadata": {},
     "output_type": "execute_result"
    }
   ],
   "source": [
    "response"
   ]
  },
  {
   "cell_type": "code",
   "execution_count": 7,
   "metadata": {},
   "outputs": [
    {
     "ename": "KeyError",
     "evalue": "'data'",
     "output_type": "error",
     "traceback": [
      "\u001b[1;31m---------------------------------------------------------------------------\u001b[0m",
      "\u001b[1;31mKeyError\u001b[0m                                  Traceback (most recent call last)",
      "Cell \u001b[1;32mIn[7], line 2\u001b[0m\n\u001b[0;32m      1\u001b[0m \u001b[39m# extract text from response\u001b[39;00m\n\u001b[1;32m----> 2\u001b[0m \u001b[39mfor\u001b[39;00m i, r \u001b[39min\u001b[39;00m \u001b[39menumerate\u001b[39m(response[\u001b[39m'\u001b[39;49m\u001b[39mdata\u001b[39;49m\u001b[39m'\u001b[39;49m][\u001b[39m'\u001b[39m\u001b[39mGet\u001b[39m\u001b[39m'\u001b[39m][\u001b[39m'\u001b[39m\u001b[39mUnstructuredDocument\u001b[39m\u001b[39m'\u001b[39m]):\n\u001b[0;32m      3\u001b[0m     \u001b[39mprint\u001b[39m(\u001b[39m\"\u001b[39m\u001b[39m{0}\u001b[39;00m\u001b[39m: \u001b[39m\u001b[39m\\n\u001b[39;00m\u001b[39mupload note: \u001b[39m\u001b[39m{1}\u001b[39;00m\u001b[39m\\n\u001b[39;00m\u001b[39mtags: \u001b[39m\u001b[39m{2}\u001b[39;00m\u001b[39m\\n\u001b[39;00m\u001b[39m{3}\u001b[39;00m\u001b[39m\\n\u001b[39;00m\u001b[39m\"\u001b[39m\n\u001b[0;32m      4\u001b[0m     \u001b[39m.\u001b[39mformat(i\u001b[39m+\u001b[39m\u001b[39m1\u001b[39m, r[\u001b[39m'\u001b[39m\u001b[39mupload_note\u001b[39m\u001b[39m'\u001b[39m], r[\u001b[39m'\u001b[39m\u001b[39mtags\u001b[39m\u001b[39m'\u001b[39m], r[\u001b[39m'\u001b[39m\u001b[39mtext\u001b[39m\u001b[39m'\u001b[39m][:\u001b[39m100\u001b[39m] \u001b[39m+\u001b[39m \u001b[39m'\u001b[39m\u001b[39m...\u001b[39m\u001b[39m'\u001b[39m))\n",
      "\u001b[1;31mKeyError\u001b[0m: 'data'"
     ]
    }
   ],
   "source": [
    "# extract text from response\n",
    "for i, r in enumerate(response['data']['Get']['UnstructuredDocument']):\n",
    "    print(\"{0}: \\nupload note: {1}\\ntags: {2}\\n{3}\\n\"\n",
    "    .format(i+1, r['upload_note'], r['tags'], r['text'][:100] + '...'))"
   ]
  }
 ],
 "metadata": {
  "kernelspec": {
   "display_name": "your-libary",
   "language": "python",
   "name": "python3"
  },
  "language_info": {
   "codemirror_mode": {
    "name": "ipython",
    "version": 3
   },
   "file_extension": ".py",
   "mimetype": "text/x-python",
   "name": "python",
   "nbconvert_exporter": "python",
   "pygments_lexer": "ipython3",
   "version": "3.10.11"
  },
  "orig_nbformat": 4
 },
 "nbformat": 4,
 "nbformat_minor": 2
}
