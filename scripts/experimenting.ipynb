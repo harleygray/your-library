{
 "cells": [
  {
   "attachments": {},
   "cell_type": "markdown",
   "metadata": {},
   "source": [
    "Figuring out how to handle Unstructured data"
   ]
  },
  {
   "cell_type": "code",
   "execution_count": 1,
   "metadata": {},
   "outputs": [
    {
     "data": {
      "text/plain": [
       "True"
      ]
     },
     "execution_count": 1,
     "metadata": {},
     "output_type": "execute_result"
    }
   ],
   "source": [
    "from unstructured.partition.auto import partition\n",
    "from unstructured.documents.elements import *\n",
    "from unstructured.staging.weaviate import create_unstructured_weaviate_class, stage_for_weaviate\n",
    "\n",
    "import weaviate\n",
    "from weaviate.util import generate_uuid5\n",
    "\n",
    "from dotenv import load_dotenv\n",
    "import os\n",
    "import json\n",
    "from datetime import date\n",
    "import tqdm\n",
    "load_dotenv()"
   ]
  },
  {
   "cell_type": "code",
   "execution_count": 2,
   "metadata": {},
   "outputs": [],
   "source": [
    "weaviate_url = os.getenv(\"WEAVIATE_URL\")\n",
    "weaviate_api_key = os.getenv(\"WEAVIATE_API_KEY\")\n",
    "openai_api_key=os.getenv(\"OPENAI_API_KEY\")"
   ]
  },
  {
   "attachments": {},
   "cell_type": "markdown",
   "metadata": {},
   "source": [
    "### Create a schema in Weaviate"
   ]
  },
  {
   "cell_type": "code",
   "execution_count": 35,
   "metadata": {},
   "outputs": [],
   "source": [
    "unstructured_class = {\n",
    "    'class': 'UnstructuredDocument',\n",
    "    'description': 'General class for all documents (todo: add more specific classes)',\n",
    "    'properties': [\n",
    "        {'name': 'text', 'dataType': ['text']},\n",
    "        {'name': 'category', 'dataType': ['text']},\n",
    "        {'name': 'filename', 'dataType': ['text']},\n",
    "        {'name': 'file_directory', 'dataType': ['text']},\n",
    "        {'name': 'date', 'dataType': ['text']},\n",
    "        {'name': 'filetype', 'dataType': ['text']},\n",
    "        {'name': 'attached_to_filename', 'dataType': ['text']},\n",
    "        {'name': 'page_number', 'dataType': ['int']},\n",
    "        {'name': 'page_name', 'dataType': ['text']},\n",
    "        {'name': 'url', 'dataType': ['text']},\n",
    "        {'name': 'sent_from', 'dataType': ['text']},\n",
    "        {'name': 'sent_to', 'dataType': ['text']},\n",
    "        {'name': 'subject', 'dataType': ['text']},\n",
    "        {'name': 'header_footer_type', 'dataType': ['text']},\n",
    "        {'name': 'text_as_html', 'dataType': ['text']},\n",
    "        {'name': 'regex_metadata', 'dataType': ['text']}\n",
    "    ],\n",
    "    'vectorizer': 'text2vec-openai', \n",
    "    \"moduleConfig\": {\n",
    "        \"text2vec-openai\": {\n",
    "            \"vectorizeClassName\": False\n",
    "        }\n",
    "    },\n",
    "\n",
    "}\n",
    "\n",
    "\n",
    "client = weaviate.Client(\n",
    "    url=weaviate_url,\n",
    "    auth_client_secret=weaviate.AuthApiKey(api_key=weaviate_api_key),\n",
    "    additional_headers= {\n",
    "        \"X-OpenAI-Api-Key\": openai_api_key,\n",
    "    }\n",
    ")\n"
   ]
  },
  {
   "cell_type": "code",
   "execution_count": 12,
   "metadata": {},
   "outputs": [
    {
     "name": "stdout",
     "output_type": "stream",
     "text": [
      "{'classes': [{'class': 'UnstructuredDocument', 'description': 'General class for all documents (todo: add more specific classes)', 'invertedIndexConfig': {'bm25': {'b': 0.75, 'k1': 1.2}, 'cleanupIntervalSeconds': 60, 'stopwords': {'additions': None, 'preset': 'en', 'removals': None}}, 'moduleConfig': {'text2vec-openai': {'model': 'ada', 'modelVersion': '002', 'type': 'text', 'vectorizeClassName': False}}, 'properties': [{'dataType': ['text'], 'indexFilterable': True, 'indexSearchable': True, 'moduleConfig': {'text2vec-openai': {'skip': False, 'vectorizePropertyName': False}}, 'name': 'text', 'tokenization': 'word'}, {'dataType': ['text'], 'indexFilterable': True, 'indexSearchable': True, 'moduleConfig': {'text2vec-openai': {'skip': False, 'vectorizePropertyName': False}}, 'name': 'category', 'tokenization': 'word'}, {'dataType': ['text'], 'indexFilterable': True, 'indexSearchable': True, 'moduleConfig': {'text2vec-openai': {'skip': False, 'vectorizePropertyName': False}}, 'name': 'filename', 'tokenization': 'word'}, {'dataType': ['text'], 'indexFilterable': True, 'indexSearchable': True, 'moduleConfig': {'text2vec-openai': {'skip': False, 'vectorizePropertyName': False}}, 'name': 'file_directory', 'tokenization': 'word'}, {'dataType': ['text'], 'indexFilterable': True, 'indexSearchable': True, 'moduleConfig': {'text2vec-openai': {'skip': False, 'vectorizePropertyName': False}}, 'name': 'date', 'tokenization': 'word'}, {'dataType': ['text'], 'indexFilterable': True, 'indexSearchable': True, 'moduleConfig': {'text2vec-openai': {'skip': False, 'vectorizePropertyName': False}}, 'name': 'filetype', 'tokenization': 'word'}, {'dataType': ['text'], 'indexFilterable': True, 'indexSearchable': True, 'moduleConfig': {'text2vec-openai': {'skip': False, 'vectorizePropertyName': False}}, 'name': 'attached_to_filename', 'tokenization': 'word'}, {'dataType': ['int'], 'indexFilterable': True, 'indexSearchable': False, 'moduleConfig': {'text2vec-openai': {'skip': False, 'vectorizePropertyName': False}}, 'name': 'page_number'}, {'dataType': ['text'], 'indexFilterable': True, 'indexSearchable': True, 'moduleConfig': {'text2vec-openai': {'skip': False, 'vectorizePropertyName': False}}, 'name': 'page_name', 'tokenization': 'word'}, {'dataType': ['text'], 'indexFilterable': True, 'indexSearchable': True, 'moduleConfig': {'text2vec-openai': {'skip': False, 'vectorizePropertyName': False}}, 'name': 'url', 'tokenization': 'word'}, {'dataType': ['text'], 'indexFilterable': True, 'indexSearchable': True, 'moduleConfig': {'text2vec-openai': {'skip': False, 'vectorizePropertyName': False}}, 'name': 'sent_from', 'tokenization': 'word'}, {'dataType': ['text'], 'indexFilterable': True, 'indexSearchable': True, 'moduleConfig': {'text2vec-openai': {'skip': False, 'vectorizePropertyName': False}}, 'name': 'sent_to', 'tokenization': 'word'}, {'dataType': ['text'], 'indexFilterable': True, 'indexSearchable': True, 'moduleConfig': {'text2vec-openai': {'skip': False, 'vectorizePropertyName': False}}, 'name': 'subject', 'tokenization': 'word'}, {'dataType': ['text'], 'indexFilterable': True, 'indexSearchable': True, 'moduleConfig': {'text2vec-openai': {'skip': False, 'vectorizePropertyName': False}}, 'name': 'header_footer_type', 'tokenization': 'word'}, {'dataType': ['text'], 'indexFilterable': True, 'indexSearchable': True, 'moduleConfig': {'text2vec-openai': {'skip': False, 'vectorizePropertyName': False}}, 'name': 'text_as_html', 'tokenization': 'word'}, {'dataType': ['text'], 'indexFilterable': True, 'indexSearchable': True, 'moduleConfig': {'text2vec-openai': {'skip': False, 'vectorizePropertyName': False}}, 'name': 'regex_metadata', 'tokenization': 'word'}], 'replicationConfig': {'factor': 1}, 'shardingConfig': {'virtualPerPhysical': 128, 'desiredCount': 1, 'actualCount': 1, 'desiredVirtualCount': 128, 'actualVirtualCount': 128, 'key': '_id', 'strategy': 'hash', 'function': 'murmur3'}, 'vectorIndexConfig': {'skip': False, 'cleanupIntervalSeconds': 300, 'maxConnections': 64, 'efConstruction': 128, 'ef': -1, 'dynamicEfMin': 100, 'dynamicEfMax': 500, 'dynamicEfFactor': 8, 'vectorCacheMaxObjects': 1000000000000, 'flatSearchCutoff': 40000, 'distance': 'cosine', 'pq': {'enabled': False, 'bitCompression': False, 'segments': 0, 'centroids': 256, 'encoder': {'type': 'kmeans', 'distribution': 'log-normal'}}}, 'vectorIndexType': 'hnsw', 'vectorizer': 'text2vec-openai'}]}\n"
     ]
    }
   ],
   "source": [
    "\n",
    "schema = {\"classes\": [unstructured_class]}\n",
    "client.schema.create(schema)\n",
    "# print the schema\n",
    "\n",
    "schema = client.schema.get()\n",
    "print(schema)\n"
   ]
  },
  {
   "cell_type": "code",
   "execution_count": 38,
   "metadata": {},
   "outputs": [
    {
     "name": "stdout",
     "output_type": "stream",
     "text": [
      "{'classes': [{'class': 'UnstructuredDocument', 'description': 'General class for all documents (todo: add more specific classes)', 'invertedIndexConfig': {'bm25': {'b': 0.75, 'k1': 1.2}, 'cleanupIntervalSeconds': 60, 'stopwords': {'additions': None, 'preset': 'en', 'removals': None}}, 'moduleConfig': {'text2vec-openai': {'model': 'ada', 'modelVersion': '002', 'type': 'text', 'vectorizeClassName': False}}, 'properties': [{'dataType': ['text'], 'indexFilterable': True, 'indexSearchable': True, 'moduleConfig': {'text2vec-openai': {'skip': False, 'vectorizePropertyName': False}}, 'name': 'text', 'tokenization': 'word'}, {'dataType': ['text'], 'indexFilterable': True, 'indexSearchable': True, 'moduleConfig': {'text2vec-openai': {'skip': False, 'vectorizePropertyName': False}}, 'name': 'category', 'tokenization': 'word'}, {'dataType': ['text'], 'indexFilterable': True, 'indexSearchable': True, 'moduleConfig': {'text2vec-openai': {'skip': False, 'vectorizePropertyName': False}}, 'name': 'filename', 'tokenization': 'word'}, {'dataType': ['text'], 'indexFilterable': True, 'indexSearchable': True, 'moduleConfig': {'text2vec-openai': {'skip': False, 'vectorizePropertyName': False}}, 'name': 'file_directory', 'tokenization': 'word'}, {'dataType': ['text'], 'indexFilterable': True, 'indexSearchable': True, 'moduleConfig': {'text2vec-openai': {'skip': False, 'vectorizePropertyName': False}}, 'name': 'date', 'tokenization': 'word'}, {'dataType': ['text'], 'indexFilterable': True, 'indexSearchable': True, 'moduleConfig': {'text2vec-openai': {'skip': False, 'vectorizePropertyName': False}}, 'name': 'filetype', 'tokenization': 'word'}, {'dataType': ['text'], 'indexFilterable': True, 'indexSearchable': True, 'moduleConfig': {'text2vec-openai': {'skip': False, 'vectorizePropertyName': False}}, 'name': 'attached_to_filename', 'tokenization': 'word'}, {'dataType': ['int'], 'indexFilterable': True, 'indexSearchable': False, 'moduleConfig': {'text2vec-openai': {'skip': False, 'vectorizePropertyName': False}}, 'name': 'page_number'}, {'dataType': ['text'], 'indexFilterable': True, 'indexSearchable': True, 'moduleConfig': {'text2vec-openai': {'skip': False, 'vectorizePropertyName': False}}, 'name': 'page_name', 'tokenization': 'word'}, {'dataType': ['text'], 'indexFilterable': True, 'indexSearchable': True, 'moduleConfig': {'text2vec-openai': {'skip': False, 'vectorizePropertyName': False}}, 'name': 'url', 'tokenization': 'word'}, {'dataType': ['text'], 'indexFilterable': True, 'indexSearchable': True, 'moduleConfig': {'text2vec-openai': {'skip': False, 'vectorizePropertyName': False}}, 'name': 'sent_from', 'tokenization': 'word'}, {'dataType': ['text'], 'indexFilterable': True, 'indexSearchable': True, 'moduleConfig': {'text2vec-openai': {'skip': False, 'vectorizePropertyName': False}}, 'name': 'sent_to', 'tokenization': 'word'}, {'dataType': ['text'], 'indexFilterable': True, 'indexSearchable': True, 'moduleConfig': {'text2vec-openai': {'skip': False, 'vectorizePropertyName': False}}, 'name': 'subject', 'tokenization': 'word'}, {'dataType': ['text'], 'indexFilterable': True, 'indexSearchable': True, 'moduleConfig': {'text2vec-openai': {'skip': False, 'vectorizePropertyName': False}}, 'name': 'header_footer_type', 'tokenization': 'word'}, {'dataType': ['text'], 'indexFilterable': True, 'indexSearchable': True, 'moduleConfig': {'text2vec-openai': {'skip': False, 'vectorizePropertyName': False}}, 'name': 'text_as_html', 'tokenization': 'word'}, {'dataType': ['text'], 'indexFilterable': True, 'indexSearchable': True, 'moduleConfig': {'text2vec-openai': {'skip': False, 'vectorizePropertyName': False}}, 'name': 'regex_metadata', 'tokenization': 'word'}], 'replicationConfig': {'factor': 1}, 'shardingConfig': {'virtualPerPhysical': 128, 'desiredCount': 1, 'actualCount': 1, 'desiredVirtualCount': 128, 'actualVirtualCount': 128, 'key': '_id', 'strategy': 'hash', 'function': 'murmur3'}, 'vectorIndexConfig': {'skip': False, 'cleanupIntervalSeconds': 300, 'maxConnections': 64, 'efConstruction': 128, 'ef': -1, 'dynamicEfMin': 100, 'dynamicEfMax': 500, 'dynamicEfFactor': 8, 'vectorCacheMaxObjects': 1000000000000, 'flatSearchCutoff': 40000, 'distance': 'cosine', 'pq': {'enabled': False, 'bitCompression': False, 'segments': 0, 'centroids': 256, 'encoder': {'type': 'kmeans', 'distribution': 'log-normal'}}}, 'vectorIndexType': 'hnsw', 'vectorizer': 'text2vec-openai'}]}\n"
     ]
    }
   ],
   "source": [
    "schema = client.schema.get()\n",
    "print(schema)"
   ]
  },
  {
   "attachments": {},
   "cell_type": "markdown",
   "metadata": {},
   "source": [
    "# Delete all classes"
   ]
  },
  {
   "cell_type": "code",
   "execution_count": 11,
   "metadata": {},
   "outputs": [],
   "source": [
    "# get the schema\n",
    "schema = client.schema.get()\n",
    "\n",
    "for class_info in schema['classes']:\n",
    "    class_name = class_info['class']\n",
    "    client.schema.delete_class(class_name)\n",
    "\n"
   ]
  },
  {
   "cell_type": "code",
   "execution_count": 16,
   "metadata": {},
   "outputs": [
    {
     "data": {
      "text/plain": [
       "[{'dataType': ['text'],\n",
       "  'indexFilterable': True,\n",
       "  'indexSearchable': True,\n",
       "  'moduleConfig': {'text2vec-openai': {'skip': False,\n",
       "    'vectorizePropertyName': False}},\n",
       "  'name': 'text',\n",
       "  'tokenization': 'word'},\n",
       " {'dataType': ['text'],\n",
       "  'indexFilterable': True,\n",
       "  'indexSearchable': True,\n",
       "  'moduleConfig': {'text2vec-openai': {'skip': False,\n",
       "    'vectorizePropertyName': False}},\n",
       "  'name': 'category',\n",
       "  'tokenization': 'word'},\n",
       " {'dataType': ['text'],\n",
       "  'indexFilterable': True,\n",
       "  'indexSearchable': True,\n",
       "  'moduleConfig': {'text2vec-openai': {'skip': False,\n",
       "    'vectorizePropertyName': False}},\n",
       "  'name': 'filename',\n",
       "  'tokenization': 'word'},\n",
       " {'dataType': ['text'],\n",
       "  'indexFilterable': True,\n",
       "  'indexSearchable': True,\n",
       "  'moduleConfig': {'text2vec-openai': {'skip': False,\n",
       "    'vectorizePropertyName': False}},\n",
       "  'name': 'file_directory',\n",
       "  'tokenization': 'word'},\n",
       " {'dataType': ['text'],\n",
       "  'indexFilterable': True,\n",
       "  'indexSearchable': True,\n",
       "  'moduleConfig': {'text2vec-openai': {'skip': False,\n",
       "    'vectorizePropertyName': False}},\n",
       "  'name': 'date',\n",
       "  'tokenization': 'word'},\n",
       " {'dataType': ['text'],\n",
       "  'indexFilterable': True,\n",
       "  'indexSearchable': True,\n",
       "  'moduleConfig': {'text2vec-openai': {'skip': False,\n",
       "    'vectorizePropertyName': False}},\n",
       "  'name': 'filetype',\n",
       "  'tokenization': 'word'},\n",
       " {'dataType': ['text'],\n",
       "  'indexFilterable': True,\n",
       "  'indexSearchable': True,\n",
       "  'moduleConfig': {'text2vec-openai': {'skip': False,\n",
       "    'vectorizePropertyName': False}},\n",
       "  'name': 'attached_to_filename',\n",
       "  'tokenization': 'word'},\n",
       " {'dataType': ['int'],\n",
       "  'indexFilterable': True,\n",
       "  'indexSearchable': False,\n",
       "  'moduleConfig': {'text2vec-openai': {'skip': False,\n",
       "    'vectorizePropertyName': False}},\n",
       "  'name': 'page_number'},\n",
       " {'dataType': ['text'],\n",
       "  'indexFilterable': True,\n",
       "  'indexSearchable': True,\n",
       "  'moduleConfig': {'text2vec-openai': {'skip': False,\n",
       "    'vectorizePropertyName': False}},\n",
       "  'name': 'page_name',\n",
       "  'tokenization': 'word'},\n",
       " {'dataType': ['text'],\n",
       "  'indexFilterable': True,\n",
       "  'indexSearchable': True,\n",
       "  'moduleConfig': {'text2vec-openai': {'skip': False,\n",
       "    'vectorizePropertyName': False}},\n",
       "  'name': 'url',\n",
       "  'tokenization': 'word'},\n",
       " {'dataType': ['text'],\n",
       "  'indexFilterable': True,\n",
       "  'indexSearchable': True,\n",
       "  'moduleConfig': {'text2vec-openai': {'skip': False,\n",
       "    'vectorizePropertyName': False}},\n",
       "  'name': 'sent_from',\n",
       "  'tokenization': 'word'},\n",
       " {'dataType': ['text'],\n",
       "  'indexFilterable': True,\n",
       "  'indexSearchable': True,\n",
       "  'moduleConfig': {'text2vec-openai': {'skip': False,\n",
       "    'vectorizePropertyName': False}},\n",
       "  'name': 'sent_to',\n",
       "  'tokenization': 'word'},\n",
       " {'dataType': ['text'],\n",
       "  'indexFilterable': True,\n",
       "  'indexSearchable': True,\n",
       "  'moduleConfig': {'text2vec-openai': {'skip': False,\n",
       "    'vectorizePropertyName': False}},\n",
       "  'name': 'subject',\n",
       "  'tokenization': 'word'},\n",
       " {'dataType': ['text'],\n",
       "  'indexFilterable': True,\n",
       "  'indexSearchable': True,\n",
       "  'moduleConfig': {'text2vec-openai': {'skip': False,\n",
       "    'vectorizePropertyName': False}},\n",
       "  'name': 'header_footer_type',\n",
       "  'tokenization': 'word'},\n",
       " {'dataType': ['text'],\n",
       "  'indexFilterable': True,\n",
       "  'indexSearchable': True,\n",
       "  'moduleConfig': {'text2vec-openai': {'skip': False,\n",
       "    'vectorizePropertyName': False}},\n",
       "  'name': 'text_as_html',\n",
       "  'tokenization': 'word'},\n",
       " {'dataType': ['text'],\n",
       "  'indexFilterable': True,\n",
       "  'indexSearchable': True,\n",
       "  'moduleConfig': {'text2vec-openai': {'skip': False,\n",
       "    'vectorizePropertyName': False}},\n",
       "  'name': 'regex_metadata',\n",
       "  'tokenization': 'word'}]"
      ]
     },
     "execution_count": 16,
     "metadata": {},
     "output_type": "execute_result"
    }
   ],
   "source": [
    "schema['classes'][0]['properties']"
   ]
  },
  {
   "cell_type": "code",
   "execution_count": 23,
   "metadata": {},
   "outputs": [
    {
     "name": "stdout",
     "output_type": "stream",
     "text": [
      "filename: Politics and the English Language - George Orwell.pdf\n",
      "file_directory: ../data\n",
      "filetype: application/pdf\n",
      "page_number: 1\n",
      "text: Politics and the English Language - George Orwell\n",
      "category: Title\n"
     ]
    }
   ],
   "source": [
    "\n",
    "\n",
    "for key in ['filename', 'file_directory', 'filetype', 'page_number', 'text', 'category']:\n",
    "    print(\"{0}: {1}\".format(key, data_objects[0][key]))"
   ]
  },
  {
   "cell_type": "code",
   "execution_count": 28,
   "metadata": {},
   "outputs": [
    {
     "name": "stdout",
     "output_type": "stream",
     "text": [
      "Today's date: 2023-07-04\n"
     ]
    }
   ],
   "source": [
    "# get current date as string in format YYYY-MM-DD\n",
    "today = date.today()\n",
    "today = today.strftime(\"%Y-%m-%d\")\n",
    "print(\"Today's date:\", today)\n"
   ]
  },
  {
   "cell_type": "code",
   "execution_count": 32,
   "metadata": {},
   "outputs": [],
   "source": [
    "doc_elements = partition(\"../data/Politics and the English Language - George Orwell.pdf\")\n",
    "data_objects = stage_for_weaviate(doc_elements)\n",
    "\n"
   ]
  },
  {
   "cell_type": "code",
   "execution_count": null,
   "metadata": {},
   "outputs": [],
   "source": []
  },
  {
   "cell_type": "code",
   "execution_count": 36,
   "metadata": {},
   "outputs": [],
   "source": [
    "\n",
    "with client.batch(batch_size=10) as batch:\n",
    "    for i, d in enumerate(data_objects):  \n",
    "        properties = {\n",
    "            'category': d['category'],\n",
    "            'text': d['text'],\n",
    "            'filename': d['filename'],\n",
    "            'page_number': d['page_number'],\n",
    "            'filetype': d['filetype'],\n",
    "            'date': date.today().strftime(\"%Y-%m-%d\")\n",
    "        }\n",
    "        batch.add_data_object(\n",
    "            properties,\n",
    "            'UnstructuredDocument',\n",
    "            uuid=generate_uuid5(properties),\n",
    "        )"
   ]
  },
  {
   "cell_type": "code",
   "execution_count": 41,
   "metadata": {},
   "outputs": [
    {
     "name": "stdout",
     "output_type": "stream",
     "text": [
      "{\n",
      "    \"data\": {\n",
      "        \"Get\": {\n",
      "            \"UnstructuredDocument\": [\n",
      "                {\n",
      "                    \"text\": \"Dying metaphors. A newly invented metaphor assists thought by evoking a visual image, while on the other hand a metaphor which is technically \\\"dead\\\" (e.g. iron resolution) has in effect reverted to being an ordinary word and can generally be used without loss of vividness. But in between these two classes there is a huge dump of worn-out metaphors which have lost all evocative power and are merely used because they save people the trouble of inventing phrases for themselves. Examples are: Ring the changes on, take up the cudgel for, toe the line, ride roughshod over, stand shoulder to shoulder with, play into the hands of, no axe to grind, grist to the mill, fishing in troubled waters, on the order of the day, Achilles' heel, swan song, hotbed. Many of these are used without knowledge of their meaning (what is a \\\"rift,\\\" for instance?), and incompatible metaphors are frequently mixed, a sure sign that the writer is not interested in what he is saying. Some metaphors now current have been twisted out of their original meaning withouth those who use them even being aware of the fact. For example, toe the line is sometimes written as tow the line. Another example is the hammer and the anvil, now always used with the implication that the anvil gets the worst of it. In real life it is always the anvil that breaks the hammer, never the other way about: a writer who stopped to think what he was saying would avoid perverting the original phrase.\"\n",
      "                },\n",
      "                {\n",
      "                    \"text\": \"In our time it is broadly true that political writing is bad writing. Where it is not true, it will generally be found that the writer is some kind of rebel, expressing his private opinions and not a \\\"party line.\\\" Orthodoxy, of whatever color, seems to demand a lifeless, imitative style. The political dialects to be found in pamphlets, leading articles, manifestoes, White papers and the speeches of undersecretaries do, of course, vary from party to party, but they are all alike in that one almost never finds in them a fresh, vivid, homemade turn of speech. When one watches some tired hack on the platform mechanically repeating the familiar phrases -- bestial atrocities, iron heel, bloodstained tyranny, free peoples of the world, stand shoulder to shoulder -- one often has a curious feeling that one is not watching a live human being but some kind of dummy: a feeling which suddenly becomes stronger at moments when the light catches the speaker's spectacles and turns them into blank discs which seem to have no eyes behind them. And this is not altogether fanciful. A speaker who uses that kind of phraseology has gone some distance toward turning himself into a machine. The appropriate noises are coming out of his larynx, but his brain is not involved as it would be if he were choosing his words for himself. If the speech he is making is one that he is accustomed to make over and over again, he may be almost unconscious of what he is saying, as one is when one utters the responses in church. And this reduced state of consciousness, if not indispensable, is at any rate favorable to political conformity.\"\n",
      "                }\n",
      "            ]\n",
      "        }\n",
      "    }\n",
      "}\n"
     ]
    }
   ],
   "source": [
    "nearText = {\"concepts\": [\"cliche\"]}\n",
    "\n",
    "response = (\n",
    "    client.query\n",
    "    .get(\"UnstructuredDocument\", [\"text\"])\n",
    "    .with_near_text(nearText)\n",
    "    .with_limit(2)\n",
    "    .do()\n",
    ")\n",
    "\n",
    "print(json.dumps(response, indent=4))"
   ]
  },
  {
   "cell_type": "code",
   "execution_count": 37,
   "metadata": {},
   "outputs": [
    {
     "ename": "TypeError",
     "evalue": "'Query' object is not callable",
     "output_type": "error",
     "traceback": [
      "\u001b[1;31m---------------------------------------------------------------------------\u001b[0m",
      "\u001b[1;31mTypeError\u001b[0m                                 Traceback (most recent call last)",
      "Cell \u001b[1;32mIn[37], line 23\u001b[0m\n\u001b[0;32m      6\u001b[0m query \u001b[39m=\u001b[39m \u001b[39mf\u001b[39m\u001b[39m\"\"\"\u001b[39m\n\u001b[0;32m      7\u001b[0m \u001b[39m\u001b[39m\u001b[39m{{\u001b[39;00m\n\u001b[0;32m      8\u001b[0m \u001b[39m  Get \u001b[39m\u001b[39m{{\u001b[39;00m\n\u001b[1;32m   (...)\u001b[0m\n\u001b[0;32m     19\u001b[0m \u001b[39m\u001b[39m\u001b[39m}}\u001b[39;00m\n\u001b[0;32m     20\u001b[0m \u001b[39m\u001b[39m\u001b[39m\"\"\"\u001b[39m\n\u001b[0;32m     22\u001b[0m \u001b[39m# run the query\u001b[39;00m\n\u001b[1;32m---> 23\u001b[0m result \u001b[39m=\u001b[39m client\u001b[39m.\u001b[39;49mquery(query)\n\u001b[0;32m     25\u001b[0m \u001b[39m# print the result\u001b[39;00m\n\u001b[0;32m     26\u001b[0m \u001b[39mprint\u001b[39m(result)\n",
      "\u001b[1;31mTypeError\u001b[0m: 'Query' object is not callable"
     ]
    }
   ],
   "source": [
    "\n",
    "# iterate over all classes and get all objects\n",
    "for class_info in schema['classes']:\n",
    "    class_name = 'UnstructuredDocument'\n",
    "    \n",
    "    # construct the GraphQL query\n",
    "    query = f\"\"\"\n",
    "    {{\n",
    "      Get {{\n",
    "        {class_name} {{\n",
    "          _additional {{\n",
    "            id\n",
    "          }}\n",
    "          ... on {class_name} {{\n",
    "            text\n",
    "            page_number\n",
    "          }}\n",
    "        }}\n",
    "      }}\n",
    "    }}\n",
    "    \"\"\"\n",
    "    \n",
    "    # run the query\n",
    "    result = client.query(query)\n",
    "    \n",
    "    # print the result\n",
    "    print(result)"
   ]
  }
 ],
 "metadata": {
  "kernelspec": {
   "display_name": "your-libary",
   "language": "python",
   "name": "python3"
  },
  "language_info": {
   "codemirror_mode": {
    "name": "ipython",
    "version": 3
   },
   "file_extension": ".py",
   "mimetype": "text/x-python",
   "name": "python",
   "nbconvert_exporter": "python",
   "pygments_lexer": "ipython3",
   "version": "3.10.11"
  },
  "orig_nbformat": 4
 },
 "nbformat": 4,
 "nbformat_minor": 2
}
