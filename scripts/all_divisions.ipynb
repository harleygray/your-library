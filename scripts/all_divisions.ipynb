{
 "cells": [
  {
   "cell_type": "code",
   "execution_count": 4,
   "metadata": {},
   "outputs": [],
   "source": [
    "from fetch_divisions import fetch_divisions\n",
    "import os\n",
    "from dotenv import load_dotenv\n",
    "load_dotenv()\n",
    "from datetime import datetime, timedelta"
   ]
  },
  {
   "cell_type": "code",
   "execution_count": 5,
   "metadata": {},
   "outputs": [],
   "source": [
    "api_key = os.getenv(\"TVFY_API_KEY\")\n"
   ]
  },
  {
   "cell_type": "code",
   "execution_count": 6,
   "metadata": {},
   "outputs": [],
   "source": [
    "def run_fetch_divisions(api_key):\n",
    "    # Define end_date as today and start_date as '2022-06-26'\n",
    "    end_date = datetime.strptime('2023-10-31', '%Y-%m-%d')\n",
    "    start_date = datetime.strptime('2022-06-26', '%Y-%m-%d')\n",
    "\n",
    "    # Loop from end_date to start_date in 1-week increments\n",
    "    while end_date >= start_date:\n",
    "        # Calculate the start of the week 7 days before the end_date\n",
    "        week_start = end_date - timedelta(days=7)\n",
    "        \n",
    "        # Ensure we don't go before the initial start_date\n",
    "        if week_start < start_date:\n",
    "            week_start = start_date\n",
    "\n",
    "        # Convert dates to string format for the API call\n",
    "        week_start_str = week_start.strftime('%Y-%m-%d')\n",
    "        end_date_str = end_date.strftime('%Y-%m-%d')\n",
    "\n",
    "        # Fetch divisions\n",
    "        fetch_divisions(api_key, start_date=week_start_str, end_date=end_date_str)\n",
    "\n",
    "        print(f\"Added divisions for {week_start_str} to {end_date_str}\")\n",
    "\n",
    "        # Decrement end_date for the next loop iteration\n",
    "        end_date = week_start - timedelta(days=1)\n",
    "\n",
    "\n"
   ]
  },
  {
   "cell_type": "code",
   "execution_count": 7,
   "metadata": {},
   "outputs": [
    {
     "name": "stdout",
     "output_type": "stream",
     "text": [
      "Added divisions for 2023-10-24 to 2023-10-31\n",
      "Added divisions for 2023-10-16 to 2023-10-23\n",
      "Added divisions for 2023-10-08 to 2023-10-15\n",
      "Added divisions for 2023-09-30 to 2023-10-07\n",
      "Added divisions for 2023-09-22 to 2023-09-29\n",
      "Added divisions for 2023-09-14 to 2023-09-21\n",
      "Added divisions for 2023-09-06 to 2023-09-13\n",
      "Added divisions for 2023-08-29 to 2023-09-05\n",
      "Added divisions for 2023-08-21 to 2023-08-28\n",
      "Added divisions for 2023-08-13 to 2023-08-20\n",
      "Added divisions for 2023-08-05 to 2023-08-12\n",
      "Added divisions for 2023-07-28 to 2023-08-04\n",
      "Added divisions for 2023-07-20 to 2023-07-27\n",
      "Added divisions for 2023-07-12 to 2023-07-19\n",
      "Added divisions for 2023-07-04 to 2023-07-11\n",
      "Added divisions for 2023-06-26 to 2023-07-03\n",
      "Added divisions for 2023-06-18 to 2023-06-25\n",
      "Added divisions for 2023-06-10 to 2023-06-17\n",
      "Added divisions for 2023-06-02 to 2023-06-09\n",
      "Added divisions for 2023-05-25 to 2023-06-01\n",
      "Added divisions for 2023-05-17 to 2023-05-24\n",
      "Added divisions for 2023-05-09 to 2023-05-16\n",
      "Added divisions for 2023-05-01 to 2023-05-08\n",
      "Added divisions for 2023-04-23 to 2023-04-30\n",
      "Added divisions for 2023-04-15 to 2023-04-22\n",
      "Added divisions for 2023-04-07 to 2023-04-14\n",
      "Added divisions for 2023-03-30 to 2023-04-06\n",
      "Added divisions for 2023-03-22 to 2023-03-29\n",
      "Added divisions for 2023-03-14 to 2023-03-21\n",
      "Added divisions for 2023-03-06 to 2023-03-13\n",
      "Added divisions for 2023-02-26 to 2023-03-05\n",
      "Added divisions for 2023-02-18 to 2023-02-25\n",
      "Added divisions for 2023-02-10 to 2023-02-17\n",
      "Added divisions for 2023-02-02 to 2023-02-09\n",
      "Added divisions for 2023-01-25 to 2023-02-01\n",
      "Added divisions for 2023-01-17 to 2023-01-24\n",
      "Added divisions for 2023-01-09 to 2023-01-16\n",
      "Added divisions for 2023-01-01 to 2023-01-08\n",
      "Added divisions for 2022-12-24 to 2022-12-31\n",
      "Added divisions for 2022-12-16 to 2022-12-23\n",
      "Added divisions for 2022-12-08 to 2022-12-15\n",
      "Added divisions for 2022-11-30 to 2022-12-07\n",
      "Added divisions for 2022-11-22 to 2022-11-29\n",
      "Added divisions for 2022-11-14 to 2022-11-21\n",
      "Added divisions for 2022-11-06 to 2022-11-13\n",
      "Added divisions for 2022-10-29 to 2022-11-05\n",
      "Added divisions for 2022-10-21 to 2022-10-28\n",
      "Added divisions for 2022-10-13 to 2022-10-20\n",
      "Added divisions for 2022-10-05 to 2022-10-12\n",
      "Added divisions for 2022-09-27 to 2022-10-04\n",
      "Added divisions for 2022-09-19 to 2022-09-26\n",
      "Added divisions for 2022-09-11 to 2022-09-18\n",
      "Added divisions for 2022-09-03 to 2022-09-10\n",
      "Added divisions for 2022-08-26 to 2022-09-02\n",
      "Added divisions for 2022-08-18 to 2022-08-25\n",
      "Added divisions for 2022-08-10 to 2022-08-17\n",
      "Added divisions for 2022-08-02 to 2022-08-09\n",
      "Added divisions for 2022-07-25 to 2022-08-01\n",
      "Added divisions for 2022-07-17 to 2022-07-24\n",
      "Added divisions for 2022-07-09 to 2022-07-16\n",
      "Added divisions for 2022-07-01 to 2022-07-08\n",
      "Added divisions for 2022-06-26 to 2022-06-30\n"
     ]
    }
   ],
   "source": [
    "# Call the function with your API key\n",
    "run_fetch_divisions(api_key)"
   ]
  }
 ],
 "metadata": {
  "kernelspec": {
   "display_name": "data-science",
   "language": "python",
   "name": "python3"
  },
  "language_info": {
   "codemirror_mode": {
    "name": "ipython",
    "version": 3
   },
   "file_extension": ".py",
   "mimetype": "text/x-python",
   "name": "python",
   "nbconvert_exporter": "python",
   "pygments_lexer": "ipython3",
   "version": "3.11.4"
  }
 },
 "nbformat": 4,
 "nbformat_minor": 2
}
