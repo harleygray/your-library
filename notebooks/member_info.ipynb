{
 "cells": [
  {
   "cell_type": "code",
   "execution_count": 2,
   "metadata": {},
   "outputs": [],
   "source": [
    "import requests\n",
    "import json\n",
    "import os\n",
    "from dotenv import load_dotenv\n",
    "\n",
    "api_key = os.getenv(\"TVFY_API_KEY\")"
   ]
  },
  {
   "cell_type": "code",
   "execution_count": 3,
   "metadata": {},
   "outputs": [],
   "source": [
    "def fetch_additional_info(member_id, api_key):\n",
    "    url = f\"https://theyvoteforyou.org.au/api/v1/people/{member_id}.json?key={api_key}\"\n",
    "    response = requests.get(url)\n",
    "    \n",
    "    if response.status_code == 200:\n",
    "        return response.json()\n",
    "    else:\n",
    "        return None"
   ]
  },
  {
   "cell_type": "code",
   "execution_count": 5,
   "metadata": {},
   "outputs": [
    {
     "name": "stdout",
     "output_type": "stream",
     "text": [
      "dict_keys(['id', 'latest_member', 'rebellions', 'votes_attended', 'votes_possible', 'offices', 'policy_comparisons'])\n"
     ]
    }
   ],
   "source": [
    "result = fetch_additional_info(10904, api_key)\n",
    "print(result.keys())"
   ]
  },
  {
   "cell_type": "code",
   "execution_count": 9,
   "metadata": {},
   "outputs": [],
   "source": [
    "# Mapping dictionary for 'Effective Party' column.\n",
    "effective_party_map = {\n",
    "    'Country Liberal Party': 'Liberal National Party',\n",
    "    'DPRES': 'Australian Labor Party',\n",
    "    'Liberal Party': 'Liberal National Party',\n",
    "    'National Party': 'Liberal National Party',\n",
    "    'PRES': 'Australian Labor Party',\n",
    "    'Centre Alliance': 'Independent',\n",
    "    'CWM': 'Liberal National Party',\n",
    "    'Katter\\'s Australian Party': 'Independent',\n",
    "    'SPK': 'Australian Labor Party'\n",
    "}\n",
    "\n",
    "\n",
    "def flatten_member_info(member):\n",
    "    latest_member = member['latest_member']\n",
    "    party = latest_member['party']\n",
    "    effective_party = effective_party_map.get(party, party)  # Get effective party from map, or use original party if not found\n",
    "\n",
    "    additional_info = member.get('additional_info', {})\n",
    "\n",
    "    return {\n",
    "        'id': member['id'],\n",
    "        'name': f\"{latest_member['name']['first']} {latest_member['name']['last']}\",\n",
    "        'electorate': latest_member['electorate'],\n",
    "        'house': latest_member['house'],\n",
    "        'party': latest_member['party'],\n",
    "        'effective_party': effective_party,\n",
    "        'rebellions': additional_info.get('rebellions'),\n",
    "        'votes_attended': additional_info.get('votes_attended'),\n",
    "        'votes_possible': additional_info.get('votes_possible'),\n",
    "        'offices': [office['position'] for office in additional_info.get('offices', [])]\n",
    "    }\n"
   ]
  },
  {
   "cell_type": "code",
   "execution_count": 10,
   "metadata": {},
   "outputs": [
    {
     "name": "stdout",
     "output_type": "stream",
     "text": [
      "{'id': 10904, 'name': 'Jim Molan', 'electorate': 'NSW', 'house': 'senate', 'party': 'Liberal Party', 'effective_party': 'Liberal National Party', 'rebellions': None, 'votes_attended': None, 'votes_possible': None, 'offices': []}\n"
     ]
    }
   ],
   "source": [
    "flattened_member = flatten_member_info(result)\n",
    "print(flattened_member)"
   ]
  },
  {
   "cell_type": "code",
   "execution_count": 12,
   "metadata": {},
   "outputs": [],
   "source": [
    "def load_members_from_files(filename):\n",
    "    # Check if the file with all members exists\n",
    "    if os.path.exists(filename):\n",
    "        # Load data from the file if it exists\n",
    "        with open(filename, 'r') as f:\n",
    "            return json.load(f)\n",
    "    else:\n",
    "        print(\"No local member data found.\")\n",
    "        return None"
   ]
  },
  {
   "cell_type": "code",
   "execution_count": 16,
   "metadata": {},
   "outputs": [
    {
     "name": "stdout",
     "output_type": "stream",
     "text": [
      "dict_keys(['id', 'name', 'electorate', 'house', 'party', 'effective_party', 'rebellions', 'votes_attended', 'votes_possible', 'offices'])\n"
     ]
    }
   ],
   "source": [
    "# OS setup\n",
    "senate_filename = \"../data/parliament/senate.json\"\n",
    "current_senators = load_members_from_files(senate_filename)\n",
    "\n",
    "print(current_senators[0].keys())\n"
   ]
  },
  {
   "cell_type": "code",
   "execution_count": 19,
   "metadata": {},
   "outputs": [
    {
     "name": "stdout",
     "output_type": "stream",
     "text": [
      "77\n"
     ]
    }
   ],
   "source": [
    "print(len(current_senators))"
   ]
  },
  {
   "cell_type": "code",
   "execution_count": 18,
   "metadata": {},
   "outputs": [],
   "source": [
    "current_senators.append(flattened_member)"
   ]
  },
  {
   "cell_type": "code",
   "execution_count": null,
   "metadata": {},
   "outputs": [],
   "source": [
    "print(len(current_senators))"
   ]
  },
  {
   "cell_type": "code",
   "execution_count": 21,
   "metadata": {},
   "outputs": [],
   "source": [
    "with open(senate_filename, 'w') as f:\n",
    "    json.dump(current_senators, f)"
   ]
  }
 ],
 "metadata": {
  "kernelspec": {
   "display_name": "data-science",
   "language": "python",
   "name": "python3"
  },
  "language_info": {
   "codemirror_mode": {
    "name": "ipython",
    "version": 3
   },
   "file_extension": ".py",
   "mimetype": "text/x-python",
   "name": "python",
   "nbconvert_exporter": "python",
   "pygments_lexer": "ipython3",
   "version": "3.11.4"
  }
 },
 "nbformat": 4,
 "nbformat_minor": 2
}
