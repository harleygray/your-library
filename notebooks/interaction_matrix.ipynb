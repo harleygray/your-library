{
 "cells": [
  {
   "cell_type": "code",
   "execution_count": 2,
   "metadata": {},
   "outputs": [],
   "source": [
    "import numpy as np\n",
    "import json\n",
    "import os"
   ]
  },
  {
   "cell_type": "code",
   "execution_count": 5,
   "metadata": {},
   "outputs": [],
   "source": [
    "def load_divisions_from_files():\n",
    "    # Define the directory and filename\n",
    "    directory = '../data/parliament'\n",
    "    filename = f\"{directory}/divisions.json\"\n",
    "    \n",
    "    # Check if the file with all divisions exists\n",
    "    if os.path.exists(filename):\n",
    "        # Load data from the file if it exists\n",
    "        with open(filename, 'r', encoding='utf-8') as f:\n",
    "            return json.load(f)\n",
    "    else:\n",
    "        #st.write(\"No local division data found.\")\n",
    "        return None"
   ]
  },
  {
   "cell_type": "code",
   "execution_count": 8,
   "metadata": {},
   "outputs": [],
   "source": [
    "divisions = load_divisions_from_files()\n",
    "senate_divisions = {}"
   ]
  },
  {
   "cell_type": "code",
   "execution_count": 10,
   "metadata": {},
   "outputs": [],
   "source": [
    "for division_id, division_data in divisions.items():\n",
    "    if division_data['house'] == 'senate':\n",
    "        senate_divisions[division_id] = division_data"
   ]
  },
  {
   "cell_type": "code",
   "execution_count": 26,
   "metadata": {},
   "outputs": [],
   "source": [
    "# Initialize a set to hold unique senator IDs\n",
    "unique_senator_ids = set()\n",
    "\n",
    "# Iterate through senate_divisions to collect unique senator IDs\n",
    "for division_id, division_data in senate_divisions.items():\n",
    "    for vote_data in division_data['votes']:\n",
    "        senator_id = vote_data['member']['id']\n",
    "        unique_senator_ids.add(senator_id)\n",
    "\n",
    "# Determine the number of unique senators\n",
    "num_of_senators = len(unique_senator_ids)\n",
    "\n",
    "# Initialize the interaction matrix\n",
    "interaction_matrix = np.zeros((num_of_senators, num_of_senators))\n",
    "\n",
    "# Create a mapping from senator IDs to matrix indices\n",
    "senator_id_to_index = {senator_id: index for index, senator_id in enumerate(unique_senator_ids)}\n"
   ]
  },
  {
   "cell_type": "code",
   "execution_count": 31,
   "metadata": {},
   "outputs": [],
   "source": [
    "# Iterate through each division\n",
    "for division_id, division_data in senate_divisions.items():  \n",
    "    votes = {vote_data['member']['id']: vote_data['vote'] for vote_data in division_data['votes']}\n",
    "    \n",
    "    # Update the matrix\n",
    "    for senator_id1 in unique_senator_ids:\n",
    "        for senator_id2 in unique_senator_ids:\n",
    "            if senator_id1 == senator_id2:\n",
    "                continue  # Skip self-comparison\n",
    "            \n",
    "            # Map senator IDs to matrix indices\n",
    "            i = senator_id_to_index[senator_id1]\n",
    "            j = senator_id_to_index[senator_id2]\n",
    "            \n",
    "            # Check if both senators are in the current division\n",
    "            if senator_id1 in votes and senator_id2 in votes:\n",
    "                if votes[senator_id1] == votes[senator_id2]:\n",
    "                    if votes[senator_id1] != 'Absent':  # Skip if both senators are Absent\n",
    "                        interaction_matrix[i][j] += 1\n",
    "                        interaction_matrix[j][i] += 1  # The matrix is symmetric\n",
    "\n",
    "# Normalize the matrix (optional)\n",
    "total_divisions = len(senate_divisions)  # Replace with the actual number of divisions if different\n",
    "interaction_matrix = interaction_matrix / total_divisions\n"
   ]
  },
  {
   "cell_type": "code",
   "execution_count": 28,
   "metadata": {},
   "outputs": [
    {
     "data": {
      "text/plain": [
       "78"
      ]
     },
     "execution_count": 28,
     "metadata": {},
     "output_type": "execute_result"
    }
   ],
   "source": [
    "len(interaction_matrix)"
   ]
  },
  {
   "cell_type": "code",
   "execution_count": 32,
   "metadata": {},
   "outputs": [
    {
     "data": {
      "text/plain": [
       "array([[0.        , 0.61096606, 0.36553525, ..., 0.11488251, 1.0078329 ,\n",
       "        1.32114883],\n",
       "       [0.61096606, 0.        , 0.38642298, ..., 0.2924282 , 0.67885117,\n",
       "        0.81462141],\n",
       "       [0.36553525, 0.38642298, 0.        , ..., 0.845953  , 0.32375979,\n",
       "        0.46997389],\n",
       "       ...,\n",
       "       [0.11488251, 0.2924282 , 0.845953  , ..., 0.        , 0.10966057,\n",
       "        0.15665796],\n",
       "       [1.0078329 , 0.67885117, 0.32375979, ..., 0.10966057, 0.        ,\n",
       "        1.32114883],\n",
       "       [1.32114883, 0.81462141, 0.46997389, ..., 0.15665796, 1.32114883,\n",
       "        0.        ]])"
      ]
     },
     "execution_count": 32,
     "metadata": {},
     "output_type": "execute_result"
    }
   ],
   "source": [
    "interaction_matrix"
   ]
  },
  {
   "cell_type": "code",
   "execution_count": 33,
   "metadata": {},
   "outputs": [
    {
     "name": "stdout",
     "output_type": "stream",
     "text": [
      "Interaction matrix saved to ../data/parliament/senate_interaction_matrix.json\n"
     ]
    }
   ],
   "source": [
    "# Convert the NumPy array to a list of lists\n",
    "interaction_matrix_list = interaction_matrix.tolist()\n",
    "\n",
    "# Define the path to save the JSON file\n",
    "save_path = \"../data/parliament/senate_interaction_matrix.json\"\n",
    "\n",
    "# Save to JSON\n",
    "with open(save_path, 'w') as f:\n",
    "    json.dump(interaction_matrix_list, f)\n",
    "\n",
    "print(f\"Interaction matrix saved to {save_path}\")"
   ]
  },
  {
   "cell_type": "code",
   "execution_count": 34,
   "metadata": {},
   "outputs": [],
   "source": [
    "# Save unique_senator_ids to JSON\n",
    "with open(\"../data/parliament/unique_senator_ids.json\", 'w') as f:\n",
    "    json.dump(list(unique_senator_ids), f)\n",
    "\n",
    "# Save senator_id_to_index to JSON\n",
    "with open(\"../data/parliament/senator_id_to_index.json\", 'w') as f:\n",
    "    json.dump(senator_id_to_index, f)\n"
   ]
  }
 ],
 "metadata": {
  "kernelspec": {
   "display_name": "data-science",
   "language": "python",
   "name": "python3"
  },
  "language_info": {
   "codemirror_mode": {
    "name": "ipython",
    "version": 3
   },
   "file_extension": ".py",
   "mimetype": "text/x-python",
   "name": "python",
   "nbconvert_exporter": "python",
   "pygments_lexer": "ipython3",
   "version": "3.11.4"
  }
 },
 "nbformat": 4,
 "nbformat_minor": 2
}
