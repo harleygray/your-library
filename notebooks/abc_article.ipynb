{
 "cells": [
  {
   "attachments": {},
   "cell_type": "markdown",
   "metadata": {},
   "source": [
    "# Handling ABC Articles"
   ]
  },
  {
   "cell_type": "code",
   "execution_count": 1,
   "metadata": {},
   "outputs": [
    {
     "data": {
      "text/plain": [
       "True"
      ]
     },
     "execution_count": 1,
     "metadata": {},
     "output_type": "execute_result"
    }
   ],
   "source": [
    "from unstructured.partition.auto import partition\n",
    "from unstructured.documents.elements import *\n",
    "from unstructured.staging.weaviate import create_unstructured_weaviate_class, stage_for_weaviate\n",
    "\n",
    "import weaviate\n",
    "from weaviate.util import generate_uuid5\n",
    "\n",
    "from dotenv import load_dotenv\n",
    "import os\n",
    "import json\n",
    "from datetime import date\n",
    "import tqdm\n",
    "load_dotenv()"
   ]
  },
  {
   "cell_type": "code",
   "execution_count": 2,
   "metadata": {},
   "outputs": [],
   "source": [
    "weaviate_url = os.getenv(\"WEAVIATE_URL\")\n",
    "weaviate_api_key = os.getenv(\"WEAVIATE_API_KEY\")\n",
    "openai_api_key=os.getenv(\"OPENAI_API_KEY\")"
   ]
  },
  {
   "attachments": {},
   "cell_type": "markdown",
   "metadata": {},
   "source": [
    "## Weaviate schemas\n",
    "Schemas are patterns for data. The template that exists is a good base but this layer is ripe for customization. \n",
    "\n",
    "Allowing user input here can assist with searching later on. The recommendation engine can use tags to help put useful information in front of me. Auto-ingesting data could also use tags for reliable sources (e.g. #media)\n",
    "\n",
    "A blank text box (upload note - i like the name reverie) which would be useful for experimenting and curating a database."
   ]
  },
  {
   "attachments": {},
   "cell_type": "markdown",
   "metadata": {},
   "source": [
    "What follows is the definition a generalized 'unstructured document' class for Weaviate. Once this is working, next step is to make one for a specific use-case, e.g. abc online articles. "
   ]
  },
  {
   "cell_type": "code",
   "execution_count": 3,
   "metadata": {},
   "outputs": [],
   "source": [
    "article_url = \"https://www.abc.net.au/news/2023-07-07/nt-2023-naidoc-parade-in-darwin/102576316\"\n",
    "import requests\n",
    "from unstructured.partition.auto import partition\n",
    "from unstructured.staging.weaviate import stage_for_weaviate\n",
    "from unstructured.partition.html import partition_html\n",
    "\n",
    "# Fetch data from URL\n",
    "html_content = requests.get(article_url).text\n",
    "\n",
    "\n",
    "# Assuming html_content is the HTML content you got from the URL\n",
    "elements = partition_html(text=html_content)\n",
    "data_objects = stage_for_weaviate(elements)"
   ]
  },
  {
   "cell_type": "code",
   "execution_count": 4,
   "metadata": {},
   "outputs": [
    {
     "name": "stdout",
     "output_type": "stream",
     "text": [
      "Title: Thousands take to streets for 2023 NAIDOC parade in Darwin CBD\n",
      "Title: By Kyle Dowling\n",
      "Title: Posted\n",
      "Title: ABC News: Kyle Dowling)\n",
      "NarrativeText: Help keep family & friends informed by sharing this article\n",
      "Title: abc.net.au/news/nt-2023-naidoc-parade-in-darwin/102576316\n",
      "NarrativeText: Link copied\n",
      "Title: Copy link\n",
      "NarrativeText: Thousands of people have taken to the streets of Darwin CBD for a NAIDOC parade that saw leaders rally for a Yes vote in the upcoming referendum on an Indigenous Voice to Parliament.\n",
      "Title: Key points:\n",
      "ListItem: Larrakia Nation renewed calls for a treaty with the Northern Territory government\n",
      "ListItem: The peak body for Aboriginal organisations says a Voice to Parliament is \"a way forward\"\n",
      "ListItem: This year's NAIDOC theme is For Our Elders\n",
      "NarrativeText: The city saw one of the largest turnouts in recent years as people marched through the streets calling for respect for elders, and highlighting the desire for treaty.\n",
      "NarrativeText: Jerome Cubillo, the chair of Larrakia Nation — the peak body for traditional owners in the area — acknowledged previous work towards treaty and called for governments to take steps forward once again.\n",
      "NarrativeText: \"We want to continue to hold our politicians accountable to say, 'We had momentum for a treaty in the Northern Territory. Where has that momentum gone? Where has that bravery gone?'\"\n",
      "NarrativeText: \"So we stand here, again, calling on the Northern Territory government to work with us [and] find a way … to get a treaty process back up,\" Mr Cubillo said.\n",
      "NarrativeText: \"[It's the] only way to make our mob stronger, to give our mob a better future.\"\n",
      "NarrativeText: The event also focused on the upcoming Voice to Parliament referendum.\n",
      "Title: (ABC News: Kyle Dowling)\n",
      "NarrativeText: John Paterson, a spokesperson for the Aboriginal Peak Organisations of the Northern Territory (APONT), said it was a way forward for First Nations Australians.\n",
      "NarrativeText: \"With a Voice, we will be able to speak up and be heard for our families, our communities, our country and for elders,\" he said.\n",
      "NarrativeText: \"Bring Aboriginal leadership and Aboriginal voices into policymaking is the only way to make our mob stronger, to give our mob a better future.\"\n",
      "Title: Read more about the Indigenous Voice to Parliament:\n",
      "ListItem: Voice to Parliament referendum pamphlets for Yes and No camps published by AEC\n",
      "ListItem: What is the Voice to Parliament and how would it work? Here's a breakdown\n",
      "ListItem: Here's what 11 First Nations MPs and senators think of a Voice to Parliament\n",
      "UncategorizedText: Northern Territory Aboriginal Affairs Minister Selena Uibo stressed the significance of the referendum.\n",
      "Title: (ABC News: Kyle Dowling)\n",
      "NarrativeText: \"Eight per cent of Australia's population will decide for the 2 per cent of us,\" she said.\n",
      "NarrativeText: \"They'll determine the fate of Aboriginal and Torres Strait Islander futures.\n",
      "NarrativeText: \"Our fate will be decided by one of two words: no or yes.\n",
      "NarrativeText: \"We cannot wait another 56 years to have a voice on our own affairs.\"\n",
      "Title: Loading...\n",
      "Title: A time for solidarity, elders, and future generations\n",
      "NarrativeText: This year's NAIDOC theme is \"For Our Elders\" and is about recognising the importance of past generations and their journey and fight for the rights of First Nations people.\n",
      "NarrativeText: Michael McMahon, who has lived in Darwin for decades, said for him, this year's event was incredibly important.\n",
      "NarrativeText: \"[Elders] helped us to shape our futures, and then for future generations to come,\" he said.\n",
      "NarrativeText: \"I'm really looking forward to being a part of that and to seeing the younger, younger generation come through as well.\"\n",
      "Title: (ABC News: Kyle Dowling)\n",
      "NarrativeText: NAIDOC Week brings together not only Aboriginal and Torres Strait Islander groups but also the wider Australian community.\n",
      "NarrativeText: For those who attended the march, this unity is essential.\n",
      "NarrativeText: \"It's really important for all of our mobs, especially everyone from different mobs — you've got people from different states, different towns, different communities coming together — and we're all celebrating NAIDOC Week,\" Darwin resident Ayesha Kay said.\n",
      "NarrativeText: For Darren Griffon, this coming together is what NAIDOC is all about.\n",
      "Title: (ABC News: Kyle Dowling)\n",
      "NarrativeText: \"The main reason is to be united as one, to get together, show support for everybody,\" he said.\n",
      "NarrativeText: \"Different tribes, you know, we've got a lot of diversity and tribes and that, so to come together, it's really good.\"\n",
      "Title: Loading...\n",
      "Title: Posted\n",
      "Title: Share\n",
      "ListItem: Copy link\n",
      "ListItem: Facebook\n",
      "ListItem: Twitter\n",
      "ListItem: \n",
      "Title: Related Stories\n",
      "ListItem: Damien has travelled Australia talking to communities about the Voice. Here's what he found\n",
      "ListItem: It began with some chords strummed around a camp fire before becoming an Australian music legacy\n",
      "Title: More on:\n",
      "ListItem: Aboriginal\n",
      "ListItem: Darwin\n",
      "ListItem: Indigenous (Aboriginal and Torres Strait Islander)\n",
      "ListItem: Indigenous Culture\n",
      "ListItem: Indigenous Policy\n",
      "Title: Top Stories\n",
      "ListItem: Tasmania Police charge man with murder of teenager Shyanne-Lee Tatnell\n",
      "ListItem: liveWin and we're in — Matildas kick-off crucial clash with Nigeria as next round of the World Cup looms\n",
      "ListItem: Victorian government ignored plan to host a cheaper Commonwealth Games\n",
      "ListItem: Why are power bills rising while wholesale electricity prices are falling? It's because of 'a horrible coincidence'\n",
      "ListItem: Ripping the pope, torching Madonna: The many controversies of Sinéad O'Connor's career\n",
      "ListItem: liveAustralia aims to wrap up Ashes series victory in England for first time in 22 years\n",
      "ListItem: Residents shocked by 'railway through our back patio' as homes to be bulldozed for transport corridor\n",
      "ListItem: Police deny losing control of drug war as man dies days after Sydney car ambush\n",
      "ListItem: Body of tech entrepreneur found in Sydney Harbour a week after fishing boat crash\n",
      "ListItem: A bladder condition nearly destroyed my kidneys and made me realise we need to talk about incontinence\n",
      "ListItem: Prince Harry gets partial go ahead for Murdoch UK tabloid trial\n",
      "ListItem: As Albanese tours NZ with PM Hipkins, he takes a brief aside with nation's next possible leader\n",
      "ListItem: Macron warns of 'new imperialism' in Pacific, as Blinken says 'door is open' for NZ to join AUKUS\n",
      "ListItem: Universities Australia grilled by federal senators as sexual consent hearings come to a close\n",
      "ListItem: Hundreds of firefighters and a rising death toll: The latest on the Mediterranean's deadly wildfires\n",
      "Title: Popular Now\n",
      "UncategorizedText: 1.\n",
      "Title: live\n",
      "UncategorizedText: live:Win and we're in — Matildas kick-off crucial clash with Nigeria as next round of the World Cup looms\n",
      "UncategorizedText: 2.\n",
      "Title: Tasmania Police charge man with murder of teenager Shyanne-Lee Tatnell\n",
      "UncategorizedText: 3.\n",
      "Title: Victorian government ignored plan to host a cheaper Commonwealth Games\n",
      "UncategorizedText: 4.\n",
      "UncategorizedText: Residents shocked by 'railway through our back patio' as homes to be bulldozed for transport corridor\n",
      "UncategorizedText: 5.\n",
      "Title: Ripping the pope, torching Madonna: The many controversies of Sinéad O'Connor's career\n",
      "UncategorizedText: 6.\n",
      "Title: live\n",
      "UncategorizedText: live:Australia aims to wrap up Ashes series victory in England for first time in 22 years\n",
      "Title: Top Stories\n",
      "Title: Tasmania Police charge man with murder of teenager Shyanne-Lee Tatnell\n",
      "NarrativeText: liveWin and we're in — Matildas kick-off crucial clash with Nigeria as next round of the World Cup looms\n",
      "NarrativeText: Victorian government ignored plan to host a cheaper Commonwealth Games\n",
      "NarrativeText: Why are power bills rising while wholesale electricity prices are falling? It's because of 'a horrible coincidence'\n",
      "NarrativeText: Ripping the pope, torching Madonna: The many controversies of Sinéad O'Connor's career\n",
      "NarrativeText: liveAustralia aims to wrap up Ashes series victory in England for first time in 22 years\n",
      "NarrativeText: Residents shocked by 'railway through our back patio' as homes to be bulldozed for transport corridor\n",
      "NarrativeText: Police deny losing control of drug war as man dies days after Sydney car ambush\n",
      "NarrativeText: Body of tech entrepreneur found in Sydney Harbour a week after fishing boat crash\n",
      "Title: Just In\n",
      "ListItem: Prince Harry gets partial go ahead for Murdoch UK tabloid trial45m ago45 minutes agoThu 27 Jul 2023 at 9:37am\n",
      "ListItem: NRL live: Broncos look to tighten grip on top-two spot, Roosters fighting to stay in finals race47m ago47 minutes agoThu 27 Jul 2023 at 9:35am\n",
      "ListItem: Live scorecard: England vs Australia, fifth Ashes Test55m ago55 minutes agoThu 27 Jul 2023 at 9:27am\n",
      "ListItem: liveLive: Australia aims to wrap up Ashes series victory in England for first time in 22 years 55m ago55 minutes agoThu 27 Jul 2023 at 9:27am\n",
      "ListItem: Hundreds of firefighters and a rising death toll: The latest on the Mediterranean's deadly wildfires1h ago1 hours agoThu 27 Jul 2023 at 8:58am\n",
      "ListItem: New NT laws empower families to make healthcare decisions for relatives1h ago1 hours agoThu 27 Jul 2023 at 8:56am\n",
      "Title: More Just In\n",
      "NarrativeText: Back to top\n"
     ]
    }
   ],
   "source": [
    "# show the text content of all data_objects with its category\n",
    "for i, d in enumerate(data_objects):\n",
    "    print(\"{0}: {1}\".format(d['category'], d['text']))"
   ]
  },
  {
   "cell_type": "code",
   "execution_count": 87,
   "metadata": {},
   "outputs": [
    {
     "data": {
      "text/plain": [
       "31"
      ]
     },
     "execution_count": 87,
     "metadata": {},
     "output_type": "execute_result"
    }
   ],
   "source": []
  },
  {
   "cell_type": "code",
   "execution_count": 5,
   "metadata": {},
   "outputs": [
    {
     "name": "stdout",
     "output_type": "stream",
     "text": [
      "ArticleName: Thousands take to streets for 2023 NAIDOC parade in Darwin CBD\n",
      "AuthorList: Kyle Dowling\n",
      "NarrativeText: Thousands of people have taken to the streets of Darwin CBD for a NAIDOC parade that saw leaders rally for a Yes vote in the upcoming referendum on an Indigenous Voice to Parliament.\n",
      "KeyPoint: Larrakia Nation renewed calls for a treaty with the Northern Territory government\n",
      "KeyPoint: The peak body for Aboriginal organisations says a Voice to Parliament is \"a way forward\"\n",
      "KeyPoint: This year's NAIDOC theme is For Our Elders\n",
      "NarrativeText: The city saw one of the largest turnouts in recent years as people marched through the streets calling for respect for elders, and highlighting the desire for treaty.\n",
      "NarrativeText: Jerome Cubillo, the chair of Larrakia Nation — the peak body for traditional owners in the area — acknowledged previous work towards treaty and called for governments to take steps forward once again.\n",
      "NarrativeText: \"We want to continue to hold our politicians accountable to say, 'We had momentum for a treaty in the Northern Territory. Where has that momentum gone? Where has that bravery gone?'\"\n",
      "NarrativeText: \"So we stand here, again, calling on the Northern Territory government to work with us [and] find a way … to get a treaty process back up,\" Mr Cubillo said.\n",
      "NarrativeText: \"[It's the] only way to make our mob stronger, to give our mob a better future.\"\n",
      "NarrativeText: The event also focused on the upcoming Voice to Parliament referendum.\n",
      "Title: (ABC News: Kyle Dowling)\n",
      "NarrativeText: John Paterson, a spokesperson for the Aboriginal Peak Organisations of the Northern Territory (APONT), said it was a way forward for First Nations Australians.\n",
      "NarrativeText: \"With a Voice, we will be able to speak up and be heard for our families, our communities, our country and for elders,\" he said.\n",
      "NarrativeText: \"Bring Aboriginal leadership and Aboriginal voices into policymaking is the only way to make our mob stronger, to give our mob a better future.\"\n",
      "UncategorizedText: Northern Territory Aboriginal Affairs Minister Selena Uibo stressed the significance of the referendum.\n",
      "Title: (ABC News: Kyle Dowling)\n",
      "NarrativeText: \"Eight per cent of Australia's population will decide for the 2 per cent of us,\" she said.\n",
      "NarrativeText: \"They'll determine the fate of Aboriginal and Torres Strait Islander futures.\n",
      "NarrativeText: \"Our fate will be decided by one of two words: no or yes.\n",
      "NarrativeText: \"We cannot wait another 56 years to have a voice on our own affairs.\"\n",
      "Title: A time for solidarity, elders, and future generations\n",
      "NarrativeText: This year's NAIDOC theme is \"For Our Elders\" and is about recognising the importance of past generations and their journey and fight for the rights of First Nations people.\n",
      "NarrativeText: Michael McMahon, who has lived in Darwin for decades, said for him, this year's event was incredibly important.\n",
      "NarrativeText: \"[Elders] helped us to shape our futures, and then for future generations to come,\" he said.\n",
      "NarrativeText: \"I'm really looking forward to being a part of that and to seeing the younger, younger generation come through as well.\"\n",
      "Title: (ABC News: Kyle Dowling)\n",
      "NarrativeText: NAIDOC Week brings together not only Aboriginal and Torres Strait Islander groups but also the wider Australian community.\n",
      "NarrativeText: For those who attended the march, this unity is essential.\n",
      "NarrativeText: \"It's really important for all of our mobs, especially everyone from different mobs — you've got people from different states, different towns, different communities coming together — and we're all celebrating NAIDOC Week,\" Darwin resident Ayesha Kay said.\n",
      "NarrativeText: For Darren Griffon, this coming together is what NAIDOC is all about.\n",
      "Title: (ABC News: Kyle Dowling)\n",
      "NarrativeText: \"The main reason is to be united as one, to get together, show support for everybody,\" he said.\n",
      "NarrativeText: \"Different tribes, you know, we've got a lot of diversity and tribes and that, so to come together, it's really good.\"\n"
     ]
    }
   ],
   "source": [
    "# Identify article name and change its category\n",
    "data_objects[0]['category'] = 'ArticleName'\n",
    "\n",
    "# Identify authors and change category\n",
    "# Iterate over the data_objects list\n",
    "for item in data_objects:\n",
    "    # Check if the category of the current item is 'Title' and the text starts with 'By '\n",
    "    if item['category'] == 'Title' and item['text'].startswith('By '):\n",
    "        # If it is, change the category to 'AuthorList' and remove 'By ' from the text\n",
    "        item['category'] = 'AuthorList'\n",
    "        item['text'] = item['text'][3:]  # Remove 'By ' from the start of the text\n",
    "        # If there are exactly two authors (i.e., there is no comma and there is ' and' in the text)\n",
    "        if ',' not in item['text'] and ' and' in item['text']:\n",
    "            # Replace ' and' with ', '\n",
    "            item['text'] = item['text'].replace(' and', ',')\n",
    "        else:\n",
    "            # If ' and' is in the text, remove it\n",
    "            item['text'] = item['text'].replace(' and', '').strip()\n",
    "        break\n",
    "\n",
    "\n",
    "# Find the key points and assign to category 'KeyPoint'\n",
    "# Define the start of the pattern\n",
    "start_pattern = {\"category\": \"Title\", \"text\": \"Key points:\"}\n",
    "\n",
    "# Iterate over the data_objects list\n",
    "i = 0\n",
    "while i < len(data_objects):\n",
    "    # Check if the current element's 'category' and 'text' match those in the start pattern\n",
    "    if data_objects[i].get('category') == start_pattern['category'] and data_objects[i].get('text') == start_pattern['text']:\n",
    "        # If the start of the pattern is matched, remove this element\n",
    "        del data_objects[i]\n",
    "        # Then change the category of the following 'ListItem' elements to 'KeyPoint'\n",
    "        while i < len(data_objects) and data_objects[i][\"category\"] == \"ListItem\":\n",
    "            data_objects[i][\"category\"] = \"KeyPoint\"\n",
    "            i += 1\n",
    "    else:\n",
    "        i += 1\n",
    "\n",
    "\n",
    "# Remove the 'Read more' section\n",
    "# Define the start of the sequence\n",
    "start_sequence = {\"category\": \"Title\", \"text\": \"Read more about the Indigenous Voice to Parliament:\"}\n",
    "\n",
    "# Iterate over the data_objects list\n",
    "i = 0\n",
    "while i < len(data_objects):\n",
    "    # Check if the current element's 'category' and 'text' match those in the start sequence\n",
    "    if data_objects[i].get('category') == start_sequence['category'] and data_objects[i].get('text') == start_sequence['text']:\n",
    "        # If the start of the sequence is matched, remove this element\n",
    "        del data_objects[i]\n",
    "        # Then remove the following 'ListItem' elements\n",
    "        while i < len(data_objects) and data_objects[i][\"category\"] == \"ListItem\":\n",
    "            del data_objects[i]\n",
    "    else:\n",
    "        i += 1\n",
    "\n",
    "# Remove elements matching the pattern \"Title: Loading...\"\n",
    "# Define the pattern to remove\n",
    "remove_pattern = {\"category\": \"Title\", \"text\": \"Loading...\"}\n",
    "\n",
    "# Filter out the elements that match the remove pattern\n",
    "data_objects = [d for d in data_objects if not (d.get('category') == remove_pattern['category'] and d.get('text') == remove_pattern['text'])]\n",
    "\n",
    "\n",
    "\n",
    "# Cut off after \"NarrativeText: If you're ...\"\n",
    "# Define the pattern to stop at\n",
    "stop_pattern = {\"category\": \"NarrativeText\", \"text\": \"If you're unable to load the form, you can access it here.\"}\n",
    "\n",
    "# Find the index of the element with the stop pattern\n",
    "stop_index = next((i for i, d in enumerate(data_objects) if d.get('category') == stop_pattern['category'] and d.get('text') == stop_pattern['text']), None)\n",
    "\n",
    "# If the stop pattern was found, slice the list up to that index\n",
    "if stop_index is not None:\n",
    "    data_objects = data_objects[:stop_index]\n",
    "\n",
    "# Cut off after \"Title: Share\"\n",
    "# Define the pattern to stop at\n",
    "stop_pattern = {\"category\": \"Title\", \"text\": \"Share\"}\n",
    "\n",
    "# Find the index of the element with the stop pattern\n",
    "stop_index = next((i for i, d in enumerate(data_objects) if d.get('category') == stop_pattern['category'] and d.get('text') == stop_pattern['text']), None)\n",
    "\n",
    "# If the stop pattern was found, slice the list up to that index\n",
    "if stop_index is not None:\n",
    "    data_objects = data_objects[:stop_index]\n",
    "\n",
    "\n",
    "\n",
    "# Identify publishing outlet\n",
    "# Iterate over the data_objects list\n",
    "for item in data_objects:\n",
    "    # Check if the category of the current item is 'Title' and the text starts with 'ABC '\n",
    "    if item['category'] == 'Title' and item['text'].startswith('ABC '):\n",
    "        # If it is, change the category to 'PublishingOutlet' and keep the text as it is\n",
    "        item['category'] = 'PublishingOutlet'\n",
    "        break\n",
    "\n",
    "\n",
    "# Remove fluff at start of article\n",
    "# Remove rows matching the pattern \"ABC \" at the beginning and \")\" at the end\n",
    "data_objects = [\n",
    "    item for item in data_objects if not (\n",
    "        item['text'] == 'updated' or\n",
    "        item['text'] == 'Copy link' or\n",
    "        item['text'] == 'Posted' or\n",
    "        item['text'] == 'Help keep family & friends informed by sharing this article' or\n",
    "        item['text'] == 'Link copied' or\n",
    "        item['text'].startswith('abc.net.au') or \n",
    "        (item['text'].startswith('ABC ') and item['text'].endswith(')') and '(' not in item['text']) or\n",
    "        (item['text'].startswith('Supplied: ') and item['text'].endswith(')') and '(' not in item['text'])\n",
    "    )\n",
    "]\n",
    "for i, d in enumerate(data_objects):\n",
    "    print(\"{0}: {1}\".format(d['category'], d['text']))"
   ]
  },
  {
   "cell_type": "code",
   "execution_count": 65,
   "metadata": {},
   "outputs": [
    {
     "data": {
      "text/plain": [
       "137"
      ]
     },
     "execution_count": 65,
     "metadata": {},
     "output_type": "execute_result"
    }
   ],
   "source": [
    "len(data_objects)"
   ]
  },
  {
   "cell_type": "code",
   "execution_count": 3,
   "metadata": {},
   "outputs": [],
   "source": [
    "abc_class = {\n",
    "    'class': 'ABCNewsArticle',\n",
    "    'description': 'Class for ABC News articles',\n",
    "    'properties': [\n",
    "        {'name': 'text', 'dataType': ['text']},\n",
    "        {'name': 'category', 'dataType': ['text']},\n",
    "        {'name': 'article_name', 'dataType': ['text']},\n",
    "        {'name': 'author_list', 'dataType': ['text']}, #\n",
    "        {'name': 'publisher', 'dataType': ['text']}, #\n",
    "        {'name': 'date', 'dataType': ['text']},\n",
    "        {'name': 'url', 'dataType': ['text']},\n",
    "        {'name': 'tags', 'dataType': ['text']},\n",
    "        {'name': 'upload_note', 'dataType': ['text']},\n",
    "    ],\n",
    "    'vectorizer': 'text2vec-openai', \n",
    "    \"moduleConfig\": {\n",
    "        \"text2vec-openai\": {\n",
    "            \"vectorizeClassName\": False\n",
    "        }\n",
    "    },\n",
    "}\n",
    "\n",
    "\n",
    "client = weaviate.Client(\n",
    "    url=weaviate_url,\n",
    "    auth_client_secret=weaviate.AuthApiKey(api_key=weaviate_api_key),\n",
    "    additional_headers= {\n",
    "        \"X-OpenAI-Api-Key\": openai_api_key,\n",
    "    }\n",
    ")\n"
   ]
  },
  {
   "cell_type": "code",
   "execution_count": 4,
   "metadata": {},
   "outputs": [],
   "source": [
    "unstructured_class = {\n",
    "    'class': 'UnstructuredDocument',\n",
    "    'description': 'General class for all documents (todo: add more specific classes)',\n",
    "    'properties': [\n",
    "        {'name': 'text', 'dataType': ['text']},\n",
    "        {'name': 'category', 'dataType': ['text']},\n",
    "        {'name': 'filename', 'dataType': ['text']},\n",
    "        {'name': 'file_directory', 'dataType': ['text']},\n",
    "        {'name': 'date', 'dataType': ['text']},\n",
    "        {'name': 'filetype', 'dataType': ['text']},\n",
    "        {'name': 'attached_to_filename', 'dataType': ['text']},\n",
    "        {'name': 'page_number', 'dataType': ['int']},\n",
    "        {'name': 'page_name', 'dataType': ['text']},\n",
    "        {'name': 'url', 'dataType': ['text']},\n",
    "        {'name': 'sent_from', 'dataType': ['text']},\n",
    "        {'name': 'sent_to', 'dataType': ['text']},\n",
    "        {'name': 'subject', 'dataType': ['text']},\n",
    "        {'name': 'header_footer_type', 'dataType': ['text']},\n",
    "        {'name': 'text_as_html', 'dataType': ['text']},\n",
    "        {'name': 'regex_metadata', 'dataType': ['text']},\n",
    "        {'name': 'tags', 'dataType': ['text']},\n",
    "        {'name': 'upload_note', 'dataType': ['text']},\n",
    "    ],\n",
    "    'vectorizer': 'text2vec-openai', \n",
    "    \"moduleConfig\": {\n",
    "        \"text2vec-openai\": {\n",
    "            \"vectorizeClassName\": False\n",
    "        }\n",
    "    },\n",
    "\n",
    "}"
   ]
  },
  {
   "attachments": {},
   "cell_type": "markdown",
   "metadata": {},
   "source": [
    "## Modifying the schema\n",
    "Below code blocks are used to update the schema in Weaviate. Don't need to run this every time."
   ]
  },
  {
   "attachments": {},
   "cell_type": "markdown",
   "metadata": {},
   "source": [
    "### Create schema with the defined classes"
   ]
  },
  {
   "cell_type": "code",
   "execution_count": 6,
   "metadata": {},
   "outputs": [],
   "source": [
    "schema = {\"classes\": [unstructured_class, abc_class]}\n",
    "# add the ABCNewsArticle class to the schema\n",
    "#schema[\"classes\"].append(abc_class)\n",
    "client.schema.create(schema)"
   ]
  },
  {
   "attachments": {},
   "cell_type": "markdown",
   "metadata": {},
   "source": [
    "### Print defined schemas"
   ]
  },
  {
   "cell_type": "code",
   "execution_count": 7,
   "metadata": {},
   "outputs": [
    {
     "name": "stdout",
     "output_type": "stream",
     "text": [
      "{'classes': [{'class': 'UnstructuredDocument', 'description': 'General class for all documents (todo: add more specific classes)', 'invertedIndexConfig': {'bm25': {'b': 0.75, 'k1': 1.2}, 'cleanupIntervalSeconds': 60, 'stopwords': {'additions': None, 'preset': 'en', 'removals': None}}, 'moduleConfig': {'text2vec-openai': {'model': 'ada', 'modelVersion': '002', 'type': 'text', 'vectorizeClassName': False}}, 'multiTenancyConfig': {'enabled': False}, 'properties': [{'dataType': ['text'], 'indexFilterable': True, 'indexSearchable': True, 'moduleConfig': {'text2vec-openai': {'skip': False, 'vectorizePropertyName': False}}, 'name': 'text', 'tokenization': 'word'}, {'dataType': ['text'], 'indexFilterable': True, 'indexSearchable': True, 'moduleConfig': {'text2vec-openai': {'skip': False, 'vectorizePropertyName': False}}, 'name': 'category', 'tokenization': 'word'}, {'dataType': ['text'], 'indexFilterable': True, 'indexSearchable': True, 'moduleConfig': {'text2vec-openai': {'skip': False, 'vectorizePropertyName': False}}, 'name': 'filename', 'tokenization': 'word'}, {'dataType': ['text'], 'indexFilterable': True, 'indexSearchable': True, 'moduleConfig': {'text2vec-openai': {'skip': False, 'vectorizePropertyName': False}}, 'name': 'file_directory', 'tokenization': 'word'}, {'dataType': ['text'], 'indexFilterable': True, 'indexSearchable': True, 'moduleConfig': {'text2vec-openai': {'skip': False, 'vectorizePropertyName': False}}, 'name': 'date', 'tokenization': 'word'}, {'dataType': ['text'], 'indexFilterable': True, 'indexSearchable': True, 'moduleConfig': {'text2vec-openai': {'skip': False, 'vectorizePropertyName': False}}, 'name': 'filetype', 'tokenization': 'word'}, {'dataType': ['text'], 'indexFilterable': True, 'indexSearchable': True, 'moduleConfig': {'text2vec-openai': {'skip': False, 'vectorizePropertyName': False}}, 'name': 'attached_to_filename', 'tokenization': 'word'}, {'dataType': ['int'], 'indexFilterable': True, 'indexSearchable': False, 'moduleConfig': {'text2vec-openai': {'skip': False, 'vectorizePropertyName': False}}, 'name': 'page_number'}, {'dataType': ['text'], 'indexFilterable': True, 'indexSearchable': True, 'moduleConfig': {'text2vec-openai': {'skip': False, 'vectorizePropertyName': False}}, 'name': 'page_name', 'tokenization': 'word'}, {'dataType': ['text'], 'indexFilterable': True, 'indexSearchable': True, 'moduleConfig': {'text2vec-openai': {'skip': False, 'vectorizePropertyName': False}}, 'name': 'url', 'tokenization': 'word'}, {'dataType': ['text'], 'indexFilterable': True, 'indexSearchable': True, 'moduleConfig': {'text2vec-openai': {'skip': False, 'vectorizePropertyName': False}}, 'name': 'sent_from', 'tokenization': 'word'}, {'dataType': ['text'], 'indexFilterable': True, 'indexSearchable': True, 'moduleConfig': {'text2vec-openai': {'skip': False, 'vectorizePropertyName': False}}, 'name': 'sent_to', 'tokenization': 'word'}, {'dataType': ['text'], 'indexFilterable': True, 'indexSearchable': True, 'moduleConfig': {'text2vec-openai': {'skip': False, 'vectorizePropertyName': False}}, 'name': 'subject', 'tokenization': 'word'}, {'dataType': ['text'], 'indexFilterable': True, 'indexSearchable': True, 'moduleConfig': {'text2vec-openai': {'skip': False, 'vectorizePropertyName': False}}, 'name': 'header_footer_type', 'tokenization': 'word'}, {'dataType': ['text'], 'indexFilterable': True, 'indexSearchable': True, 'moduleConfig': {'text2vec-openai': {'skip': False, 'vectorizePropertyName': False}}, 'name': 'text_as_html', 'tokenization': 'word'}, {'dataType': ['text'], 'indexFilterable': True, 'indexSearchable': True, 'moduleConfig': {'text2vec-openai': {'skip': False, 'vectorizePropertyName': False}}, 'name': 'regex_metadata', 'tokenization': 'word'}, {'dataType': ['text'], 'indexFilterable': True, 'indexSearchable': True, 'moduleConfig': {'text2vec-openai': {'skip': False, 'vectorizePropertyName': False}}, 'name': 'tags', 'tokenization': 'word'}, {'dataType': ['text'], 'indexFilterable': True, 'indexSearchable': True, 'moduleConfig': {'text2vec-openai': {'skip': False, 'vectorizePropertyName': False}}, 'name': 'upload_note', 'tokenization': 'word'}], 'replicationConfig': {'factor': 1}, 'shardingConfig': {'virtualPerPhysical': 128, 'desiredCount': 1, 'actualCount': 1, 'desiredVirtualCount': 128, 'actualVirtualCount': 128, 'key': '_id', 'strategy': 'hash', 'function': 'murmur3'}, 'vectorIndexConfig': {'skip': False, 'cleanupIntervalSeconds': 300, 'maxConnections': 64, 'efConstruction': 128, 'ef': -1, 'dynamicEfMin': 100, 'dynamicEfMax': 500, 'dynamicEfFactor': 8, 'vectorCacheMaxObjects': 1000000000000, 'flatSearchCutoff': 40000, 'distance': 'cosine', 'pq': {'enabled': False, 'bitCompression': False, 'segments': 0, 'centroids': 256, 'trainingLimit': 100000, 'encoder': {'type': 'kmeans', 'distribution': 'log-normal'}}}, 'vectorIndexType': 'hnsw', 'vectorizer': 'text2vec-openai'}, {'class': 'ABCNewsArticle', 'description': 'Class for ABC News articles', 'invertedIndexConfig': {'bm25': {'b': 0.75, 'k1': 1.2}, 'cleanupIntervalSeconds': 60, 'stopwords': {'additions': None, 'preset': 'en', 'removals': None}}, 'moduleConfig': {'text2vec-openai': {'model': 'ada', 'modelVersion': '002', 'type': 'text', 'vectorizeClassName': False}}, 'multiTenancyConfig': {'enabled': False}, 'properties': [{'dataType': ['text'], 'indexFilterable': True, 'indexSearchable': True, 'moduleConfig': {'text2vec-openai': {'skip': False, 'vectorizePropertyName': False}}, 'name': 'text', 'tokenization': 'word'}, {'dataType': ['text'], 'indexFilterable': True, 'indexSearchable': True, 'moduleConfig': {'text2vec-openai': {'skip': False, 'vectorizePropertyName': False}}, 'name': 'category', 'tokenization': 'word'}, {'dataType': ['text'], 'indexFilterable': True, 'indexSearchable': True, 'moduleConfig': {'text2vec-openai': {'skip': False, 'vectorizePropertyName': False}}, 'name': 'article_name', 'tokenization': 'word'}, {'dataType': ['text'], 'indexFilterable': True, 'indexSearchable': True, 'moduleConfig': {'text2vec-openai': {'skip': False, 'vectorizePropertyName': False}}, 'name': 'author_list', 'tokenization': 'word'}, {'dataType': ['text'], 'indexFilterable': True, 'indexSearchable': True, 'moduleConfig': {'text2vec-openai': {'skip': False, 'vectorizePropertyName': False}}, 'name': 'publisher', 'tokenization': 'word'}, {'dataType': ['text'], 'indexFilterable': True, 'indexSearchable': True, 'moduleConfig': {'text2vec-openai': {'skip': False, 'vectorizePropertyName': False}}, 'name': 'date', 'tokenization': 'word'}, {'dataType': ['text'], 'indexFilterable': True, 'indexSearchable': True, 'moduleConfig': {'text2vec-openai': {'skip': False, 'vectorizePropertyName': False}}, 'name': 'url', 'tokenization': 'word'}, {'dataType': ['text'], 'indexFilterable': True, 'indexSearchable': True, 'moduleConfig': {'text2vec-openai': {'skip': False, 'vectorizePropertyName': False}}, 'name': 'tags', 'tokenization': 'word'}, {'dataType': ['text'], 'indexFilterable': True, 'indexSearchable': True, 'moduleConfig': {'text2vec-openai': {'skip': False, 'vectorizePropertyName': False}}, 'name': 'upload_note', 'tokenization': 'word'}], 'replicationConfig': {'factor': 1}, 'shardingConfig': {'virtualPerPhysical': 128, 'desiredCount': 1, 'actualCount': 1, 'desiredVirtualCount': 128, 'actualVirtualCount': 128, 'key': '_id', 'strategy': 'hash', 'function': 'murmur3'}, 'vectorIndexConfig': {'skip': False, 'cleanupIntervalSeconds': 300, 'maxConnections': 64, 'efConstruction': 128, 'ef': -1, 'dynamicEfMin': 100, 'dynamicEfMax': 500, 'dynamicEfFactor': 8, 'vectorCacheMaxObjects': 1000000000000, 'flatSearchCutoff': 40000, 'distance': 'cosine', 'pq': {'enabled': False, 'bitCompression': False, 'segments': 0, 'centroids': 256, 'trainingLimit': 100000, 'encoder': {'type': 'kmeans', 'distribution': 'log-normal'}}}, 'vectorIndexType': 'hnsw', 'vectorizer': 'text2vec-openai'}]}\n"
     ]
    }
   ],
   "source": [
    "schema = client.schema.get()\n",
    "print(schema)"
   ]
  },
  {
   "attachments": {},
   "cell_type": "markdown",
   "metadata": {},
   "source": [
    "### Delete all classes in schema"
   ]
  },
  {
   "cell_type": "code",
   "execution_count": 9,
   "metadata": {},
   "outputs": [],
   "source": [
    "schema = client.schema.get()\n",
    "\n",
    "for class_info in schema['classes']:\n",
    "    class_name = class_info['class']\n",
    "    client.schema.delete_class(class_name)"
   ]
  },
  {
   "attachments": {},
   "cell_type": "markdown",
   "metadata": {},
   "source": [
    "### Show properties of the first class in the schema"
   ]
  },
  {
   "cell_type": "code",
   "execution_count": 13,
   "metadata": {},
   "outputs": [
    {
     "data": {
      "text/plain": [
       "{'class': 'ABCNewsArticle',\n",
       " 'description': 'Class for ABC News articles',\n",
       " 'invertedIndexConfig': {'bm25': {'b': 0.75, 'k1': 1.2},\n",
       "  'cleanupIntervalSeconds': 60,\n",
       "  'stopwords': {'additions': None, 'preset': 'en', 'removals': None}},\n",
       " 'moduleConfig': {'text2vec-openai': {'model': 'ada',\n",
       "   'modelVersion': '002',\n",
       "   'type': 'text',\n",
       "   'vectorizeClassName': False}},\n",
       " 'multiTenancyConfig': {'enabled': False},\n",
       " 'properties': [{'dataType': ['text'],\n",
       "   'indexFilterable': True,\n",
       "   'indexSearchable': True,\n",
       "   'moduleConfig': {'text2vec-openai': {'skip': False,\n",
       "     'vectorizePropertyName': False}},\n",
       "   'name': 'text',\n",
       "   'tokenization': 'word'},\n",
       "  {'dataType': ['text'],\n",
       "   'indexFilterable': True,\n",
       "   'indexSearchable': True,\n",
       "   'moduleConfig': {'text2vec-openai': {'skip': False,\n",
       "     'vectorizePropertyName': False}},\n",
       "   'name': 'category',\n",
       "   'tokenization': 'word'},\n",
       "  {'dataType': ['text'],\n",
       "   'indexFilterable': True,\n",
       "   'indexSearchable': True,\n",
       "   'moduleConfig': {'text2vec-openai': {'skip': False,\n",
       "     'vectorizePropertyName': False}},\n",
       "   'name': 'article_name',\n",
       "   'tokenization': 'word'},\n",
       "  {'dataType': ['text'],\n",
       "   'indexFilterable': True,\n",
       "   'indexSearchable': True,\n",
       "   'moduleConfig': {'text2vec-openai': {'skip': False,\n",
       "     'vectorizePropertyName': False}},\n",
       "   'name': 'author_list',\n",
       "   'tokenization': 'word'},\n",
       "  {'dataType': ['text'],\n",
       "   'indexFilterable': True,\n",
       "   'indexSearchable': True,\n",
       "   'moduleConfig': {'text2vec-openai': {'skip': False,\n",
       "     'vectorizePropertyName': False}},\n",
       "   'name': 'publisher',\n",
       "   'tokenization': 'word'},\n",
       "  {'dataType': ['text'],\n",
       "   'indexFilterable': True,\n",
       "   'indexSearchable': True,\n",
       "   'moduleConfig': {'text2vec-openai': {'skip': False,\n",
       "     'vectorizePropertyName': False}},\n",
       "   'name': 'date',\n",
       "   'tokenization': 'word'},\n",
       "  {'dataType': ['text'],\n",
       "   'indexFilterable': True,\n",
       "   'indexSearchable': True,\n",
       "   'moduleConfig': {'text2vec-openai': {'skip': False,\n",
       "     'vectorizePropertyName': False}},\n",
       "   'name': 'url',\n",
       "   'tokenization': 'word'},\n",
       "  {'dataType': ['text'],\n",
       "   'indexFilterable': True,\n",
       "   'indexSearchable': True,\n",
       "   'moduleConfig': {'text2vec-openai': {'skip': False,\n",
       "     'vectorizePropertyName': False}},\n",
       "   'name': 'tags',\n",
       "   'tokenization': 'word'},\n",
       "  {'dataType': ['text'],\n",
       "   'indexFilterable': True,\n",
       "   'indexSearchable': True,\n",
       "   'moduleConfig': {'text2vec-openai': {'skip': False,\n",
       "     'vectorizePropertyName': False}},\n",
       "   'name': 'upload_note',\n",
       "   'tokenization': 'word'}],\n",
       " 'replicationConfig': {'factor': 1},\n",
       " 'shardingConfig': {'virtualPerPhysical': 128,\n",
       "  'desiredCount': 1,\n",
       "  'actualCount': 1,\n",
       "  'desiredVirtualCount': 128,\n",
       "  'actualVirtualCount': 128,\n",
       "  'key': '_id',\n",
       "  'strategy': 'hash',\n",
       "  'function': 'murmur3'},\n",
       " 'vectorIndexConfig': {'skip': False,\n",
       "  'cleanupIntervalSeconds': 300,\n",
       "  'maxConnections': 64,\n",
       "  'efConstruction': 128,\n",
       "  'ef': -1,\n",
       "  'dynamicEfMin': 100,\n",
       "  'dynamicEfMax': 500,\n",
       "  'dynamicEfFactor': 8,\n",
       "  'vectorCacheMaxObjects': 1000000000000,\n",
       "  'flatSearchCutoff': 40000,\n",
       "  'distance': 'cosine',\n",
       "  'pq': {'enabled': False,\n",
       "   'bitCompression': False,\n",
       "   'segments': 0,\n",
       "   'centroids': 256,\n",
       "   'trainingLimit': 100000,\n",
       "   'encoder': {'type': 'kmeans', 'distribution': 'log-normal'}}},\n",
       " 'vectorIndexType': 'hnsw',\n",
       " 'vectorizer': 'text2vec-openai'}"
      ]
     },
     "execution_count": 13,
     "metadata": {},
     "output_type": "execute_result"
    }
   ],
   "source": [
    "schema = client.schema.get()\n",
    "schema['classes'][1]"
   ]
  },
  {
   "attachments": {},
   "cell_type": "markdown",
   "metadata": {},
   "source": [
    "## Ingest document data using Unstructured\n",
    "Unstructured allows essentially any file to be uploaded and text data extracted. Testing on documents in `../data/`."
   ]
  },
  {
   "cell_type": "code",
   "execution_count": 16,
   "metadata": {},
   "outputs": [
    {
     "name": "stdout",
     "output_type": "stream",
     "text": [
      "filename: Politics and the English Language - George Orwell.pdf\n",
      "file_directory: ../data\n",
      "filetype: application/pdf\n",
      "page_number: 1\n",
      "text: Politics and the English Language - George Orwell\n",
      "category: Title\n"
     ]
    }
   ],
   "source": [
    "doc_elements = partition(\"../data/Politics and the English Language - George Orwell.pdf\")\n",
    "data_objects = stage_for_weaviate(doc_elements)\n",
    "\n",
    "for key in ['filename', 'file_directory', 'filetype', 'page_number', 'text', 'category']:\n",
    "    print(\"{0}: {1}\".format(key, data_objects[0][key]))"
   ]
  },
  {
   "cell_type": "code",
   "execution_count": 25,
   "metadata": {},
   "outputs": [
    {
     "data": {
      "text/plain": [
       "dict_keys(['filetype', 'page_number', 'text', 'category'])"
      ]
     },
     "execution_count": 25,
     "metadata": {},
     "output_type": "execute_result"
    }
   ],
   "source": [
    "data_objects[0].keys()"
   ]
  },
  {
   "attachments": {},
   "cell_type": "markdown",
   "metadata": {},
   "source": [
    "Not sure how much of the above data actually needs to be stored. Store it all for now, but there's likely more interesting metadata to be added here. Examples might be a sentiment analysis score, GPT-generated summary, external links and internal links, etc. \n",
    "\n",
    "Upload to Weaviate with the uploaded data fitting the defined schema:"
   ]
  },
  {
   "cell_type": "code",
   "execution_count": 14,
   "metadata": {},
   "outputs": [
    {
     "data": {
      "text/plain": [
       "'Thousands take to streets for 2023 NAIDOC parade in Darwin CBD'"
      ]
     },
     "execution_count": 14,
     "metadata": {},
     "output_type": "execute_result"
    }
   ],
   "source": [
    "# show the first data object of UncategorizedTest \n",
    "data_objects[0]['text']"
   ]
  },
  {
   "cell_type": "code",
   "execution_count": 15,
   "metadata": {},
   "outputs": [],
   "source": [
    "upload_note = \"\"\n",
    "tags = \"treaty, voice to parliament\"\n",
    "\n",
    "\n",
    "with client.batch(batch_size=10) as batch:\n",
    "    for i, d in enumerate(data_objects):  \n",
    "        properties = {\n",
    "            'category': d['category'],\n",
    "            'text': d['text'],\n",
    "            'article_name' : data_objects[0]['text'],\n",
    "            'url': article_url,\n",
    "            'filetype': d['filetype'],\n",
    "            'date': date.today().strftime(\"%Y-%m-%d\"),\n",
    "            'upload_note': upload_note, # testing\n",
    "            'tags': tags # testing\n",
    "        }\n",
    "        batch.add_data_object(\n",
    "            properties,\n",
    "            'ABCNewsArticle',\n",
    "            uuid=generate_uuid5(properties),\n",
    "        )"
   ]
  },
  {
   "attachments": {},
   "cell_type": "markdown",
   "metadata": {},
   "source": [
    "## Querying Weaviate\n",
    "Once the data is in Weaviate, a NearText search (to research) can be performed to find concepts similar to user input:"
   ]
  },
  {
   "cell_type": "code",
   "execution_count": 16,
   "metadata": {},
   "outputs": [],
   "source": [
    "nearText = {\"concepts\": [\"renters\", \"cost of living\"]}\n",
    "\n",
    "client = weaviate.Client(\n",
    "    url=weaviate_url,\n",
    "    auth_client_secret=weaviate.AuthApiKey(api_key=weaviate_api_key),\n",
    "    additional_headers= {\n",
    "        \"X-OpenAI-Api-Key\": openai_api_key,\n",
    "    }\n",
    ")\n",
    "\n",
    "\n",
    "response = (\n",
    "    client.query  # start a new query\n",
    "    .get(\"ABCNewsArticle\", [\"text\", \"article_name\", \"upload_note\", \"tags\"])  # get objects of the \"UnstructuredDocument\" class and retrieve their \"text\" property\n",
    "    .with_near_text(nearText)  # find objects that are semantically similar to the text in \"nearText\"\n",
    "    .with_limit(6)  # limit the results to the top 2 most similar objects\n",
    "    #.with_where({\n",
    "    #    \"path\": [\"tags\"],\n",
    "    #    \"operator\": \"Equal\",\n",
    "    #    \"valueString\": \"updatedtest\"\n",
    "    #})\n",
    "    .do()  # execute the query\n",
    ")\n",
    "\n"
   ]
  },
  {
   "cell_type": "code",
   "execution_count": 18,
   "metadata": {},
   "outputs": [],
   "source": [
    "client = weaviate.Client(\n",
    "    url=weaviate_url,\n",
    "    auth_client_secret=weaviate.AuthApiKey(api_key=weaviate_api_key),\n",
    "    additional_headers= {\n",
    "        \"X-OpenAI-Api-Key\": openai_api_key,\n",
    "    }\n",
    ")\n",
    "\n",
    "response = (\n",
    "    client.query  # start a new query\n",
    "    .get(\"ABCNewsArticle\", [\"text\", \"article_name\", \"category\"])  # limit the results to the top 2 most similar objects\n",
    "    .with_where({\n",
    "        \"path\": [\"tags\"],\n",
    "        \"operator\": \"Equal\",\n",
    "        \"valueString\": \"test\"\n",
    "    })\n",
    "    .do()  # execute the query\n",
    ")"
   ]
  },
  {
   "cell_type": "code",
   "execution_count": 19,
   "metadata": {},
   "outputs": [
    {
     "ename": "IndexError",
     "evalue": "list index out of range",
     "output_type": "error",
     "traceback": [
      "\u001b[1;31m---------------------------------------------------------------------------\u001b[0m",
      "\u001b[1;31mIndexError\u001b[0m                                Traceback (most recent call last)",
      "Cell \u001b[1;32mIn[19], line 2\u001b[0m\n\u001b[0;32m      1\u001b[0m \u001b[39m# extract text from response\u001b[39;00m\n\u001b[1;32m----> 2\u001b[0m \u001b[39mprint\u001b[39m(\u001b[39m\"\u001b[39m\u001b[39mtitle: \u001b[39m\u001b[39m\"\u001b[39m \u001b[39m+\u001b[39m response[\u001b[39m'\u001b[39;49m\u001b[39mdata\u001b[39;49m\u001b[39m'\u001b[39;49m][\u001b[39m'\u001b[39;49m\u001b[39mGet\u001b[39;49m\u001b[39m'\u001b[39;49m][\u001b[39m'\u001b[39;49m\u001b[39mABCNewsArticle\u001b[39;49m\u001b[39m'\u001b[39;49m][\u001b[39m0\u001b[39;49m][\u001b[39m'\u001b[39m\u001b[39mtext\u001b[39m\u001b[39m'\u001b[39m])\n\u001b[0;32m      3\u001b[0m \u001b[39mfor\u001b[39;00m i, r \u001b[39min\u001b[39;00m \u001b[39menumerate\u001b[39m(response[\u001b[39m'\u001b[39m\u001b[39mdata\u001b[39m\u001b[39m'\u001b[39m][\u001b[39m'\u001b[39m\u001b[39mGet\u001b[39m\u001b[39m'\u001b[39m][\u001b[39m'\u001b[39m\u001b[39mABCNewsArticle\u001b[39m\u001b[39m'\u001b[39m]):\n\u001b[0;32m      4\u001b[0m     \u001b[39mprint\u001b[39m(\u001b[39m\"\u001b[39m\u001b[39m\\n\u001b[39;00m\u001b[39mcategory: \u001b[39m\u001b[39m{0}\u001b[39;00m\u001b[39m\\n\u001b[39;00m\u001b[39mcontent: \u001b[39m\u001b[39m{1}\u001b[39;00m\u001b[39m\"\u001b[39m\n\u001b[0;32m      5\u001b[0m     \u001b[39m.\u001b[39mformat(r[\u001b[39m'\u001b[39m\u001b[39mcategory\u001b[39m\u001b[39m'\u001b[39m], r[\u001b[39m'\u001b[39m\u001b[39mtext\u001b[39m\u001b[39m'\u001b[39m]))\n",
      "\u001b[1;31mIndexError\u001b[0m: list index out of range"
     ]
    }
   ],
   "source": [
    "# extract text from response\n",
    "print(\"title: \" + response['data']['Get']['ABCNewsArticle'][0]['text'])\n",
    "for i, r in enumerate(response['data']['Get']['ABCNewsArticle']):\n",
    "    print(\"\\ncategory: {0}\\ncontent: {1}\"\n",
    "    .format(r['category'], r['text']))"
   ]
  },
  {
   "cell_type": "code",
   "execution_count": null,
   "metadata": {},
   "outputs": [],
   "source": []
  }
 ],
 "metadata": {
  "kernelspec": {
   "display_name": "your-libary",
   "language": "python",
   "name": "python3"
  },
  "language_info": {
   "codemirror_mode": {
    "name": "ipython",
    "version": 3
   },
   "file_extension": ".py",
   "mimetype": "text/x-python",
   "name": "python",
   "nbconvert_exporter": "python",
   "pygments_lexer": "ipython3",
   "version": "3.10.11"
  },
  "orig_nbformat": 4
 },
 "nbformat": 4,
 "nbformat_minor": 2
}
