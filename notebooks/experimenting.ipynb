{
 "cells": [
  {
   "attachments": {},
   "cell_type": "markdown",
   "metadata": {},
   "source": [
    "# Handling Unstructured Data"
   ]
  },
  {
   "cell_type": "code",
   "execution_count": 1,
   "metadata": {},
   "outputs": [
    {
     "data": {
      "text/plain": [
       "True"
      ]
     },
     "execution_count": 1,
     "metadata": {},
     "output_type": "execute_result"
    }
   ],
   "source": [
    "\n",
    "import weaviate\n",
    "from weaviate.util import generate_uuid5\n",
    "\n",
    "from dotenv import load_dotenv\n",
    "import os\n",
    "import json\n",
    "\n",
    "from datetime import date\n",
    "import tqdm\n",
    "load_dotenv()"
   ]
  },
  {
   "cell_type": "code",
   "execution_count": 2,
   "metadata": {},
   "outputs": [],
   "source": [
    "import weaviate\n",
    "import openai\n",
    "weaviate_url = os.getenv(\"WEAVIATE_URL\")\n",
    "weaviate_api_key = os.getenv(\"WEAVIATE_API_KEY\")\n",
    "openai_api_key=os.getenv(\"OPENAI_API_KEY\")"
   ]
  },
  {
   "attachments": {},
   "cell_type": "markdown",
   "metadata": {},
   "source": [
    "## Weaviate schemas\n",
    "Schemas are patterns for data. The template that exists is a good base but this layer is ripe for customization. \n",
    "\n",
    "Allowing user input here can assist with searching later on. The recommendation engine can use tags to help put useful information in front of me. Auto-ingesting data could also use tags for reliable sources (e.g. #media)\n",
    "\n",
    "A blank text box (upload note - i like the name reverie) which would be useful for experimenting and curating a database."
   ]
  },
  {
   "attachments": {},
   "cell_type": "markdown",
   "metadata": {},
   "source": [
    "What follows is the definition a generalized 'unstructured document' class for Weaviate. Once this is working, next step is to make one for a specific use-case, e.g. abc online articles. "
   ]
  },
  {
   "cell_type": "code",
   "execution_count": 3,
   "metadata": {},
   "outputs": [],
   "source": [
    "langchain_document = {\n",
    "    'class': 'LangchainDocument',\n",
    "    'description': 'General class for all documents (todo: add more specific classes)',\n",
    "    'properties': [\n",
    "        {'name': 'text', 'dataType': ['text']},\n",
    "        {'name': 'source', 'dataType': ['text']},\n",
    "        {'name': 'date', 'dataType': ['text']},\n",
    "        {'name': 'url', 'dataType': ['text']},\n",
    "    ],\n",
    "    'vectorizer': 'text2vec-openai', \n",
    "    \"moduleConfig\": {\n",
    "        \"text2vec-openai\": {\n",
    "            \"vectorizeClassName\": False\n",
    "        }\n",
    "    },\n",
    "\n",
    "}\n",
    "\n",
    "\n",
    "client = weaviate.Client(\n",
    "    url=weaviate_url,\n",
    "    auth_client_secret=weaviate.AuthApiKey(api_key=weaviate_api_key),\n",
    "    additional_headers= {\n",
    "        \"X-OpenAI-Api-Key\": openai_api_key,\n",
    "    }\n",
    ")\n"
   ]
  },
  {
   "attachments": {},
   "cell_type": "markdown",
   "metadata": {},
   "source": [
    "## Schemas vs. classes\n",
    "Important to differentiate between schemas and classes. From GPT-4:\n",
    "\n",
    ">In Weaviate, a schema is a high-level structure that defines the types of data that can be stored in the database. It's like a blueprint for the data. A schema consists of classes and their properties.\n",
    ">\n",
    ">A class, on the other hand, is a part of the schema. It represents a concept or type of object in the database. For example, in a schema for a library database, you might have classes like \"Book\", \"Author\", and \"Publisher\". Each class has properties that define the characteristics of the objects of that class. For instance, the \"Book\" class might have properties like \"title\", \"author\", and \"publication_date\".\n",
    ">\n",
    ">Here's an analogy: If you think of the schema as a city plan, then the classes would be the different types of buildings (like houses, apartment buildings, and office buildings), and the properties would be the characteristics of those buildings (like the number of floors, the color, and the year of construction).\n",
    ">\n",
    ">In summary:\n",
    ">- A schema is the overall structure of the data in Weaviate. It defines what kinds of objects (classes) can be stored and what characteristics (properties) those objects can have.\n",
    ">- A class is a type of object in the schema. It represents a concept and has properties that define the characteristics of the objects of that class."
   ]
  },
  {
   "attachments": {},
   "cell_type": "markdown",
   "metadata": {},
   "source": [
    "## Modifying the schema\n",
    "Below code blocks are used to update the schema in Weaviate. Don't need to run this every time."
   ]
  },
  {
   "cell_type": "markdown",
   "metadata": {},
   "source": []
  },
  {
   "cell_type": "markdown",
   "metadata": {},
   "source": []
  },
  {
   "attachments": {},
   "cell_type": "markdown",
   "metadata": {},
   "source": [
    "### Create schema with the defined classes"
   ]
  },
  {
   "cell_type": "code",
   "execution_count": 11,
   "metadata": {},
   "outputs": [],
   "source": [
    "schema = {\"classes\": [langchain_document]}\n",
    "client.schema.create(schema)"
   ]
  },
  {
   "attachments": {},
   "cell_type": "markdown",
   "metadata": {},
   "source": [
    "### Print defined schemas"
   ]
  },
  {
   "cell_type": "code",
   "execution_count": 6,
   "metadata": {},
   "outputs": [
    {
     "name": "stdout",
     "output_type": "stream",
     "text": [
      "{'classes': []}\n"
     ]
    }
   ],
   "source": [
    "schema = client.schema.get()\n",
    "print(schema)"
   ]
  },
  {
   "attachments": {},
   "cell_type": "markdown",
   "metadata": {},
   "source": [
    "### Delete all classes in schema"
   ]
  },
  {
   "cell_type": "code",
   "execution_count": 5,
   "metadata": {},
   "outputs": [],
   "source": [
    "schema = client.schema.get()\n",
    "\n",
    "for class_info in schema['classes']:\n",
    "    class_name = class_info['class']\n",
    "    client.schema.delete_class(class_name)"
   ]
  },
  {
   "attachments": {},
   "cell_type": "markdown",
   "metadata": {},
   "source": [
    "### Show properties of the first class in the schema"
   ]
  },
  {
   "cell_type": "code",
   "execution_count": null,
   "metadata": {},
   "outputs": [],
   "source": [
    "schema = client.schema.get()\n",
    "schema['classes'][0]['properties']"
   ]
  },
  {
   "attachments": {},
   "cell_type": "markdown",
   "metadata": {},
   "source": [
    "## Ingest document data using Unstructured\n",
    "Unstructured allows essentially any file to be uploaded and text data extracted. Testing on documents in `../data/`."
   ]
  },
  {
   "cell_type": "code",
   "execution_count": 16,
   "metadata": {},
   "outputs": [
    {
     "name": "stdout",
     "output_type": "stream",
     "text": [
      "filename: Politics and the English Language - George Orwell.pdf\n",
      "file_directory: ../data\n",
      "filetype: application/pdf\n",
      "page_number: 1\n",
      "text: Politics and the English Language - George Orwell\n",
      "category: Title\n"
     ]
    }
   ],
   "source": [
    "doc_elements = partition(\"../data/Politics and the English Language - George Orwell.pdf\")\n",
    "data_objects = stage_for_weaviate(doc_elements)\n",
    "\n",
    "for key in ['filename', 'file_directory', 'filetype', 'page_number', 'text', 'category']:\n",
    "    print(\"{0}: {1}\".format(key, data_objects[0][key]))"
   ]
  },
  {
   "cell_type": "code",
   "execution_count": 19,
   "metadata": {},
   "outputs": [
    {
     "data": {
      "text/plain": [
       "dict_keys(['filename', 'file_directory', 'filetype', 'page_number', 'text', 'category'])"
      ]
     },
     "execution_count": 19,
     "metadata": {},
     "output_type": "execute_result"
    }
   ],
   "source": [
    "data_objects[0].keys()"
   ]
  },
  {
   "cell_type": "code",
   "execution_count": 14,
   "metadata": {},
   "outputs": [
    {
     "data": {
      "text/html": [
       "<div>\n",
       "<style scoped>\n",
       "    .dataframe tbody tr th:only-of-type {\n",
       "        vertical-align: middle;\n",
       "    }\n",
       "\n",
       "    .dataframe tbody tr th {\n",
       "        vertical-align: top;\n",
       "    }\n",
       "\n",
       "    .dataframe thead th {\n",
       "        text-align: right;\n",
       "    }\n",
       "</style>\n",
       "<table border=\"1\" class=\"dataframe\">\n",
       "  <thead>\n",
       "    <tr style=\"text-align: right;\">\n",
       "      <th></th>\n",
       "      <th>0</th>\n",
       "    </tr>\n",
       "  </thead>\n",
       "  <tbody>\n",
       "    <tr>\n",
       "      <th>0</th>\n",
       "      <td>Politics and the English Language - George Orw...</td>\n",
       "    </tr>\n",
       "    <tr>\n",
       "      <th>1</th>\n",
       "      <td>Politics and the English Language - George Orw...</td>\n",
       "    </tr>\n",
       "    <tr>\n",
       "      <th>2</th>\n",
       "      <td>Politics and the English Language - George Orw...</td>\n",
       "    </tr>\n",
       "    <tr>\n",
       "      <th>3</th>\n",
       "      <td>Politics and the English Language - George Orw...</td>\n",
       "    </tr>\n",
       "    <tr>\n",
       "      <th>4</th>\n",
       "      <td>Politics and the English Language - George Orw...</td>\n",
       "    </tr>\n",
       "    <tr>\n",
       "      <th>5</th>\n",
       "      <td>Politics and the English Language - George Orw...</td>\n",
       "    </tr>\n",
       "    <tr>\n",
       "      <th>6</th>\n",
       "      <td>Politics and the English Language - George Orw...</td>\n",
       "    </tr>\n",
       "    <tr>\n",
       "      <th>7</th>\n",
       "      <td>Politics and the English Language - George Orw...</td>\n",
       "    </tr>\n",
       "    <tr>\n",
       "      <th>8</th>\n",
       "      <td>Politics and the English Language - George Orw...</td>\n",
       "    </tr>\n",
       "    <tr>\n",
       "      <th>9</th>\n",
       "      <td>Politics and the English Language - George Orw...</td>\n",
       "    </tr>\n",
       "    <tr>\n",
       "      <th>10</th>\n",
       "      <td>Politics and the English Language - George Orw...</td>\n",
       "    </tr>\n",
       "    <tr>\n",
       "      <th>11</th>\n",
       "      <td>Politics and the English Language - George Orw...</td>\n",
       "    </tr>\n",
       "    <tr>\n",
       "      <th>12</th>\n",
       "      <td>Politics and the English Language - George Orw...</td>\n",
       "    </tr>\n",
       "    <tr>\n",
       "      <th>13</th>\n",
       "      <td>Politics and the English Language - George Orw...</td>\n",
       "    </tr>\n",
       "    <tr>\n",
       "      <th>14</th>\n",
       "      <td>Politics and the English Language - George Orw...</td>\n",
       "    </tr>\n",
       "    <tr>\n",
       "      <th>15</th>\n",
       "      <td>Politics and the English Language - George Orw...</td>\n",
       "    </tr>\n",
       "    <tr>\n",
       "      <th>16</th>\n",
       "      <td>Politics and the English Language - George Orw...</td>\n",
       "    </tr>\n",
       "    <tr>\n",
       "      <th>17</th>\n",
       "      <td>Politics and the English Language - George Orw...</td>\n",
       "    </tr>\n",
       "    <tr>\n",
       "      <th>18</th>\n",
       "      <td>Politics and the English Language - George Orw...</td>\n",
       "    </tr>\n",
       "    <tr>\n",
       "      <th>19</th>\n",
       "      <td>Politics and the English Language - George Orw...</td>\n",
       "    </tr>\n",
       "    <tr>\n",
       "      <th>20</th>\n",
       "      <td>Politics and the English Language - George Orw...</td>\n",
       "    </tr>\n",
       "    <tr>\n",
       "      <th>21</th>\n",
       "      <td>Politics and the English Language - George Orw...</td>\n",
       "    </tr>\n",
       "    <tr>\n",
       "      <th>22</th>\n",
       "      <td>Politics and the English Language - George Orw...</td>\n",
       "    </tr>\n",
       "    <tr>\n",
       "      <th>23</th>\n",
       "      <td>Politics and the English Language - George Orw...</td>\n",
       "    </tr>\n",
       "    <tr>\n",
       "      <th>24</th>\n",
       "      <td>Politics and the English Language - George Orw...</td>\n",
       "    </tr>\n",
       "    <tr>\n",
       "      <th>25</th>\n",
       "      <td>Politics and the English Language - George Orw...</td>\n",
       "    </tr>\n",
       "    <tr>\n",
       "      <th>26</th>\n",
       "      <td>Politics and the English Language - George Orw...</td>\n",
       "    </tr>\n",
       "    <tr>\n",
       "      <th>27</th>\n",
       "      <td>Politics and the English Language - George Orw...</td>\n",
       "    </tr>\n",
       "    <tr>\n",
       "      <th>28</th>\n",
       "      <td>Politics and the English Language - George Orw...</td>\n",
       "    </tr>\n",
       "    <tr>\n",
       "      <th>29</th>\n",
       "      <td>Politics and the English Language - George Orw...</td>\n",
       "    </tr>\n",
       "    <tr>\n",
       "      <th>30</th>\n",
       "      <td>Politics and the English Language - George Orw...</td>\n",
       "    </tr>\n",
       "    <tr>\n",
       "      <th>31</th>\n",
       "      <td>Politics and the English Language - George Orw...</td>\n",
       "    </tr>\n",
       "    <tr>\n",
       "      <th>32</th>\n",
       "      <td>Politics and the English Language - George Orw...</td>\n",
       "    </tr>\n",
       "    <tr>\n",
       "      <th>33</th>\n",
       "      <td>Politics and the English Language - George Orw...</td>\n",
       "    </tr>\n",
       "    <tr>\n",
       "      <th>34</th>\n",
       "      <td>Politics and the English Language - George Orw...</td>\n",
       "    </tr>\n",
       "    <tr>\n",
       "      <th>35</th>\n",
       "      <td>Politics and the English Language - George Orw...</td>\n",
       "    </tr>\n",
       "    <tr>\n",
       "      <th>36</th>\n",
       "      <td>Politics and the English Language - George Orw...</td>\n",
       "    </tr>\n",
       "    <tr>\n",
       "      <th>37</th>\n",
       "      <td>Politics and the English Language - George Orw...</td>\n",
       "    </tr>\n",
       "    <tr>\n",
       "      <th>38</th>\n",
       "      <td>Politics and the English Language - George Orw...</td>\n",
       "    </tr>\n",
       "    <tr>\n",
       "      <th>39</th>\n",
       "      <td>Politics and the English Language - George Orw...</td>\n",
       "    </tr>\n",
       "    <tr>\n",
       "      <th>40</th>\n",
       "      <td>Politics and the English Language - George Orw...</td>\n",
       "    </tr>\n",
       "    <tr>\n",
       "      <th>41</th>\n",
       "      <td>Politics and the English Language - George Orw...</td>\n",
       "    </tr>\n",
       "    <tr>\n",
       "      <th>42</th>\n",
       "      <td>Politics and the English Language - George Orw...</td>\n",
       "    </tr>\n",
       "    <tr>\n",
       "      <th>43</th>\n",
       "      <td>Politics and the English Language - George Orw...</td>\n",
       "    </tr>\n",
       "    <tr>\n",
       "      <th>44</th>\n",
       "      <td>Politics and the English Language - George Orw...</td>\n",
       "    </tr>\n",
       "    <tr>\n",
       "      <th>45</th>\n",
       "      <td>Politics and the English Language - George Orw...</td>\n",
       "    </tr>\n",
       "    <tr>\n",
       "      <th>46</th>\n",
       "      <td>Politics and the English Language - George Orw...</td>\n",
       "    </tr>\n",
       "    <tr>\n",
       "      <th>47</th>\n",
       "      <td>Politics and the English Language - George Orw...</td>\n",
       "    </tr>\n",
       "    <tr>\n",
       "      <th>48</th>\n",
       "      <td>Politics and the English Language - George Orw...</td>\n",
       "    </tr>\n",
       "    <tr>\n",
       "      <th>49</th>\n",
       "      <td>Politics and the English Language - George Orw...</td>\n",
       "    </tr>\n",
       "    <tr>\n",
       "      <th>50</th>\n",
       "      <td>Politics and the English Language - George Orw...</td>\n",
       "    </tr>\n",
       "    <tr>\n",
       "      <th>51</th>\n",
       "      <td>Politics and the English Language - George Orw...</td>\n",
       "    </tr>\n",
       "    <tr>\n",
       "      <th>52</th>\n",
       "      <td>Politics and the English Language - George Orw...</td>\n",
       "    </tr>\n",
       "  </tbody>\n",
       "</table>\n",
       "</div>"
      ],
      "text/plain": [
       "                                                    0\n",
       "0   Politics and the English Language - George Orw...\n",
       "1   Politics and the English Language - George Orw...\n",
       "2   Politics and the English Language - George Orw...\n",
       "3   Politics and the English Language - George Orw...\n",
       "4   Politics and the English Language - George Orw...\n",
       "5   Politics and the English Language - George Orw...\n",
       "6   Politics and the English Language - George Orw...\n",
       "7   Politics and the English Language - George Orw...\n",
       "8   Politics and the English Language - George Orw...\n",
       "9   Politics and the English Language - George Orw...\n",
       "10  Politics and the English Language - George Orw...\n",
       "11  Politics and the English Language - George Orw...\n",
       "12  Politics and the English Language - George Orw...\n",
       "13  Politics and the English Language - George Orw...\n",
       "14  Politics and the English Language - George Orw...\n",
       "15  Politics and the English Language - George Orw...\n",
       "16  Politics and the English Language - George Orw...\n",
       "17  Politics and the English Language - George Orw...\n",
       "18  Politics and the English Language - George Orw...\n",
       "19  Politics and the English Language - George Orw...\n",
       "20  Politics and the English Language - George Orw...\n",
       "21  Politics and the English Language - George Orw...\n",
       "22  Politics and the English Language - George Orw...\n",
       "23  Politics and the English Language - George Orw...\n",
       "24  Politics and the English Language - George Orw...\n",
       "25  Politics and the English Language - George Orw...\n",
       "26  Politics and the English Language - George Orw...\n",
       "27  Politics and the English Language - George Orw...\n",
       "28  Politics and the English Language - George Orw...\n",
       "29  Politics and the English Language - George Orw...\n",
       "30  Politics and the English Language - George Orw...\n",
       "31  Politics and the English Language - George Orw...\n",
       "32  Politics and the English Language - George Orw...\n",
       "33  Politics and the English Language - George Orw...\n",
       "34  Politics and the English Language - George Orw...\n",
       "35  Politics and the English Language - George Orw...\n",
       "36  Politics and the English Language - George Orw...\n",
       "37  Politics and the English Language - George Orw...\n",
       "38  Politics and the English Language - George Orw...\n",
       "39  Politics and the English Language - George Orw...\n",
       "40  Politics and the English Language - George Orw...\n",
       "41  Politics and the English Language - George Orw...\n",
       "42  Politics and the English Language - George Orw...\n",
       "43  Politics and the English Language - George Orw...\n",
       "44  Politics and the English Language - George Orw...\n",
       "45  Politics and the English Language - George Orw...\n",
       "46  Politics and the English Language - George Orw...\n",
       "47  Politics and the English Language - George Orw...\n",
       "48  Politics and the English Language - George Orw...\n",
       "49  Politics and the English Language - George Orw...\n",
       "50  Politics and the English Language - George Orw...\n",
       "51  Politics and the English Language - George Orw...\n",
       "52  Politics and the English Language - George Orw..."
      ]
     },
     "execution_count": 14,
     "metadata": {},
     "output_type": "execute_result"
    }
   ],
   "source": [
    "# show text property of data_objectin a streamlit table\n",
    "import pandas as pd\n",
    "df = pd.DataFrame([data_object['filename'] for data_object in data_objects])\n",
    "df\n"
   ]
  },
  {
   "attachments": {},
   "cell_type": "markdown",
   "metadata": {},
   "source": [
    "Not sure how much of the above data actually needs to be stored. Store it all for now, but there's likely more interesting metadata to be added here. Examples might be a sentiment analysis score, GPT-generated summary, external links and internal links, etc. \n",
    "\n",
    "Upload to Weaviate with the uploaded data fitting the defined schema:"
   ]
  },
  {
   "cell_type": "code",
   "execution_count": 36,
   "metadata": {},
   "outputs": [],
   "source": [
    "upload_note = \"hello weaviate\"\n",
    "tags = \"test, weaviate, python\"\n",
    "\n",
    "with client.batch(batch_size=10) as batch:\n",
    "    for i, d in enumerate(data_objects):  \n",
    "        properties = {\n",
    "            'category': d['category'],\n",
    "            'text': d['text'],\n",
    "            'filename': d['filename'],\n",
    "            'page_number': d['page_number'],\n",
    "            'filetype': d['filetype'],\n",
    "            'date': date.today().strftime(\"%Y-%m-%d\"),\n",
    "            'upload_note': upload_note, # testing\n",
    "            'tags': tags # testing\n",
    "        }\n",
    "        batch.add_data_object(\n",
    "            properties,\n",
    "            'UnstructuredDocument',\n",
    "            uuid=generate_uuid5(properties),\n",
    "        )"
   ]
  },
  {
   "attachments": {},
   "cell_type": "markdown",
   "metadata": {},
   "source": [
    "## Querying Weaviate\n",
    "Once the data is in Weaviate, a NearText search (to research) can be performed to find concepts similar to user input:"
   ]
  },
  {
   "cell_type": "code",
   "execution_count": 6,
   "metadata": {},
   "outputs": [],
   "source": [
    "nearText = {\"concepts\": [\"climate\", \"science\"]}\n",
    "\n",
    "client = weaviate.Client(\n",
    "    url=weaviate_url,\n",
    "    auth_client_secret=weaviate.AuthApiKey(api_key=weaviate_api_key),\n",
    "    additional_headers= {\n",
    "        \"X-OpenAI-Api-Key\": openai_api_key,\n",
    "    }\n",
    ")\n",
    "\n",
    "\n",
    "response = (\n",
    "    client.query  # start a new query\n",
    "    .get(\"UnstructuredDocument\", [\"text\", \"upload_note\", \"tags\"])  # get objects of the \"UnstructuredDocument\" class and retrieve their \"text\" property\n",
    "    .with_near_text(nearText)  # find objects that are semantically similar to the text in \"nearText\"\n",
    "    .with_limit(4)  # limit the results to the top 2 most similar objects\n",
    "    .with_where({\n",
    "        \"path\": [\"tags\"],\n",
    "        \"operator\": \"Equal\",\n",
    "        \"valueString\": \"OneNation\"\n",
    "    })\n",
    "    .do()  # execute the query\n",
    ")\n",
    "\n"
   ]
  },
  {
   "cell_type": "code",
   "execution_count": 9,
   "metadata": {},
   "outputs": [],
   "source": [
    "import weaviate\n",
    "from dotenv import load_dotenv\n",
    "import os\n",
    "\n",
    "weaviate_url = os.getenv(\"WEAVIATE_URL\")\n",
    "weaviate_api_key = os.getenv(\"WEAVIATE_API_KEY\")\n",
    "openai_api_key=os.getenv(\"OPENAI_API_KEY\")\n",
    "\n",
    "load_dotenv()\n",
    "\n",
    "client = weaviate.Client(\n",
    "    url=weaviate_url,\n",
    "    auth_client_secret=weaviate.AuthApiKey(api_key=weaviate_api_key),\n",
    "    additional_headers= {\n",
    "        \"X-OpenAI-Api-Key\": openai_api_key,\n",
    "    }\n",
    ")\n",
    "\n",
    "nearText = {\"concepts\": [\"climate change\", \"science\"]}\n",
    "\n",
    "response = (\n",
    "    client.query  # start a new query\n",
    "    .get(\"UnstructuredDocument\", [\"text\", \"filename\", \"upload_note\", \"tags\"])  \n",
    "    .with_near_text(nearText)  \n",
    "    .with_limit(4) \n",
    "    .with_where({\n",
    "        \"path\": [\"tags\"],\n",
    "        \"operator\": \"Equal\",\n",
    "        \"valueString\": \"Nationals\"\n",
    "    })\n",
    "    .do() \n",
    ")"
   ]
  },
  {
   "cell_type": "code",
   "execution_count": 10,
   "metadata": {},
   "outputs": [
    {
     "data": {
      "text/plain": [
       "{'data': {'Get': {'UnstructuredDocument': [{'filename': 'The Nationals - Our Plan for the Great Barrier Reef.pdf',\n",
       "     'tags': 'Nationals',\n",
       "     'text': 'The Coalition’s investments in marine science are already benefitting ocean ecosystems and coastal communities. Australia is at the cutting edge of global efforts to help coral reefs adapt to climate change. By accelerating our restoration and adaptation projects, we’re improving coral resilience and helping to secure the Reef’s future. For example, more than 200 Australian marine scientists are working on how to protect and rebuild coral reefs on an industrial scale. This puts us at the centre of global efforts on reef restoration and, importantly, we’re sharing these solutions with our Pacific neighbours.',\n",
       "     'upload_note': ''},\n",
       "    {'filename': 'The Nationals - Our Plan for the Great Barrier Reef.pdf',\n",
       "     'tags': 'Nationals',\n",
       "     'text': 'Oceans, coral reefs and connected coastal ecosystems like seagrass meadows, mangroves and wetlands play a vital role in removing carbon dioxide from our atmosphere. Our Great Barrier Reef ecosystem is one of the world’s most powerful blue carbon sites.',\n",
       "     'upload_note': ''},\n",
       "    {'filename': 'The Nationals - Our Plan for the Great Barrier Reef.pdf',\n",
       "     'tags': 'Nationals',\n",
       "     'text': 'A re-elected Coalition Government will: invest $95.6 million to accelerate research aimed at helping the reef adapt to climate change and roll out the next phase of our Reef Restoration and Adaptation Program, including bringing forward reef seeding and stabilisation to boost coral resilience to a changing climate.; provide $63.6 million for the Australian Institute of Marine Science (AIMS), supporting thousands of jobs and businesses, including: $26.5 million to remediate the Australian Institute of Marine Science Cape Cleveland wharf, south of Townsville and $1.5 million in ongoing funding to maintain it.; $37.1 million to increase AIMS’ capability to deliver the critical marine science that protects and preserves oceans and coral reefs. Part of this capability building includes $5.3 million for design work on a replacement for the AIMS research vessel, RV Cape Ferguson.',\n",
       "     'upload_note': ''},\n",
       "    {'filename': 'The Nationals - Our Plan for the Great Barrier Reef.pdf',\n",
       "     'tags': 'Nationals',\n",
       "     'text': 'Our strong plan for the Reef builds on the Coalition’s existing environmental policies: the National Landcare Program supporting conservation efforts across the country.; protecting threatened species and restoring habitats through the Environment Restoration Fund.; keeping oceans healthy and resilient through our $100 million Oceans Leadership Package and marine bioregional plans.; investing in new technology to better detect, collect and dispose of deadly ghost nets lost at sea or abandoned by foreign fishing vessels.; expanding Australia’s Indigenous Protected Areas, for both land and sea country, bringing total protection to more than 115 million hectares.; ongoing investment in low emissions technologies and energy efficiency measures to support households, businesses and the environment.',\n",
       "     'upload_note': ''}]}}}"
      ]
     },
     "execution_count": 10,
     "metadata": {},
     "output_type": "execute_result"
    }
   ],
   "source": [
    "response"
   ]
  },
  {
   "cell_type": "code",
   "execution_count": 7,
   "metadata": {},
   "outputs": [
    {
     "ename": "KeyError",
     "evalue": "'data'",
     "output_type": "error",
     "traceback": [
      "\u001b[1;31m---------------------------------------------------------------------------\u001b[0m",
      "\u001b[1;31mKeyError\u001b[0m                                  Traceback (most recent call last)",
      "Cell \u001b[1;32mIn[7], line 2\u001b[0m\n\u001b[0;32m      1\u001b[0m \u001b[39m# extract text from response\u001b[39;00m\n\u001b[1;32m----> 2\u001b[0m \u001b[39mfor\u001b[39;00m i, r \u001b[39min\u001b[39;00m \u001b[39menumerate\u001b[39m(response[\u001b[39m'\u001b[39;49m\u001b[39mdata\u001b[39;49m\u001b[39m'\u001b[39;49m][\u001b[39m'\u001b[39m\u001b[39mGet\u001b[39m\u001b[39m'\u001b[39m][\u001b[39m'\u001b[39m\u001b[39mUnstructuredDocument\u001b[39m\u001b[39m'\u001b[39m]):\n\u001b[0;32m      3\u001b[0m     \u001b[39mprint\u001b[39m(\u001b[39m\"\u001b[39m\u001b[39m{0}\u001b[39;00m\u001b[39m: \u001b[39m\u001b[39m\\n\u001b[39;00m\u001b[39mupload note: \u001b[39m\u001b[39m{1}\u001b[39;00m\u001b[39m\\n\u001b[39;00m\u001b[39mtags: \u001b[39m\u001b[39m{2}\u001b[39;00m\u001b[39m\\n\u001b[39;00m\u001b[39m{3}\u001b[39;00m\u001b[39m\\n\u001b[39;00m\u001b[39m\"\u001b[39m\n\u001b[0;32m      4\u001b[0m     \u001b[39m.\u001b[39mformat(i\u001b[39m+\u001b[39m\u001b[39m1\u001b[39m, r[\u001b[39m'\u001b[39m\u001b[39mupload_note\u001b[39m\u001b[39m'\u001b[39m], r[\u001b[39m'\u001b[39m\u001b[39mtags\u001b[39m\u001b[39m'\u001b[39m], r[\u001b[39m'\u001b[39m\u001b[39mtext\u001b[39m\u001b[39m'\u001b[39m][:\u001b[39m100\u001b[39m] \u001b[39m+\u001b[39m \u001b[39m'\u001b[39m\u001b[39m...\u001b[39m\u001b[39m'\u001b[39m))\n",
      "\u001b[1;31mKeyError\u001b[0m: 'data'"
     ]
    }
   ],
   "source": [
    "# extract text from response\n",
    "for i, r in enumerate(response['data']['Get']['UnstructuredDocument']):\n",
    "    print(\"{0}: \\nupload note: {1}\\ntags: {2}\\n{3}\\n\"\n",
    "    .format(i+1, r['upload_note'], r['tags'], r['text'][:100] + '...'))"
   ]
  }
 ],
 "metadata": {
  "kernelspec": {
   "display_name": "your-libary",
   "language": "python",
   "name": "python3"
  },
  "language_info": {
   "codemirror_mode": {
    "name": "ipython",
    "version": 3
   },
   "file_extension": ".py",
   "mimetype": "text/x-python",
   "name": "python",
   "nbconvert_exporter": "python",
   "pygments_lexer": "ipython3",
   "version": "3.11.4"
  },
  "orig_nbformat": 4
 },
 "nbformat": 4,
 "nbformat_minor": 2
}
